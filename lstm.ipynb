{
 "cells": [
  {
   "cell_type": "markdown",
   "id": "a2df4895",
   "metadata": {},
   "source": [
    "LSTM!!!!!!"
   ]
  },
  {
   "cell_type": "code",
   "execution_count": 2,
   "id": "6864c859",
   "metadata": {},
   "outputs": [],
   "source": [
    "import numpy as np\n",
    "import pandas as pd\n",
    "import os\n",
    "import pickle\n",
    "import re\n",
    "import warnings\n",
    "from sklearn.preprocessing import StandardScaler, MinMaxScaler\n",
    "from sklearn.model_selection import train_test_split\n",
    "import torch #pytorch\n",
    "import torch.nn as nn\n",
    "from torch.autograd import Variable "
   ]
  },
  {
   "cell_type": "code",
   "execution_count": 3,
   "id": "0accdb43",
   "metadata": {},
   "outputs": [],
   "source": [
    "os.getcwd()\n",
    "# from thon.Choose import choose_features\n",
    "from thon.churn_functions import modernize, out_eval, bake, simple_split\n",
    "#data = choose_features(\"data/out/features.csv\", cv_range = (0, 30), save = False)"
   ]
  },
  {
   "cell_type": "code",
   "execution_count": 4,
   "id": "dfee734c",
   "metadata": {},
   "outputs": [],
   "source": [
    "data = pd.read_csv(\"data/out/features.csv\")\n",
    "X, y = data.drop(columns = ['n']), data[['n']]"
   ]
  },
  {
   "cell_type": "code",
   "execution_count": null,
   "id": "ab5d6599",
   "metadata": {},
   "outputs": [],
   "source": [
    "# needs feature selection"
   ]
  },
  {
   "cell_type": "code",
   "execution_count": 5,
   "id": "64e3f3ac",
   "metadata": {},
   "outputs": [],
   "source": [
    "ss = StandardScaler\n",
    "\n",
    "X_scaler = ss().fit(X)\n",
    "y_scaler = ss().fit(y)"
   ]
  },
  {
   "cell_type": "code",
   "execution_count": 6,
   "id": "8f862ca3",
   "metadata": {},
   "outputs": [],
   "source": [
    "# X_train, X_test, y_train, y_test = train_test_split(X_ss, y_ss, test_size = .1, shuffle = False)\n",
    "X_train, X_test, y_train, y_test = simple_split(X, y, 120)"
   ]
  },
  {
   "cell_type": "code",
   "execution_count": null,
   "id": "bb3ea99b",
   "metadata": {},
   "outputs": [],
   "source": []
  },
  {
   "cell_type": "code",
   "execution_count": 282,
   "id": "0ddf2ed6",
   "metadata": {},
   "outputs": [],
   "source": [
    "X_train_tensors = Variable(torch.Tensor(X_scaler.transform(X_train)))\n",
    "X_test_tensors = Variable(torch.Tensor(X_scaler.transform(X_test)))\n",
    "\n",
    "y_train_tensors = Variable(torch.Tensor(y_scaler.transform(y_train)))\n",
    "y_test_tensors = Variable(torch.Tensor(y_scaler.transform(y_test)))"
   ]
  },
  {
   "cell_type": "code",
   "execution_count": 137,
   "id": "9854e4f5",
   "metadata": {},
   "outputs": [
    {
     "data": {
      "text/plain": [
       "tensor(0.4072)"
      ]
     },
     "execution_count": 137,
     "metadata": {},
     "output_type": "execute_result"
    }
   ],
   "source": []
  },
  {
   "cell_type": "code",
   "execution_count": 283,
   "id": "b35b1758",
   "metadata": {},
   "outputs": [],
   "source": [
    "#reshaping to rows, timestamps, features\n",
    "# is this the right shape?\n",
    "X_train_tensors_final = torch.reshape(X_train_tensors,   (X_train_tensors.shape[0], 1, X_train_tensors.shape[1]))\n",
    "\n",
    "\n",
    "X_test_tensors_final = torch.reshape(X_test_tensors,  (X_test_tensors.shape[0], 1, X_test_tensors.shape[1]))"
   ]
  },
  {
   "cell_type": "code",
   "execution_count": 284,
   "id": "52a09e4a",
   "metadata": {},
   "outputs": [
    {
     "data": {
      "text/plain": [
       "tensor([[[-1.8439, -2.2585, -1.5432,  ..., -0.6810,  0.8207, -1.6565]],\n",
       "\n",
       "        [[-1.1968, -2.5231, -1.6419,  ..., -0.5012, -0.0489, -1.6565]],\n",
       "\n",
       "        [[-0.3032, -1.8415, -1.5626,  ..., -0.4636,  1.7073, -1.6565]],\n",
       "\n",
       "        ...,\n",
       "\n",
       "        [[-0.5189,  0.6896, -0.4078,  ..., -0.2375, -1.0668,  1.1043]],\n",
       "\n",
       "        [[-0.2416,  0.8161, -0.5961,  ...,  0.1484, -0.5192,  1.1043]],\n",
       "\n",
       "        [[-0.1491,  0.7632, -0.5713,  ...,  0.2671, -0.8843,  1.1043]]])"
      ]
     },
     "execution_count": 284,
     "metadata": {},
     "output_type": "execute_result"
    }
   ],
   "source": [
    "X_train_tensors_final"
   ]
  },
  {
   "cell_type": "code",
   "execution_count": null,
   "id": "5a8aaf05",
   "metadata": {},
   "outputs": [],
   "source": []
  },
  {
   "cell_type": "code",
   "execution_count": null,
   "id": "480da13b",
   "metadata": {},
   "outputs": [],
   "source": []
  },
  {
   "cell_type": "code",
   "execution_count": 76,
   "id": "cfee9c62",
   "metadata": {},
   "outputs": [
    {
     "name": "stdout",
     "output_type": "stream",
     "text": [
      "Training Shape torch.Size([120, 1, 74]) torch.Size([120, 1])\n",
      "Testing Shape torch.Size([30, 1, 74]) torch.Size([30, 1])\n"
     ]
    }
   ],
   "source": [
    "print(\"Training Shape\", X_train_tensors_final.shape, y_train_tensors.shape)\n",
    "print(\"Testing Shape\", X_test_tensors_final.shape, y_test_tensors.shape) "
   ]
  },
  {
   "cell_type": "code",
   "execution_count": 77,
   "id": "4cdd18bb",
   "metadata": {},
   "outputs": [],
   "source": [
    "class LSTM1(nn.Module):\n",
    "    def __init__(self, num_classes, input_size, hidden_size, num_layers, seq_length):\n",
    "        super(LSTM1, self).__init__()\n",
    "        self.num_classes = num_classes #number of classes\n",
    "        self.num_layers = num_layers #number of layers\n",
    "        self.input_size = input_size #input size\n",
    "        self.hidden_size = hidden_size #hidden state\n",
    "        self.seq_length = seq_length #sequence length\n",
    "\n",
    "        self.lstm = nn.LSTM(input_size=input_size, hidden_size=hidden_size,\n",
    "                          num_layers=num_layers, proj_size = 3) #lstm\n",
    "        self.fc_1 =  nn.Linear(hidden_size, 32) #fully connected 1\n",
    "        self.fc = nn.Linear(32, num_classes) #fully connected last layer\n",
    "\n",
    "        self.relu = nn.ReLU()\n",
    "    \n",
    "    def forward(self,x):\n",
    "        h_0 = Variable(torch.zeros(self.num_layers, x.size(0), self.hidden_size)) #hidden state\n",
    "        c_0 = Variable(torch.zeros(self.num_layers, x.size(0), self.hidden_size)) #internal state\n",
    "        # Propagate input through LSTM\n",
    "        output, (hn, cn) = self.lstm(x, (h_0, c_0)) #lstm with input, hidden, and internal state\n",
    "        hn = hn.view(-1, self.hidden_size) #reshaping the data for Dense layer next\n",
    "        out = self.relu(hn)\n",
    "        out = self.fc_1(out) #first Dense\n",
    "        out = self.relu(out) #relu\n",
    "        out = self.fc(out) #Final Output\n",
    "        return out"
   ]
  },
  {
   "cell_type": "code",
   "execution_count": 238,
   "id": "bf1ca787",
   "metadata": {},
   "outputs": [],
   "source": [
    "num_epochs = 100 #1000 epochs\n",
    "learning_rate = 0.01 #0.001 lr\n",
    "\n",
    "input_size = 74 #number of features\n",
    "hidden_size = 12 #number of features in hidden state\n",
    "num_layers = 1 #number of stacked layers\n",
    "\n",
    "num_classes = 1 #number of output classes "
   ]
  },
  {
   "cell_type": "code",
   "execution_count": 79,
   "id": "360b759d",
   "metadata": {},
   "outputs": [],
   "source": [
    "lstm1 = LSTM1(num_classes, input_size, hidden_size, num_layers, X_train_tensors_final.shape[1]) #our lstm class "
   ]
  },
  {
   "cell_type": "code",
   "execution_count": 239,
   "id": "94050ff3",
   "metadata": {},
   "outputs": [],
   "source": [
    "class GRUNet(nn.Module):\n",
    "    def __init__(self, input_size, hidden_size, num_classes, num_layers):\n",
    "        super(GRUNet, self).__init__()\n",
    "        self.hidden_size = hidden_size\n",
    "        self.num_layers = num_layers\n",
    "        \n",
    "        self.gru = nn.GRU(input_size, hidden_size, num_layers, batch_first=True)\n",
    "        self.fc = nn.Linear(hidden_size, num_classes)\n",
    "        self.relu = nn.ReLU()\n",
    "        \n",
    "    def forward(self, x):\n",
    "        h_0 = Variable(torch.zeros(self.num_layers, x.size(0), self.hidden_size)) #hidden state\n",
    "        # Propagate input through LSTM\n",
    "        output, hn = self.gru(x, h_0) #lstm with input, hidden, and internal state\n",
    "        hn = hn.view(-1, self.hidden_size) #reshaping the data for Dense layer next\n",
    "        out = self.relu(hn)\n",
    "        out = self.fc(out) #first Dense\n",
    "        return out"
   ]
  },
  {
   "cell_type": "code",
   "execution_count": 240,
   "id": "79be147e",
   "metadata": {},
   "outputs": [],
   "source": [
    "gru = GRUNet(input_size, hidden_size, num_classes, num_layers)"
   ]
  },
  {
   "cell_type": "code",
   "execution_count": 241,
   "id": "75358bac",
   "metadata": {},
   "outputs": [],
   "source": [
    "criterion = torch.nn.MSELoss()    # mean-squared error for regression\n",
    "optimizer = torch.optim.Adam(gru.parameters(), lr=learning_rate) "
   ]
  },
  {
   "cell_type": "code",
   "execution_count": 259,
   "id": "153a8213",
   "metadata": {},
   "outputs": [
    {
     "name": "stdout",
     "output_type": "stream",
     "text": [
      "Epoch: 1, loss: 0.00197\n",
      "Epoch: 11, loss: 0.00182\n",
      "Epoch: 21, loss: 0.00183\n",
      "Epoch: 31, loss: 0.00180\n",
      "Epoch: 41, loss: 0.00178\n",
      "Epoch: 51, loss: 0.00177\n",
      "Epoch: 61, loss: 0.00176\n",
      "Epoch: 71, loss: 0.00175\n",
      "Epoch: 81, loss: 0.00174\n",
      "Epoch: 91, loss: 0.00173\n"
     ]
    }
   ],
   "source": [
    "for epoch in range(num_epochs):\n",
    "    \n",
    "    outputs = gru(X_train_tensors_final)\n",
    "\n",
    "    optimizer.zero_grad()\n",
    "\n",
    "    loss = criterion(outputs, y_train_tensors)\n",
    "\n",
    "    loss.backward()\n",
    "\n",
    "    optimizer.step()\n",
    "\n",
    "    if epoch % (num_epochs//10) == 1:\n",
    "        print(\"Epoch: %d, loss: %1.5f\" % (epoch, loss.item())) "
   ]
  },
  {
   "cell_type": "code",
   "execution_count": null,
   "id": "3fcfe21f",
   "metadata": {},
   "outputs": [],
   "source": []
  },
  {
   "cell_type": "code",
   "execution_count": null,
   "id": "c5568ae0",
   "metadata": {},
   "outputs": [],
   "source": []
  },
  {
   "cell_type": "code",
   "execution_count": 260,
   "id": "30ff6e27",
   "metadata": {},
   "outputs": [],
   "source": [
    "df_X_ss = X_scaler.transform(data.drop(columns = 'n')) #old transformers\n",
    "df_y_mm = y_scaler.transform(data[['n']]) #old transformers\n",
    "\n",
    "df_X_ss = Variable(torch.Tensor(df_X_ss)) #converting to Tensors\n",
    "df_y_mm = Variable(torch.Tensor(df_y_mm))\n",
    "\n",
    "#reshaping the dataset\n",
    "df_X_ss = torch.reshape(df_X_ss, (df_X_ss.shape[0], df_X_ss.shape[1]))"
   ]
  },
  {
   "cell_type": "code",
   "execution_count": 90,
   "id": "beeefe87",
   "metadata": {},
   "outputs": [
    {
     "data": {
      "text/plain": [
       "torch.Size([150, 74])"
      ]
     },
     "execution_count": 90,
     "metadata": {},
     "output_type": "execute_result"
    }
   ],
   "source": [
    "df_X_ss.shape"
   ]
  },
  {
   "cell_type": "code",
   "execution_count": null,
   "id": "8ec8ffeb",
   "metadata": {},
   "outputs": [],
   "source": []
  },
  {
   "cell_type": "code",
   "execution_count": 261,
   "id": "18c06037",
   "metadata": {},
   "outputs": [],
   "source": [
    "with torch.no_grad():\n",
    "    lstm1.eval()\n",
    "    train_pred = gru(X_train_tensors_final)#forward pass\n",
    "    \n",
    "train_pred = train_pred.data.numpy() #numpy conversion\n",
    "train_pred = y_scaler.inverse_transform(train_pred)\n",
    "# plot_eval(y_train, train_pred)"
   ]
  },
  {
   "cell_type": "code",
   "execution_count": null,
   "id": "22439f3f",
   "metadata": {},
   "outputs": [],
   "source": []
  },
  {
   "cell_type": "code",
   "execution_count": 262,
   "id": "adac4cbb",
   "metadata": {},
   "outputs": [],
   "source": [
    "# test prediction\n",
    "with torch.no_grad():\n",
    "    gru.eval()\n",
    "    test_pred = gru(X_test_tensors_final)#forward pass\n",
    "    \n",
    "test_pred = test_pred.data.numpy() #numpy conversion\n",
    "test_pred = y_scaler.inverse_transform(test_pred)"
   ]
  },
  {
   "cell_type": "code",
   "execution_count": 263,
   "id": "aef703d5",
   "metadata": {},
   "outputs": [],
   "source": [
    "X_modern = modernize(X_train)\n",
    "X_modern_tensors = Variable(torch.Tensor(X_scaler.transform(X_modern)))\n",
    "X_modern_tensors_final = torch.reshape(X_modern_tensors, (X_modern_tensors.shape[0], 1, X_modern_tensors.shape[1]))"
   ]
  },
  {
   "cell_type": "code",
   "execution_count": 264,
   "id": "0c9917f5",
   "metadata": {},
   "outputs": [],
   "source": [
    "with torch.no_grad():\n",
    "    gru.eval()\n",
    "    pred = gru(X_modern_tensors_final)#forward pass"
   ]
  },
  {
   "cell_type": "code",
   "execution_count": 265,
   "id": "a0896106",
   "metadata": {},
   "outputs": [
    {
     "data": {
      "text/plain": [
       "array([[345.82810308],\n",
       "       [307.09483594],\n",
       "       [312.03810405]])"
      ]
     },
     "execution_count": 265,
     "metadata": {},
     "output_type": "execute_result"
    }
   ],
   "source": [
    "y_pred = y_scaler.inverse_transform(pred)\n",
    "y_pred"
   ]
  },
  {
   "cell_type": "code",
   "execution_count": 266,
   "id": "bde16853",
   "metadata": {},
   "outputs": [],
   "source": [
    "out2 = out[out['group'] != 'test']"
   ]
  },
  {
   "cell_type": "code",
   "execution_count": null,
   "id": "16b75c99",
   "metadata": {},
   "outputs": [],
   "source": []
  },
  {
   "cell_type": "code",
   "execution_count": 267,
   "id": "4c1c3cf1",
   "metadata": {},
   "outputs": [
    {
     "name": "stderr",
     "output_type": "stream",
     "text": [
      "C:\\Users\\keato\\AppData\\Local\\Temp\\ipykernel_1524\\3469323894.py:2: SettingWithCopyWarning: \n",
      "A value is trying to be set on a copy of a slice from a DataFrame.\n",
      "Try using .loc[row_indexer,col_indexer] = value instead\n",
      "\n",
      "See the caveats in the documentation: https://pandas.pydata.org/pandas-docs/stable/user_guide/indexing.html#returning-a-view-versus-a-copy\n",
      "  t2[['pred']] = t2[['pred']].shift(-3)\n"
     ]
    }
   ],
   "source": [
    "t2 = out[out['group'] == 'test']\n",
    "t2[['pred']] = t2[['pred']].shift(-3)"
   ]
  },
  {
   "cell_type": "code",
   "execution_count": 268,
   "id": "e8016aa7",
   "metadata": {},
   "outputs": [],
   "source": [
    "oo = pd.concat([out2, t2], axis= 0)\n",
    "oo.drop([147, 148, 149], axis = 0, inplace = True)"
   ]
  },
  {
   "cell_type": "code",
   "execution_count": 269,
   "id": "bf023a17",
   "metadata": {},
   "outputs": [],
   "source": [
    "out = bake(y_train.squeeze(), y_test.squeeze(), train_pred.squeeze(), test_pred.squeeze(), y_pred.squeeze())"
   ]
  },
  {
   "cell_type": "code",
   "execution_count": 270,
   "id": "9a91b03b",
   "metadata": {},
   "outputs": [
    {
     "name": "stdout",
     "output_type": "stream",
     "text": [
      "7.9114970815076955 5757.127648026838\n"
     ]
    },
    {
     "data": {
      "image/png": "[encoded data removed]",
      "text/plain": [
       "<Figure size 640x480 with 1 Axes>"
      ]
     },
     "metadata": {},
     "output_type": "display_data"
    }
   ],
   "source": [
    "import sklearn\n",
    "out_eval(out, sklearn.metrics.mean_squared_error)"
   ]
  },
  {
   "cell_type": "code",
   "execution_count": 271,
   "id": "1e2003da",
   "metadata": {},
   "outputs": [],
   "source": [
    "from thon.models import lasso\n",
    "features = lasso.lasso_vars(scoring = \"neg_mean_squared_error\",\n",
    "               split = 120)"
   ]
  },
  {
   "cell_type": "code",
   "execution_count": 2,
   "id": "24408e99",
   "metadata": {},
   "outputs": [
    {
     "name": "stdout",
     "output_type": "stream",
     "text": [
      "Epoch: 0, loss: 0.16898\n",
      "Epoch: 100, loss: 0.01025\n",
      "Epoch: 200, loss: 0.00805\n",
      "Epoch: 300, loss: 0.00577\n",
      "Epoch: 400, loss: 0.00482\n",
      "Epoch: 500, loss: 0.00437\n",
      "Epoch: 600, loss: 0.00409\n",
      "Epoch: 700, loss: 0.00392\n",
      "Epoch: 800, loss: 0.00377\n",
      "Epoch: 900, loss: 0.00365\n"
     ]
    }
   ],
   "source": [
    "from thon.models import lstm\n",
    "from sklearn.preprocessing import MinMaxScaler\n",
    "\n",
    "out = lstm.run_lstm(split = 132,\n",
    "             num_epochs = 1000,\n",
    "             learning_rate = 0.001,\n",
    "             feature_selection = features,\n",
    "             data_dir = \"data/out/features.csv\",\n",
    "             targetvar = 'n')"
   ]
  },
  {
   "cell_type": "code",
   "execution_count": 3,
   "id": "bfe5e963",
   "metadata": {},
   "outputs": [],
   "source": [
    "def out_eval(data, metric):\n",
    "    \n",
    "    # split data\n",
    "    train = data[data['group'] == 'train']\n",
    "    test = data[data['group'] == 'test']\n",
    "    pred = data[data['group'] == 'pred']\n",
    "    \n",
    "    train_metric = metric(train['pred'], train['actual'])\n",
    "    test_metric = metric(test['pred'], test['actual'])\n",
    "\n",
    "    \n",
    "    plt.plot(train['actual'], 'g')\n",
    "    plt.plot(train['pred'], 'g--')\n",
    "    plt.plot(test['actual'], 'b')\n",
    "    plt.plot(test['pred'], 'b--')\n",
    "    plt.plot(pred['pred'], 'r')    \n",
    "    return(train_metric, test_metric)"
   ]
  },
  {
   "cell_type": "code",
   "execution_count": 4,
   "id": "fc0e5ec3",
   "metadata": {},
   "outputs": [
    {
     "data": {
      "image/png": "[encoded data removed]",
      "text/plain": [
       "<Figure size 640x480 with 1 Axes>"
      ]
     },
     "metadata": {},
     "output_type": "display_data"
    }
   ],
   "source": [
    "import sklearn.metrics as metrics\n",
    "import matplotlib.pyplot as plt\n",
    "out_eval(out, metrics.mean_squared_error)"
   ]
  },
  {
   "cell_type": "code",
   "execution_count": 272,
   "id": "7258dd4d",
   "metadata": {},
   "outputs": [
    {
     "ename": "NameError",
     "evalue": "name 'lstm' is not defined",
     "output_type": "error",
     "traceback": [
      "\u001b[1;31m---------------------------------------------------------------------------\u001b[0m",
      "\u001b[1;31mNameError\u001b[0m                                 Traceback (most recent call last)",
      "Cell \u001b[1;32mIn[272], line 5\u001b[0m\n\u001b[0;32m      2\u001b[0m test_met \u001b[38;5;241m=\u001b[39m []\n\u001b[0;32m      4\u001b[0m \u001b[38;5;28;01mfor\u001b[39;00m e \u001b[38;5;129;01min\u001b[39;00m \u001b[38;5;28mrange\u001b[39m(\u001b[38;5;241m100\u001b[39m, \u001b[38;5;241m2000\u001b[39m, \u001b[38;5;241m200\u001b[39m):\n\u001b[1;32m----> 5\u001b[0m     out \u001b[38;5;241m=\u001b[39m \u001b[43mlstm\u001b[49m\u001b[38;5;241m.\u001b[39mrun_lstm(split \u001b[38;5;241m=\u001b[39m \u001b[38;5;241m108\u001b[39m,\n\u001b[0;32m      6\u001b[0m              num_epochs \u001b[38;5;241m=\u001b[39m e,\n\u001b[0;32m      7\u001b[0m              learning_rate \u001b[38;5;241m=\u001b[39m \u001b[38;5;241m0.005\u001b[39m,\n\u001b[0;32m      8\u001b[0m              feature_selection \u001b[38;5;241m=\u001b[39m features,\n\u001b[0;32m      9\u001b[0m              data_dir \u001b[38;5;241m=\u001b[39m \u001b[38;5;124m\"\u001b[39m\u001b[38;5;124mdata/out/features.csv\u001b[39m\u001b[38;5;124m\"\u001b[39m,\n\u001b[0;32m     10\u001b[0m              targetvar \u001b[38;5;241m=\u001b[39m \u001b[38;5;124m'\u001b[39m\u001b[38;5;124mn\u001b[39m\u001b[38;5;124m'\u001b[39m)\n\u001b[0;32m     11\u001b[0m     a \u001b[38;5;241m=\u001b[39m out_eval(out, metrics\u001b[38;5;241m.\u001b[39mmean_squared_error)\n\u001b[0;32m     13\u001b[0m     train_met\u001b[38;5;241m.\u001b[39mappend(a[\u001b[38;5;241m0\u001b[39m])\n",
      "\u001b[1;31mNameError\u001b[0m: name 'lstm' is not defined"
     ]
    }
   ],
   "source": [
    "train_met = []\n",
    "test_met = []\n",
    "\n",
    "for e in range(100, 2000, 200):\n",
    "    out = lstm.run_lstm(split = 108,\n",
    "             num_epochs = e,\n",
    "             learning_rate = 0.005,\n",
    "             feature_selection = features,\n",
    "             data_dir = \"data/out/features.csv\",\n",
    "             targetvar = 'n')\n",
    "    a = out_eval(out, metrics.mean_squared_error)\n",
    "    \n",
    "    train_met.append(a[0])\n",
    "    test_met.append(a[1])"
   ]
  },
  {
   "cell_type": "code",
   "execution_count": 300,
   "id": "0ee5ec68",
   "metadata": {},
   "outputs": [
    {
     "ename": "AttributeError",
     "evalue": "'Tensor' object has no attribute 'index'",
     "output_type": "error",
     "traceback": [
      "\u001b[1;31m---------------------------------------------------------------------------\u001b[0m",
      "\u001b[1;31mAttributeError\u001b[0m                            Traceback (most recent call last)",
      "Cell \u001b[1;32mIn[300], line 1\u001b[0m\n\u001b[1;32m----> 1\u001b[0m \u001b[43mX_train_tensors_final\u001b[49m\u001b[38;5;241;43m.\u001b[39;49m\u001b[43mindex\u001b[49m\n",
      "\u001b[1;31mAttributeError\u001b[0m: 'Tensor' object has no attribute 'index'"
     ]
    }
   ],
   "source": [
    "X_train_tensors_final.index"
   ]
  },
  {
   "cell_type": "code",
   "execution_count": 297,
   "id": "16f74106",
   "metadata": {},
   "outputs": [
    {
     "ename": "RuntimeError",
     "evalue": "gather(): Expected dtype int64 for index",
     "output_type": "error",
     "traceback": [
      "\u001b[1;31m---------------------------------------------------------------------------\u001b[0m",
      "\u001b[1;31mRuntimeError\u001b[0m                              Traceback (most recent call last)",
      "Cell \u001b[1;32mIn[297], line 3\u001b[0m\n\u001b[0;32m      1\u001b[0m \u001b[38;5;28;01mfrom\u001b[39;00m \u001b[38;5;21;01mcaptum\u001b[39;00m\u001b[38;5;21;01m.\u001b[39;00m\u001b[38;5;21;01mattr\u001b[39;00m \u001b[38;5;28;01mimport\u001b[39;00m FeaturePermutation\n\u001b[0;32m      2\u001b[0m feature_perm \u001b[38;5;241m=\u001b[39m FeaturePermutation(gru\u001b[38;5;241m.\u001b[39meval())\n\u001b[1;32m----> 3\u001b[0m attr \u001b[38;5;241m=\u001b[39m \u001b[43mfeature_perm\u001b[49m\u001b[38;5;241;43m.\u001b[39;49m\u001b[43mattribute\u001b[49m\u001b[43m(\u001b[49m\u001b[43mX_train_tensors_final\u001b[49m\u001b[43m,\u001b[49m\u001b[43m \u001b[49m\u001b[43mtarget\u001b[49m\u001b[38;5;241;43m=\u001b[39;49m\u001b[43my_train_tensors\u001b[49m\u001b[38;5;241;43m.\u001b[39;49m\u001b[43msqueeze\u001b[49m\u001b[43m(\u001b[49m\u001b[43m)\u001b[49m\u001b[43m)\u001b[49m\n",
      "File \u001b[1;32m~\\AppData\\Local\\Programs\\Python\\Python310\\lib\\site-packages\\captum\\log\\__init__.py:42\u001b[0m, in \u001b[0;36mlog_usage.<locals>._log_usage.<locals>.wrapper\u001b[1;34m(*args, **kwargs)\u001b[0m\n\u001b[0;32m     40\u001b[0m \u001b[38;5;129m@wraps\u001b[39m(func)\n\u001b[0;32m     41\u001b[0m \u001b[38;5;28;01mdef\u001b[39;00m \u001b[38;5;21mwrapper\u001b[39m(\u001b[38;5;241m*\u001b[39margs, \u001b[38;5;241m*\u001b[39m\u001b[38;5;241m*\u001b[39mkwargs):\n\u001b[1;32m---> 42\u001b[0m     \u001b[38;5;28;01mreturn\u001b[39;00m func(\u001b[38;5;241m*\u001b[39margs, \u001b[38;5;241m*\u001b[39m\u001b[38;5;241m*\u001b[39mkwargs)\n",
      "File \u001b[1;32m~\\AppData\\Local\\Programs\\Python\\Python310\\lib\\site-packages\\captum\\attr\\_core\\feature_permutation.py:258\u001b[0m, in \u001b[0;36mFeaturePermutation.attribute\u001b[1;34m(self, inputs, target, additional_forward_args, feature_mask, perturbations_per_eval, show_progress, **kwargs)\u001b[0m\n\u001b[0;32m     92\u001b[0m \u001b[38;5;129m@log_usage\u001b[39m()\n\u001b[0;32m     93\u001b[0m \u001b[38;5;28;01mdef\u001b[39;00m \u001b[38;5;21mattribute\u001b[39m(  \u001b[38;5;66;03m# type: ignore\u001b[39;00m\n\u001b[0;32m     94\u001b[0m     \u001b[38;5;28mself\u001b[39m,\n\u001b[1;32m   (...)\u001b[0m\n\u001b[0;32m    101\u001b[0m     \u001b[38;5;241m*\u001b[39m\u001b[38;5;241m*\u001b[39mkwargs: Any,\n\u001b[0;32m    102\u001b[0m ) \u001b[38;5;241m-\u001b[39m\u001b[38;5;241m>\u001b[39m TensorOrTupleOfTensorsGeneric:\n\u001b[0;32m    103\u001b[0m \u001b[38;5;250m    \u001b[39m\u001b[38;5;124mr\u001b[39m\u001b[38;5;124;03m\"\"\"\u001b[39;00m\n\u001b[0;32m    104\u001b[0m \u001b[38;5;124;03m    This function is almost equivalent to\u001b[39;00m\n\u001b[0;32m    105\u001b[0m \u001b[38;5;124;03m    :func:`FeatureAblation.attribute <captum.attr.FeatureAblation.attribute>`. The\u001b[39;00m\n\u001b[1;32m   (...)\u001b[0m\n\u001b[0;32m    256\u001b[0m \u001b[38;5;124;03m        >>>                               feature_mask=feature_mask)\u001b[39;00m\n\u001b[0;32m    257\u001b[0m \u001b[38;5;124;03m    \"\"\"\u001b[39;00m\n\u001b[1;32m--> 258\u001b[0m     \u001b[38;5;28;01mreturn\u001b[39;00m FeatureAblation\u001b[38;5;241m.\u001b[39mattribute\u001b[38;5;241m.\u001b[39m__wrapped__(\n\u001b[0;32m    259\u001b[0m         \u001b[38;5;28mself\u001b[39m,\n\u001b[0;32m    260\u001b[0m         inputs,\n\u001b[0;32m    261\u001b[0m         baselines\u001b[38;5;241m=\u001b[39m\u001b[38;5;28;01mNone\u001b[39;00m,\n\u001b[0;32m    262\u001b[0m         target\u001b[38;5;241m=\u001b[39mtarget,\n\u001b[0;32m    263\u001b[0m         additional_forward_args\u001b[38;5;241m=\u001b[39madditional_forward_args,\n\u001b[0;32m    264\u001b[0m         feature_mask\u001b[38;5;241m=\u001b[39mfeature_mask,\n\u001b[0;32m    265\u001b[0m         perturbations_per_eval\u001b[38;5;241m=\u001b[39mperturbations_per_eval,\n\u001b[0;32m    266\u001b[0m         show_progress\u001b[38;5;241m=\u001b[39mshow_progress,\n\u001b[0;32m    267\u001b[0m         \u001b[38;5;241m*\u001b[39m\u001b[38;5;241m*\u001b[39mkwargs,\n\u001b[0;32m    268\u001b[0m     )\n",
      "File \u001b[1;32m~\\AppData\\Local\\Programs\\Python\\Python310\\lib\\site-packages\\captum\\attr\\_core\\feature_ablation.py:292\u001b[0m, in \u001b[0;36mFeatureAblation.attribute\u001b[1;34m(self, inputs, baselines, target, additional_forward_args, feature_mask, perturbations_per_eval, show_progress, **kwargs)\u001b[0m\n\u001b[0;32m    288\u001b[0m     attr_progress\u001b[38;5;241m.\u001b[39mupdate(\u001b[38;5;241m0\u001b[39m)\n\u001b[0;32m    290\u001b[0m \u001b[38;5;66;03m# Computes initial evaluation with all features, which is compared\u001b[39;00m\n\u001b[0;32m    291\u001b[0m \u001b[38;5;66;03m# to each ablated result.\u001b[39;00m\n\u001b[1;32m--> 292\u001b[0m initial_eval \u001b[38;5;241m=\u001b[39m \u001b[38;5;28;43mself\u001b[39;49m\u001b[38;5;241;43m.\u001b[39;49m\u001b[43m_strict_run_forward\u001b[49m\u001b[43m(\u001b[49m\n\u001b[0;32m    293\u001b[0m \u001b[43m    \u001b[49m\u001b[38;5;28;43mself\u001b[39;49m\u001b[38;5;241;43m.\u001b[39;49m\u001b[43mforward_func\u001b[49m\u001b[43m,\u001b[49m\u001b[43m \u001b[49m\u001b[43minputs\u001b[49m\u001b[43m,\u001b[49m\u001b[43m \u001b[49m\u001b[43mtarget\u001b[49m\u001b[43m,\u001b[49m\u001b[43m \u001b[49m\u001b[43madditional_forward_args\u001b[49m\n\u001b[0;32m    294\u001b[0m \u001b[43m\u001b[49m\u001b[43m)\u001b[49m\n\u001b[0;32m    296\u001b[0m \u001b[38;5;28;01mif\u001b[39;00m show_progress:\n\u001b[0;32m    297\u001b[0m     attr_progress\u001b[38;5;241m.\u001b[39mupdate()\n",
      "File \u001b[1;32m~\\AppData\\Local\\Programs\\Python\\Python310\\lib\\site-packages\\captum\\attr\\_core\\feature_ablation.py:602\u001b[0m, in \u001b[0;36mFeatureAblation._strict_run_forward\u001b[1;34m(self, *args, **kwargs)\u001b[0m\n\u001b[0;32m    596\u001b[0m \u001b[38;5;28;01mdef\u001b[39;00m \u001b[38;5;21m_strict_run_forward\u001b[39m(\u001b[38;5;28mself\u001b[39m, \u001b[38;5;241m*\u001b[39margs, \u001b[38;5;241m*\u001b[39m\u001b[38;5;241m*\u001b[39mkwargs) \u001b[38;5;241m-\u001b[39m\u001b[38;5;241m>\u001b[39m Tensor:\n\u001b[0;32m    597\u001b[0m \u001b[38;5;250m    \u001b[39m\u001b[38;5;124;03m\"\"\"\u001b[39;00m\n\u001b[0;32m    598\u001b[0m \u001b[38;5;124;03m    A temp wrapper for global _run_forward util to force forward output\u001b[39;00m\n\u001b[0;32m    599\u001b[0m \u001b[38;5;124;03m    type assertion & conversion.\u001b[39;00m\n\u001b[0;32m    600\u001b[0m \u001b[38;5;124;03m    Remove after the strict logic is supported by all attr classes\u001b[39;00m\n\u001b[0;32m    601\u001b[0m \u001b[38;5;124;03m    \"\"\"\u001b[39;00m\n\u001b[1;32m--> 602\u001b[0m     forward_output \u001b[38;5;241m=\u001b[39m _run_forward(\u001b[38;5;241m*\u001b[39margs, \u001b[38;5;241m*\u001b[39m\u001b[38;5;241m*\u001b[39mkwargs)\n\u001b[0;32m    603\u001b[0m     \u001b[38;5;28;01mif\u001b[39;00m \u001b[38;5;28misinstance\u001b[39m(forward_output, Tensor):\n\u001b[0;32m    604\u001b[0m         \u001b[38;5;28;01mreturn\u001b[39;00m forward_output\n",
      "File \u001b[1;32m~\\AppData\\Local\\Programs\\Python\\Python310\\lib\\site-packages\\captum\\_utils\\common.py:487\u001b[0m, in \u001b[0;36m_run_forward\u001b[1;34m(forward_func, inputs, target, additional_forward_args)\u001b[0m\n\u001b[0;32m    480\u001b[0m additional_forward_args \u001b[38;5;241m=\u001b[39m _format_additional_forward_args(additional_forward_args)\n\u001b[0;32m    482\u001b[0m output \u001b[38;5;241m=\u001b[39m forward_func(\n\u001b[0;32m    483\u001b[0m     \u001b[38;5;241m*\u001b[39m(\u001b[38;5;241m*\u001b[39minputs, \u001b[38;5;241m*\u001b[39madditional_forward_args)\n\u001b[0;32m    484\u001b[0m     \u001b[38;5;28;01mif\u001b[39;00m additional_forward_args \u001b[38;5;129;01mis\u001b[39;00m \u001b[38;5;129;01mnot\u001b[39;00m \u001b[38;5;28;01mNone\u001b[39;00m\n\u001b[0;32m    485\u001b[0m     \u001b[38;5;28;01melse\u001b[39;00m inputs\n\u001b[0;32m    486\u001b[0m )\n\u001b[1;32m--> 487\u001b[0m \u001b[38;5;28;01mreturn\u001b[39;00m \u001b[43m_select_targets\u001b[49m\u001b[43m(\u001b[49m\u001b[43moutput\u001b[49m\u001b[43m,\u001b[49m\u001b[43m \u001b[49m\u001b[43mtarget\u001b[49m\u001b[43m)\u001b[49m\n",
      "File \u001b[1;32m~\\AppData\\Local\\Programs\\Python\\Python310\\lib\\site-packages\\captum\\_utils\\common.py:504\u001b[0m, in \u001b[0;36m_select_targets\u001b[1;34m(output, target)\u001b[0m\n\u001b[0;32m    502\u001b[0m \u001b[38;5;28;01melif\u001b[39;00m \u001b[38;5;28mlen\u001b[39m(target\u001b[38;5;241m.\u001b[39mshape) \u001b[38;5;241m==\u001b[39m \u001b[38;5;241m1\u001b[39m \u001b[38;5;129;01mand\u001b[39;00m torch\u001b[38;5;241m.\u001b[39mnumel(target) \u001b[38;5;241m==\u001b[39m num_examples:\n\u001b[0;32m    503\u001b[0m     \u001b[38;5;28;01massert\u001b[39;00m dims \u001b[38;5;241m==\u001b[39m \u001b[38;5;241m2\u001b[39m, \u001b[38;5;124m\"\u001b[39m\u001b[38;5;124mOutput must be 2D to select tensor of targets.\u001b[39m\u001b[38;5;124m\"\u001b[39m\n\u001b[1;32m--> 504\u001b[0m     \u001b[38;5;28;01mreturn\u001b[39;00m \u001b[43mtorch\u001b[49m\u001b[38;5;241;43m.\u001b[39;49m\u001b[43mgather\u001b[49m\u001b[43m(\u001b[49m\u001b[43moutput\u001b[49m\u001b[43m,\u001b[49m\u001b[43m \u001b[49m\u001b[38;5;241;43m1\u001b[39;49m\u001b[43m,\u001b[49m\u001b[43m \u001b[49m\u001b[43mtarget\u001b[49m\u001b[38;5;241;43m.\u001b[39;49m\u001b[43mreshape\u001b[49m\u001b[43m(\u001b[49m\u001b[38;5;28;43mlen\u001b[39;49m\u001b[43m(\u001b[49m\u001b[43moutput\u001b[49m\u001b[43m)\u001b[49m\u001b[43m,\u001b[49m\u001b[43m \u001b[49m\u001b[38;5;241;43m1\u001b[39;49m\u001b[43m)\u001b[49m\u001b[43m)\u001b[49m\n\u001b[0;32m    505\u001b[0m \u001b[38;5;28;01melse\u001b[39;00m:\n\u001b[0;32m    506\u001b[0m     \u001b[38;5;28;01mraise\u001b[39;00m \u001b[38;5;167;01mAssertionError\u001b[39;00m(\n\u001b[0;32m    507\u001b[0m         \u001b[38;5;124m\"\u001b[39m\u001b[38;5;124mTensor target dimension \u001b[39m\u001b[38;5;132;01m%r\u001b[39;00m\u001b[38;5;124m is not valid. \u001b[39m\u001b[38;5;132;01m%r\u001b[39;00m\u001b[38;5;124m\"\u001b[39m\n\u001b[0;32m    508\u001b[0m         \u001b[38;5;241m%\u001b[39m (target\u001b[38;5;241m.\u001b[39mshape, output\u001b[38;5;241m.\u001b[39mshape)\n\u001b[0;32m    509\u001b[0m     )\n",
      "\u001b[1;31mRuntimeError\u001b[0m: gather(): Expected dtype int64 for index"
     ]
    }
   ],
   "source": [
    "from captum.attr import FeaturePermutation\n",
    "feature_perm = FeaturePermutation(gru.eval())\n",
    "attr = feature_perm.attribute(X_train_tensors_final, target=y_train_tensors.squeeze())"
   ]
  },
  {
   "cell_type": "code",
   "execution_count": 118,
   "id": "34c6fa7e",
   "metadata": {},
   "outputs": [
    {
     "ename": "ValueError",
     "evalue": "Found array with dim 3. None expected <= 2.",
     "output_type": "error",
     "traceback": [
      "\u001b[1;31m---------------------------------------------------------------------------\u001b[0m",
      "\u001b[1;31mValueError\u001b[0m                                Traceback (most recent call last)",
      "Cell \u001b[1;32mIn[118], line 3\u001b[0m\n\u001b[0;32m      1\u001b[0m \u001b[38;5;66;03m# permutation feature imp\u001b[39;00m\n\u001b[0;32m      2\u001b[0m \u001b[38;5;28;01mfrom\u001b[39;00m \u001b[38;5;21;01msklearn\u001b[39;00m\u001b[38;5;21;01m.\u001b[39;00m\u001b[38;5;21;01minspection\u001b[39;00m \u001b[38;5;28;01mimport\u001b[39;00m permutation_importance\n\u001b[1;32m----> 3\u001b[0m r \u001b[38;5;241m=\u001b[39m \u001b[43mpermutation_importance\u001b[49m\u001b[43m(\u001b[49m\u001b[43mlstm1\u001b[49m\u001b[38;5;241;43m.\u001b[39;49m\u001b[43meval\u001b[49m\u001b[43m(\u001b[49m\u001b[43m)\u001b[49m\u001b[43m,\u001b[49m\u001b[43m \u001b[49m\u001b[43mX_train_tensors_final\u001b[49m\u001b[43m,\u001b[49m\u001b[43m \u001b[49m\u001b[43my_train_tensors\u001b[49m\u001b[43m,\u001b[49m\n\u001b[0;32m      4\u001b[0m \u001b[43m                           \u001b[49m\u001b[43mscoring\u001b[49m\u001b[43m \u001b[49m\u001b[38;5;241;43m=\u001b[39;49m\u001b[43m \u001b[49m\u001b[43mcriterion\u001b[49m\u001b[43m,\u001b[49m\n\u001b[0;32m      5\u001b[0m \u001b[43m                        \u001b[49m\u001b[43mn_repeats\u001b[49m\u001b[38;5;241;43m=\u001b[39;49m\u001b[38;5;241;43m30\u001b[39;49m\u001b[43m,\u001b[49m\n\u001b[0;32m      6\u001b[0m \u001b[43m                        \u001b[49m\u001b[43mrandom_state\u001b[49m\u001b[38;5;241;43m=\u001b[39;49m\u001b[38;5;241;43m1933\u001b[39;49m\u001b[43m)\u001b[49m\n",
      "File \u001b[1;32m~\\AppData\\Local\\Programs\\Python\\Python310\\lib\\site-packages\\sklearn\\inspection\\_permutation_importance.py:234\u001b[0m, in \u001b[0;36mpermutation_importance\u001b[1;34m(estimator, X, y, scoring, n_repeats, n_jobs, random_state, sample_weight, max_samples)\u001b[0m\n\u001b[0;32m    115\u001b[0m \u001b[38;5;250m\u001b[39m\u001b[38;5;124;03m\"\"\"Permutation importance for feature evaluation [BRE]_.\u001b[39;00m\n\u001b[0;32m    116\u001b[0m \n\u001b[0;32m    117\u001b[0m \u001b[38;5;124;03mThe :term:`estimator` is required to be a fitted estimator. `X` can be the\u001b[39;00m\n\u001b[1;32m   (...)\u001b[0m\n\u001b[0;32m    231\u001b[0m \u001b[38;5;124;03marray([0.2211..., 0.       , 0.       ])\u001b[39;00m\n\u001b[0;32m    232\u001b[0m \u001b[38;5;124;03m\"\"\"\u001b[39;00m\n\u001b[0;32m    233\u001b[0m \u001b[38;5;28;01mif\u001b[39;00m \u001b[38;5;129;01mnot\u001b[39;00m \u001b[38;5;28mhasattr\u001b[39m(X, \u001b[38;5;124m\"\u001b[39m\u001b[38;5;124miloc\u001b[39m\u001b[38;5;124m\"\u001b[39m):\n\u001b[1;32m--> 234\u001b[0m     X \u001b[38;5;241m=\u001b[39m \u001b[43mcheck_array\u001b[49m\u001b[43m(\u001b[49m\u001b[43mX\u001b[49m\u001b[43m,\u001b[49m\u001b[43m \u001b[49m\u001b[43mforce_all_finite\u001b[49m\u001b[38;5;241;43m=\u001b[39;49m\u001b[38;5;124;43m\"\u001b[39;49m\u001b[38;5;124;43mallow-nan\u001b[39;49m\u001b[38;5;124;43m\"\u001b[39;49m\u001b[43m,\u001b[49m\u001b[43m \u001b[49m\u001b[43mdtype\u001b[49m\u001b[38;5;241;43m=\u001b[39;49m\u001b[38;5;28;43;01mNone\u001b[39;49;00m\u001b[43m)\u001b[49m\n\u001b[0;32m    236\u001b[0m \u001b[38;5;66;03m# Precompute random seed from the random state to be used\u001b[39;00m\n\u001b[0;32m    237\u001b[0m \u001b[38;5;66;03m# to get a fresh independent RandomState instance for each\u001b[39;00m\n\u001b[0;32m    238\u001b[0m \u001b[38;5;66;03m# parallel call to _calculate_permutation_scores, irrespective of\u001b[39;00m\n\u001b[0;32m    239\u001b[0m \u001b[38;5;66;03m# the fact that variables are shared or not depending on the active\u001b[39;00m\n\u001b[0;32m    240\u001b[0m \u001b[38;5;66;03m# joblib backend (sequential, thread-based or process-based).\u001b[39;00m\n\u001b[0;32m    241\u001b[0m random_state \u001b[38;5;241m=\u001b[39m check_random_state(random_state)\n",
      "File \u001b[1;32m~\\AppData\\Local\\Programs\\Python\\Python310\\lib\\site-packages\\sklearn\\utils\\validation.py:893\u001b[0m, in \u001b[0;36mcheck_array\u001b[1;34m(array, accept_sparse, accept_large_sparse, dtype, order, copy, force_all_finite, ensure_2d, allow_nd, ensure_min_samples, ensure_min_features, estimator, input_name)\u001b[0m\n\u001b[0;32m    887\u001b[0m     \u001b[38;5;28;01mraise\u001b[39;00m \u001b[38;5;167;01mValueError\u001b[39;00m(\n\u001b[0;32m    888\u001b[0m         \u001b[38;5;124m\"\u001b[39m\u001b[38;5;124mdtype=\u001b[39m\u001b[38;5;124m'\u001b[39m\u001b[38;5;124mnumeric\u001b[39m\u001b[38;5;124m'\u001b[39m\u001b[38;5;124m is not compatible with arrays of bytes/strings.\u001b[39m\u001b[38;5;124m\"\u001b[39m\n\u001b[0;32m    889\u001b[0m         \u001b[38;5;124m\"\u001b[39m\u001b[38;5;124mConvert your data to numeric values explicitly instead.\u001b[39m\u001b[38;5;124m\"\u001b[39m\n\u001b[0;32m    890\u001b[0m     )\n\u001b[0;32m    892\u001b[0m \u001b[38;5;28;01mif\u001b[39;00m \u001b[38;5;129;01mnot\u001b[39;00m allow_nd \u001b[38;5;129;01mand\u001b[39;00m array\u001b[38;5;241m.\u001b[39mndim \u001b[38;5;241m>\u001b[39m\u001b[38;5;241m=\u001b[39m \u001b[38;5;241m3\u001b[39m:\n\u001b[1;32m--> 893\u001b[0m     \u001b[38;5;28;01mraise\u001b[39;00m \u001b[38;5;167;01mValueError\u001b[39;00m(\n\u001b[0;32m    894\u001b[0m         \u001b[38;5;124m\"\u001b[39m\u001b[38;5;124mFound array with dim \u001b[39m\u001b[38;5;132;01m%d\u001b[39;00m\u001b[38;5;124m. \u001b[39m\u001b[38;5;132;01m%s\u001b[39;00m\u001b[38;5;124m expected <= 2.\u001b[39m\u001b[38;5;124m\"\u001b[39m\n\u001b[0;32m    895\u001b[0m         \u001b[38;5;241m%\u001b[39m (array\u001b[38;5;241m.\u001b[39mndim, estimator_name)\n\u001b[0;32m    896\u001b[0m     )\n\u001b[0;32m    898\u001b[0m \u001b[38;5;28;01mif\u001b[39;00m force_all_finite:\n\u001b[0;32m    899\u001b[0m     _assert_all_finite(\n\u001b[0;32m    900\u001b[0m         array,\n\u001b[0;32m    901\u001b[0m         input_name\u001b[38;5;241m=\u001b[39minput_name,\n\u001b[0;32m    902\u001b[0m         estimator_name\u001b[38;5;241m=\u001b[39mestimator_name,\n\u001b[0;32m    903\u001b[0m         allow_nan\u001b[38;5;241m=\u001b[39mforce_all_finite \u001b[38;5;241m==\u001b[39m \u001b[38;5;124m\"\u001b[39m\u001b[38;5;124mallow-nan\u001b[39m\u001b[38;5;124m\"\u001b[39m,\n\u001b[0;32m    904\u001b[0m     )\n",
      "\u001b[1;31mValueError\u001b[0m: Found array with dim 3. None expected <= 2."
     ]
    }
   ],
   "source": [
    "# permutation feature imp\n",
    "from sklearn.inspection import permutation_importance\n",
    "r = permutation_importance(lstm1.eval(), X_train_tensors_final, y_train_tensors,\n",
    "                           scoring = criterion,\n",
    "                        n_repeats=30,\n",
    "                        random_state=1933)"
   ]
  },
  {
   "cell_type": "code",
   "execution_count": null,
   "id": "079bcd2c",
   "metadata": {},
   "outputs": [],
   "source": [
    "for i in r.importances_mean.argsort()[::-1]:\n",
    " if r.importances_mean[i] - 2 * r.importances_std[i] > 0:\n",
    "     print(f\"{diabetes.feature_names[i]:<8}\"\n",
    "           f\"{r.importances_mean[i]:.3f}\"\n",
    "           f\" +/- {r.importances_std[i]:.3f}\")# 500 epochs is best when only using FEATURES"
   ]
  }
 ],
 "metadata": {
  "kernelspec": {
   "display_name": "Python 3 (ipykernel)",
   "language": "python",
   "name": "python3"
  },
  "language_info": {
   "codemirror_mode": {
    "name": "ipython",
    "version": 3
   },
   "file_extension": ".py",
   "mimetype": "text/x-python",
   "name": "python",
   "nbconvert_exporter": "python",
   "pygments_lexer": "ipython3",
   "version": "3.10.7"
  }
 },
 "nbformat": 4,
 "nbformat_minor": 5
}
