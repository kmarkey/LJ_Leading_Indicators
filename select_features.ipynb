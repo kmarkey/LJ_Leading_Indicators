{
 "cells": [
  {
   "cell_type": "code",
   "execution_count": 1,
   "id": "ceb95d33",
   "metadata": {},
   "outputs": [],
   "source": [
    "import os\n",
    "import pandas as pd\n",
    "import  numpy as np\n",
    "import matplotlib.pyplot as plt\n",
    "from sklearn.linear_model import Lasso, Ridge, LinearRegression\n",
    "from sklearn.preprocessing import StandardScaler\n",
    "from sklearn.pipeline import Pipeline\n",
    "from sklearn.model_selection import GridSearchCV, train_test_split\n",
    "from thon.churn import plot_eval"
   ]
  },
  {
   "cell_type": "markdown",
   "id": "f60f51ce",
   "metadata": {},
   "source": [
    "Add appts, [last month/year?], home sales[can't find current], and more stocks?"
   ]
  },
  {
   "cell_type": "code",
   "execution_count": 2,
   "id": "1a292730",
   "metadata": {},
   "outputs": [
    {
     "data": {
      "text/plain": [
       "(150, 75)"
      ]
     },
     "execution_count": 2,
     "metadata": {},
     "output_type": "execute_result"
    }
   ],
   "source": [
    "data = pd.read_csv(\"./data/out/features.csv\")\n",
    "len(data), len(data.columns)"
   ]
  },
  {
   "cell_type": "code",
   "execution_count": 3,
   "id": "af0463b1",
   "metadata": {},
   "outputs": [],
   "source": [
    "X, y = data.drop(columns = ['n']), data[['n']]\n",
    "X_train, X_test, y_train, y_test = train_test_split(X, y, test_size = .10, shuffle = False)"
   ]
  },
  {
   "cell_type": "code",
   "execution_count": null,
   "id": "bb69984b",
   "metadata": {},
   "outputs": [],
   "source": []
  },
  {
   "cell_type": "code",
   "execution_count": 4,
   "id": "4fc4a421",
   "metadata": {},
   "outputs": [],
   "source": [
    "# X_train, X_test, y_train, y_test = train_test_split(X, y, test_size = 0, random_state=69)"
   ]
  },
  {
   "cell_type": "code",
   "execution_count": 5,
   "id": "40577daa",
   "metadata": {},
   "outputs": [],
   "source": [
    "pipeline = Pipeline([\n",
    "    ('scaler', StandardScaler()),\n",
    "    ('model', Lasso())\n",
    "])\n",
    "# use pipeline for all in future"
   ]
  },
  {
   "cell_type": "code",
   "execution_count": 6,
   "id": "dcda1a23",
   "metadata": {},
   "outputs": [],
   "source": [
    "search = GridSearchCV(pipeline,\n",
    "                      {'model__alpha':np.arange(0.5, 20, 0.5)},\n",
    "                      cv = 5,\n",
    "                      scoring = 'neg_mean_squared_error',\n",
    "                      verbose = 0)"
   ]
  },
  {
   "cell_type": "code",
   "execution_count": 7,
   "id": "0fd2fc4d",
   "metadata": {},
   "outputs": [
    {
     "data": {
      "text/plain": [
       "GridSearchCV(cv=5,\n",
       "             estimator=Pipeline(steps=[('scaler', StandardScaler()),\n",
       "                                       ('model', Lasso())]),\n",
       "             param_grid={'model__alpha': array([ 0.5,  1. ,  1.5,  2. ,  2.5,  3. ,  3.5,  4. ,  4.5,  5. ,  5.5,\n",
       "        6. ,  6.5,  7. ,  7.5,  8. ,  8.5,  9. ,  9.5, 10. , 10.5, 11. ,\n",
       "       11.5, 12. , 12.5, 13. , 13.5, 14. , 14.5, 15. , 15.5, 16. , 16.5,\n",
       "       17. , 17.5, 18. , 18.5, 19. , 19.5])},\n",
       "             scoring='neg_mean_squared_error')"
      ]
     },
     "execution_count": 7,
     "metadata": {},
     "output_type": "execute_result"
    }
   ],
   "source": [
    "search.fit(X_train, y_train)"
   ]
  },
  {
   "cell_type": "code",
   "execution_count": 8,
   "id": "3fda82a4",
   "metadata": {},
   "outputs": [
    {
     "data": {
      "text/plain": [
       "{'model__alpha': 1.0}"
      ]
     },
     "execution_count": 8,
     "metadata": {},
     "output_type": "execute_result"
    }
   ],
   "source": [
    "search.best_params_"
   ]
  },
  {
   "cell_type": "code",
   "execution_count": 9,
   "id": "459c6d17",
   "metadata": {},
   "outputs": [
    {
     "data": {
      "text/plain": [
       "array([ 3.1017408 ,  8.97701879,  1.9213401 ,  0.8648973 ,  2.83161397,\n",
       "        4.1937608 ,  0.64071088,  8.74173881,  5.1021118 , 13.93429223,\n",
       "        6.93264157,  0.50540581,  4.73886721,  4.80854354,  1.26997724,\n",
       "       32.37888508, 11.25143462,  0.48575743,  1.71756233, 11.40551075,\n",
       "        3.91392306, 13.37029975])"
      ]
     },
     "execution_count": 9,
     "metadata": {},
     "output_type": "execute_result"
    }
   ],
   "source": [
    "coef = search.best_estimator_[1].coef_\n",
    "coef[coef > 0]"
   ]
  },
  {
   "cell_type": "code",
   "execution_count": 10,
   "id": "30a1db0e",
   "metadata": {},
   "outputs": [],
   "source": [
    "fin = X_train[X_train.columns[coef >  0]]\n",
    "fout = X_test[X_test.columns[coef >  0]]"
   ]
  },
  {
   "cell_type": "code",
   "execution_count": 11,
   "id": "da94e1f6",
   "metadata": {},
   "outputs": [],
   "source": [
    "model = pipeline.fit(fin, y_train)"
   ]
  },
  {
   "cell_type": "code",
   "execution_count": 22,
   "id": "18006db8",
   "metadata": {},
   "outputs": [
    {
     "data": {
      "text/html": [
       "<div>\n",
       "<style scoped>\n",
       "    .dataframe tbody tr th:only-of-type {\n",
       "        vertical-align: middle;\n",
       "    }\n",
       "\n",
       "    .dataframe tbody tr th {\n",
       "        vertical-align: top;\n",
       "    }\n",
       "\n",
       "    .dataframe thead th {\n",
       "        text-align: right;\n",
       "    }\n",
       "</style>\n",
       "<table border=\"1\" class=\"dataframe\">\n",
       "  <thead>\n",
       "    <tr style=\"text-align: right;\">\n",
       "      <th></th>\n",
       "      <th>unempt5w_lag12</th>\n",
       "      <th>ngspot_lag3</th>\n",
       "      <th>10yinf_lag12</th>\n",
       "      <th>sentiment_lag3</th>\n",
       "      <th>new_units_lag6</th>\n",
       "      <th>altsales_lag3</th>\n",
       "      <th>totalsa_lag3</th>\n",
       "      <th>overmanuf_lag6</th>\n",
       "      <th>fedsurplus_lag3</th>\n",
       "      <th>industry_lag9</th>\n",
       "      <th>...</th>\n",
       "      <th>XOM_v_lag6</th>\n",
       "      <th>TM_v_lag3</th>\n",
       "      <th>BWA_v_lag6</th>\n",
       "      <th>GT_lag3</th>\n",
       "      <th>GT_v_lag12</th>\n",
       "      <th>g_new_cars_lag3</th>\n",
       "      <th>g_car_for_sale_near_me_lag3</th>\n",
       "      <th>g_best_new_cars_lag9</th>\n",
       "      <th>g_how_to_buy_a_car_lag9</th>\n",
       "      <th>m_num</th>\n",
       "    </tr>\n",
       "  </thead>\n",
       "  <tbody>\n",
       "    <tr>\n",
       "      <th>0</th>\n",
       "      <td>3338</td>\n",
       "      <td>5.83</td>\n",
       "      <td>1.36</td>\n",
       "      <td>74.4</td>\n",
       "      <td>1522.428212</td>\n",
       "      <td>10.669</td>\n",
       "      <td>10.893</td>\n",
       "      <td>3.3</td>\n",
       "      <td>-42634.000000</td>\n",
       "      <td>85.8149</td>\n",
       "      <td>...</td>\n",
       "      <td>501283200</td>\n",
       "      <td>16980097</td>\n",
       "      <td>41771900</td>\n",
       "      <td>13.34</td>\n",
       "      <td>148346000</td>\n",
       "      <td>71</td>\n",
       "      <td>19</td>\n",
       "      <td>0</td>\n",
       "      <td>0</td>\n",
       "      <td>4</td>\n",
       "    </tr>\n",
       "    <tr>\n",
       "      <th>1</th>\n",
       "      <td>3246</td>\n",
       "      <td>5.32</td>\n",
       "      <td>1.57</td>\n",
       "      <td>73.6</td>\n",
       "      <td>1146.711843</td>\n",
       "      <td>10.108</td>\n",
       "      <td>10.315</td>\n",
       "      <td>3.4</td>\n",
       "      <td>-220909.000000</td>\n",
       "      <td>88.8133</td>\n",
       "      <td>...</td>\n",
       "      <td>356438100</td>\n",
       "      <td>86416700</td>\n",
       "      <td>23583200</td>\n",
       "      <td>12.99</td>\n",
       "      <td>127342300</td>\n",
       "      <td>70</td>\n",
       "      <td>0</td>\n",
       "      <td>0</td>\n",
       "      <td>0</td>\n",
       "      <td>5</td>\n",
       "    </tr>\n",
       "    <tr>\n",
       "      <th>2</th>\n",
       "      <td>3114</td>\n",
       "      <td>4.29</td>\n",
       "      <td>1.86</td>\n",
       "      <td>73.6</td>\n",
       "      <td>1591.649564</td>\n",
       "      <td>11.553</td>\n",
       "      <td>11.772</td>\n",
       "      <td>3.5</td>\n",
       "      <td>-65387.000000</td>\n",
       "      <td>88.0479</td>\n",
       "      <td>...</td>\n",
       "      <td>648945000</td>\n",
       "      <td>34887200</td>\n",
       "      <td>17305900</td>\n",
       "      <td>12.64</td>\n",
       "      <td>117347300</td>\n",
       "      <td>85</td>\n",
       "      <td>0</td>\n",
       "      <td>0</td>\n",
       "      <td>0</td>\n",
       "      <td>6</td>\n",
       "    </tr>\n",
       "    <tr>\n",
       "      <th>3</th>\n",
       "      <td>3137</td>\n",
       "      <td>4.03</td>\n",
       "      <td>1.74</td>\n",
       "      <td>72.2</td>\n",
       "      <td>1935.115814</td>\n",
       "      <td>11.249</td>\n",
       "      <td>11.454</td>\n",
       "      <td>3.6</td>\n",
       "      <td>-82689.000000</td>\n",
       "      <td>87.6336</td>\n",
       "      <td>...</td>\n",
       "      <td>596474300</td>\n",
       "      <td>23745200</td>\n",
       "      <td>28746600</td>\n",
       "      <td>13.43</td>\n",
       "      <td>136747400</td>\n",
       "      <td>53</td>\n",
       "      <td>0</td>\n",
       "      <td>0</td>\n",
       "      <td>59</td>\n",
       "      <td>7</td>\n",
       "    </tr>\n",
       "    <tr>\n",
       "      <th>4</th>\n",
       "      <td>2940</td>\n",
       "      <td>4.14</td>\n",
       "      <td>1.82</td>\n",
       "      <td>73.6</td>\n",
       "      <td>1726.411924</td>\n",
       "      <td>11.821</td>\n",
       "      <td>12.030</td>\n",
       "      <td>3.4</td>\n",
       "      <td>-135927.000000</td>\n",
       "      <td>87.3115</td>\n",
       "      <td>...</td>\n",
       "      <td>534843200</td>\n",
       "      <td>20802600</td>\n",
       "      <td>28083700</td>\n",
       "      <td>11.90</td>\n",
       "      <td>104426400</td>\n",
       "      <td>72</td>\n",
       "      <td>0</td>\n",
       "      <td>0</td>\n",
       "      <td>100</td>\n",
       "      <td>8</td>\n",
       "    </tr>\n",
       "    <tr>\n",
       "      <th>...</th>\n",
       "      <td>...</td>\n",
       "      <td>...</td>\n",
       "      <td>...</td>\n",
       "      <td>...</td>\n",
       "      <td>...</td>\n",
       "      <td>...</td>\n",
       "      <td>...</td>\n",
       "      <td>...</td>\n",
       "      <td>...</td>\n",
       "      <td>...</td>\n",
       "      <td>...</td>\n",
       "      <td>...</td>\n",
       "      <td>...</td>\n",
       "      <td>...</td>\n",
       "      <td>...</td>\n",
       "      <td>...</td>\n",
       "      <td>...</td>\n",
       "      <td>...</td>\n",
       "      <td>...</td>\n",
       "      <td>...</td>\n",
       "      <td>...</td>\n",
       "    </tr>\n",
       "    <tr>\n",
       "      <th>130</th>\n",
       "      <td>2123</td>\n",
       "      <td>2.61</td>\n",
       "      <td>1.62</td>\n",
       "      <td>76.9</td>\n",
       "      <td>3316.828749</td>\n",
       "      <td>16.024</td>\n",
       "      <td>16.492</td>\n",
       "      <td>3.7</td>\n",
       "      <td>-145266.263530</td>\n",
       "      <td>85.2377</td>\n",
       "      <td>...</td>\n",
       "      <td>449383491</td>\n",
       "      <td>3527876</td>\n",
       "      <td>57815220</td>\n",
       "      <td>10.42</td>\n",
       "      <td>121883254</td>\n",
       "      <td>37</td>\n",
       "      <td>53</td>\n",
       "      <td>51</td>\n",
       "      <td>30</td>\n",
       "      <td>2</td>\n",
       "    </tr>\n",
       "    <tr>\n",
       "      <th>131</th>\n",
       "      <td>3446</td>\n",
       "      <td>2.59</td>\n",
       "      <td>0.99</td>\n",
       "      <td>80.7</td>\n",
       "      <td>4726.811153</td>\n",
       "      <td>16.482</td>\n",
       "      <td>16.927</td>\n",
       "      <td>3.8</td>\n",
       "      <td>-143562.327439</td>\n",
       "      <td>93.0916</td>\n",
       "      <td>...</td>\n",
       "      <td>590861107</td>\n",
       "      <td>5634320</td>\n",
       "      <td>57233340</td>\n",
       "      <td>10.91</td>\n",
       "      <td>182976727</td>\n",
       "      <td>45</td>\n",
       "      <td>43</td>\n",
       "      <td>15</td>\n",
       "      <td>56</td>\n",
       "      <td>3</td>\n",
       "    </tr>\n",
       "    <tr>\n",
       "      <th>132</th>\n",
       "      <td>14251</td>\n",
       "      <td>2.71</td>\n",
       "      <td>1.10</td>\n",
       "      <td>79.0</td>\n",
       "      <td>3650.960286</td>\n",
       "      <td>16.822</td>\n",
       "      <td>17.327</td>\n",
       "      <td>4.0</td>\n",
       "      <td>-162832.489468</td>\n",
       "      <td>95.2942</td>\n",
       "      <td>...</td>\n",
       "      <td>630468906</td>\n",
       "      <td>6823083</td>\n",
       "      <td>83272944</td>\n",
       "      <td>10.55</td>\n",
       "      <td>125506149</td>\n",
       "      <td>51</td>\n",
       "      <td>100</td>\n",
       "      <td>49</td>\n",
       "      <td>45</td>\n",
       "      <td>4</td>\n",
       "    </tr>\n",
       "    <tr>\n",
       "      <th>133</th>\n",
       "      <td>3846</td>\n",
       "      <td>5.35</td>\n",
       "      <td>1.12</td>\n",
       "      <td>76.8</td>\n",
       "      <td>3413.253178</td>\n",
       "      <td>15.645</td>\n",
       "      <td>16.106</td>\n",
       "      <td>4.0</td>\n",
       "      <td>-310921.942505</td>\n",
       "      <td>98.3055</td>\n",
       "      <td>...</td>\n",
       "      <td>703572014</td>\n",
       "      <td>8287965</td>\n",
       "      <td>53781957</td>\n",
       "      <td>16.81</td>\n",
       "      <td>124768236</td>\n",
       "      <td>47</td>\n",
       "      <td>63</td>\n",
       "      <td>0</td>\n",
       "      <td>46</td>\n",
       "      <td>5</td>\n",
       "    </tr>\n",
       "    <tr>\n",
       "      <th>134</th>\n",
       "      <td>2884</td>\n",
       "      <td>2.62</td>\n",
       "      <td>1.27</td>\n",
       "      <td>84.9</td>\n",
       "      <td>4103.578800</td>\n",
       "      <td>17.723</td>\n",
       "      <td>18.223</td>\n",
       "      <td>4.1</td>\n",
       "      <td>-659591.618441</td>\n",
       "      <td>95.9072</td>\n",
       "      <td>...</td>\n",
       "      <td>605511099</td>\n",
       "      <td>8922679</td>\n",
       "      <td>49015328</td>\n",
       "      <td>17.57</td>\n",
       "      <td>161858372</td>\n",
       "      <td>52</td>\n",
       "      <td>100</td>\n",
       "      <td>11</td>\n",
       "      <td>28</td>\n",
       "      <td>6</td>\n",
       "    </tr>\n",
       "  </tbody>\n",
       "</table>\n",
       "<p>135 rows × 22 columns</p>\n",
       "</div>"
      ],
      "text/plain": [
       "     unempt5w_lag12  ngspot_lag3  10yinf_lag12  sentiment_lag3  \\\n",
       "0              3338         5.83          1.36            74.4   \n",
       "1              3246         5.32          1.57            73.6   \n",
       "2              3114         4.29          1.86            73.6   \n",
       "3              3137         4.03          1.74            72.2   \n",
       "4              2940         4.14          1.82            73.6   \n",
       "..              ...          ...           ...             ...   \n",
       "130            2123         2.61          1.62            76.9   \n",
       "131            3446         2.59          0.99            80.7   \n",
       "132           14251         2.71          1.10            79.0   \n",
       "133            3846         5.35          1.12            76.8   \n",
       "134            2884         2.62          1.27            84.9   \n",
       "\n",
       "     new_units_lag6  altsales_lag3  totalsa_lag3  overmanuf_lag6  \\\n",
       "0       1522.428212         10.669        10.893             3.3   \n",
       "1       1146.711843         10.108        10.315             3.4   \n",
       "2       1591.649564         11.553        11.772             3.5   \n",
       "3       1935.115814         11.249        11.454             3.6   \n",
       "4       1726.411924         11.821        12.030             3.4   \n",
       "..              ...            ...           ...             ...   \n",
       "130     3316.828749         16.024        16.492             3.7   \n",
       "131     4726.811153         16.482        16.927             3.8   \n",
       "132     3650.960286         16.822        17.327             4.0   \n",
       "133     3413.253178         15.645        16.106             4.0   \n",
       "134     4103.578800         17.723        18.223             4.1   \n",
       "\n",
       "     fedsurplus_lag3  industry_lag9  ...  XOM_v_lag6  TM_v_lag3  BWA_v_lag6  \\\n",
       "0      -42634.000000        85.8149  ...   501283200   16980097    41771900   \n",
       "1     -220909.000000        88.8133  ...   356438100   86416700    23583200   \n",
       "2      -65387.000000        88.0479  ...   648945000   34887200    17305900   \n",
       "3      -82689.000000        87.6336  ...   596474300   23745200    28746600   \n",
       "4     -135927.000000        87.3115  ...   534843200   20802600    28083700   \n",
       "..               ...            ...  ...         ...        ...         ...   \n",
       "130   -145266.263530        85.2377  ...   449383491    3527876    57815220   \n",
       "131   -143562.327439        93.0916  ...   590861107    5634320    57233340   \n",
       "132   -162832.489468        95.2942  ...   630468906    6823083    83272944   \n",
       "133   -310921.942505        98.3055  ...   703572014    8287965    53781957   \n",
       "134   -659591.618441        95.9072  ...   605511099    8922679    49015328   \n",
       "\n",
       "     GT_lag3  GT_v_lag12  g_new_cars_lag3  g_car_for_sale_near_me_lag3  \\\n",
       "0      13.34   148346000               71                           19   \n",
       "1      12.99   127342300               70                            0   \n",
       "2      12.64   117347300               85                            0   \n",
       "3      13.43   136747400               53                            0   \n",
       "4      11.90   104426400               72                            0   \n",
       "..       ...         ...              ...                          ...   \n",
       "130    10.42   121883254               37                           53   \n",
       "131    10.91   182976727               45                           43   \n",
       "132    10.55   125506149               51                          100   \n",
       "133    16.81   124768236               47                           63   \n",
       "134    17.57   161858372               52                          100   \n",
       "\n",
       "     g_best_new_cars_lag9  g_how_to_buy_a_car_lag9  m_num  \n",
       "0                       0                        0      4  \n",
       "1                       0                        0      5  \n",
       "2                       0                        0      6  \n",
       "3                       0                       59      7  \n",
       "4                       0                      100      8  \n",
       "..                    ...                      ...    ...  \n",
       "130                    51                       30      2  \n",
       "131                    15                       56      3  \n",
       "132                    49                       45      4  \n",
       "133                     0                       46      5  \n",
       "134                    11                       28      6  \n",
       "\n",
       "[135 rows x 22 columns]"
      ]
     },
     "execution_count": 22,
     "metadata": {},
     "output_type": "execute_result"
    }
   ],
   "source": []
  },
  {
   "cell_type": "code",
   "execution_count": 12,
   "id": "0a00e19c",
   "metadata": {},
   "outputs": [],
   "source": [
    "train_pred = pd.Series(model.predict(fin), index = fin.index)\n",
    "test_pred = pd.Series(model.predict(fout), index = fout.index)"
   ]
  },
  {
   "cell_type": "code",
   "execution_count": 13,
   "id": "97a1ab53",
   "metadata": {},
   "outputs": [
    {
     "name": "stdout",
     "output_type": "stream",
     "text": [
      "1777.602141725496\n",
      "13.167423272040711\n"
     ]
    },
    {
     "data": {
      "image/png": "[encoded data removed]",
      "text/plain": [
       "<Figure size 432x288 with 1 Axes>"
      ]
     },
     "metadata": {
      "needs_background": "light"
     },
     "output_type": "display_data"
    }
   ],
   "source": [
    "plot_eval(train_pred, y_train)"
   ]
  },
  {
   "cell_type": "code",
   "execution_count": 14,
   "id": "e093ad1e",
   "metadata": {},
   "outputs": [
    {
     "name": "stdout",
     "output_type": "stream",
     "text": [
      "4222.754233584284\n",
      "281.5169489056189\n"
     ]
    },
    {
     "data": {
      "image/png": "[encoded data removed]",
      "text/plain": [
       "<Figure size 432x288 with 1 Axes>"
      ]
     },
     "metadata": {
      "needs_background": "light"
     },
     "output_type": "display_data"
    }
   ],
   "source": [
    "plot_eval(test_pred, y_test)"
   ]
  },
  {
   "cell_type": "code",
   "execution_count": 21,
   "id": "73aee051",
   "metadata": {},
   "outputs": [
    {
     "data": {
      "text/plain": [
       "Index(['unempt5w_lag12', 'ngspot_lag3', '10yinf_lag12', 'sentiment_lag3',\n",
       "       'new_units_lag6', 'altsales_lag3', 'totalsa_lag3', 'overmanuf_lag6',\n",
       "       'fedsurplus_lag3', 'industry_lag9', 'AN_v_lag3', 'MZDAY_v_lag3',\n",
       "       'XOM_v_lag6', 'TM_v_lag3', 'BWA_v_lag6', 'GT_lag3', 'GT_v_lag12',\n",
       "       'g_new_cars_lag3', 'g_car_for_sale_near_me_lag3',\n",
       "       'g_best_new_cars_lag9', 'g_how_to_buy_a_car_lag9', 'm_num'],\n",
       "      dtype='object')"
      ]
     },
     "execution_count": 21,
     "metadata": {},
     "output_type": "execute_result"
    }
   ],
   "source": [
    "out = X_train.columns[coef > 0]\n",
    "out"
   ]
  },
  {
   "cell_type": "code",
   "execution_count": 16,
   "id": "97ce6102",
   "metadata": {},
   "outputs": [],
   "source": [
    "out.insert(0, 'n', y, True)\n",
    "out.insert(0, 'month', X['month'], True)"
   ]
  },
  {
   "cell_type": "code",
   "execution_count": 17,
   "id": "eac25d5c",
   "metadata": {},
   "outputs": [],
   "source": [
    "out.to_csv(\"data/out/lasso.csv\")"
   ]
  },
  {
   "cell_type": "code",
   "execution_count": null,
   "id": "1933573e",
   "metadata": {},
   "outputs": [],
   "source": []
  }
 ],
 "metadata": {
  "kernelspec": {
   "display_name": "Python 3",
   "language": "python",
   "name": "python3"
  },
  "language_info": {
   "codemirror_mode": {
    "name": "ipython",
    "version": 3
   },
   "file_extension": ".py",
   "mimetype": "text/x-python",
   "name": "python",
   "nbconvert_exporter": "python",
   "pygments_lexer": "ipython3",
   "version": "3.7.11"
  }
 },
 "nbformat": 4,
 "nbformat_minor": 5
}
