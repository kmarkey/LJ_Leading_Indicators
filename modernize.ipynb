{
 "cells": [
  {
   "cell_type": "code",
   "execution_count": 2,
   "id": "d54d44d1",
   "metadata": {},
   "outputs": [],
   "source": [
    "# read in data \n",
    "import pandas as pd\n",
    "import os\n",
    "from platform import python_version"
   ]
  },
  {
   "cell_type": "code",
   "execution_count": 4,
   "id": "b6566d56",
   "metadata": {},
   "outputs": [
    {
     "data": {
      "text/plain": [
       "'3.10.7'"
      ]
     },
     "execution_count": 4,
     "metadata": {},
     "output_type": "execute_result"
    }
   ],
   "source": [
    "# read in saved model"
   ]
  },
  {
   "cell_type": "code",
   "execution_count": 17,
   "id": "88b5700e",
   "metadata": {},
   "outputs": [
    {
     "data": {
      "text/plain": [
       "'3.7.11'"
      ]
     },
     "execution_count": 17,
     "metadata": {},
     "output_type": "execute_result"
    }
   ],
   "source": [
    "# use fetch data scripts and then set lags appropriately in here"
   ]
  },
  {
   "cell_type": "code",
   "execution_count": 3,
   "id": "7825a581",
   "metadata": {},
   "outputs": [],
   "source": [
    "# get list of features from each model and return features without a lag\n",
    "def modernize(feature_list, complete_path = \"./data/out/complete.csv\", supp_path = \"./data/out/supp_ext.csv\", ahead = 3):\n",
    "    \n",
    "    complete = pd.read_csv(complete_path)\n",
    "    \n",
    "    supp = pd.read_csv(supp_path)\n",
    "    \n",
    "    names = []\n",
    "    \n",
    "    for f in feature_list:\n",
    "        \n",
    "        if f in list(supp.columns):\n",
    "            \n",
    "            x = supp[f]\n",
    "            \n",
    "        elif f in list(complete.columns):\n",
    "        \n",
    "            x = complete[f.split(\"_lag\")[0] + \"_lag\" + str(pd.to_numeric(re.sub(r\".*_lag\", \"\", f)) - ahead)]\n",
    "        else:\n",
    "            \n",
    "            print(\"No feature found\")\n",
    "            \n",
    "        names.append(x)\n",
    "        \n",
    "    return pd.concat(names, axis = 1)"
   ]
  },
  {
   "cell_type": "code",
   "execution_count": 9,
   "id": "f3478bef",
   "metadata": {},
   "outputs": [],
   "source": [
    "# get bounds\n",
    "bounds = pd.read_csv(\"keys/bounds.csv\")"
   ]
  },
  {
   "cell_type": "code",
   "execution_count": 24,
   "id": "5c3c7f1b",
   "metadata": {},
   "outputs": [
    {
     "data": {
      "text/plain": [
       "'2015-01-01'"
      ]
     },
     "execution_count": 24,
     "metadata": {},
     "output_type": "execute_result"
    }
   ],
   "source": [
    "bounds[\"search_bottom\"].iloc[0], "
   ]
  }
 ],
 "metadata": {
  "kernelspec": {
   "display_name": "Python 3 (ipykernel)",
   "language": "python",
   "name": "python3"
  },
  "language_info": {
   "codemirror_mode": {
    "name": "ipython",
    "version": 3
   },
   "file_extension": ".py",
   "mimetype": "text/x-python",
   "name": "python",
   "nbconvert_exporter": "python",
   "pygments_lexer": "ipython3",
   "version": "3.10.7"
  }
 },
 "nbformat": 4,
 "nbformat_minor": 5
}
