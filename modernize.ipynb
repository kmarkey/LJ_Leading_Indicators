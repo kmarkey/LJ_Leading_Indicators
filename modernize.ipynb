{
 "cells": [
  {
   "cell_type": "code",
   "execution_count": 16,
   "id": "d54d44d1",
   "metadata": {},
   "outputs": [],
   "source": [
    "# read in data \n",
    "import pandas as pd\n",
    "import os\n",
    "from platform import python_version"
   ]
  },
  {
   "cell_type": "code",
   "execution_count": 5,
   "id": "b6566d56",
   "metadata": {},
   "outputs": [
    {
     "data": {
      "text/plain": [
       "'C:\\\\Users\\\\keato\\\\Documents\\\\LocalRStudio\\\\LJ_Leading_Indicators'"
      ]
     },
     "execution_count": 5,
     "metadata": {},
     "output_type": "execute_result"
    }
   ],
   "source": [
    "# read in saved model\n",
    "os.getcwd()"
   ]
  },
  {
   "cell_type": "code",
   "execution_count": 17,
   "id": "88b5700e",
   "metadata": {},
   "outputs": [
    {
     "data": {
      "text/plain": [
       "'3.7.11'"
      ]
     },
     "execution_count": 17,
     "metadata": {},
     "output_type": "execute_result"
    }
   ],
   "source": [
    "# use fetch data scripts and then set lags appropriately in here"
   ]
  },
  {
   "cell_type": "code",
   "execution_count": null,
   "id": "7825a581",
   "metadata": {},
   "outputs": [],
   "source": [
    "# get list of features from each model like list()\n"
   ]
  },
  {
   "cell_type": "code",
   "execution_count": 9,
   "id": "f3478bef",
   "metadata": {},
   "outputs": [],
   "source": [
    "# get bounds\n",
    "bounds = pd.read_csv(\"keys/bounds.csv\")"
   ]
  },
  {
   "cell_type": "code",
   "execution_count": 24,
   "id": "5c3c7f1b",
   "metadata": {},
   "outputs": [
    {
     "data": {
      "text/plain": [
       "'2015-01-01'"
      ]
     },
     "execution_count": 24,
     "metadata": {},
     "output_type": "execute_result"
    }
   ],
   "source": [
    "bounds[\"search_bottom\"].iloc[0], "
   ]
  }
 ],
 "metadata": {
  "kernelspec": {
   "display_name": "Python 3",
   "language": "python",
   "name": "python3"
  },
  "language_info": {
   "codemirror_mode": {
    "name": "ipython",
    "version": 3
   },
   "file_extension": ".py",
   "mimetype": "text/x-python",
   "name": "python",
   "nbconvert_exporter": "python",
   "pygments_lexer": "ipython3",
   "version": "3.7.11"
  }
 },
 "nbformat": 4,
 "nbformat_minor": 5
}
