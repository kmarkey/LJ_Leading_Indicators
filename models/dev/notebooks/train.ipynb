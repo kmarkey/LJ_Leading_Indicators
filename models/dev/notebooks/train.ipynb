{
 "cells": [
  {
   "cell_type": "code",
   "execution_count": 1,
   "id": "03b6df39",
   "metadata": {},
   "outputs": [],
   "source": [
    "import numpy as np\n",
    "import pandas as pd\n",
    "import os\n",
    "import re\n",
    "import warnings\n",
    "from captum.attr import IntegratedGradients\n",
    "from sklearn.linear_model import Lasso, LinearRegression\n",
    "from sklearn.ensemble import RandomForestRegressor\n",
    "from sklearn.preprocessing import StandardScaler, MinMaxScaler\n",
    "from sklearn.metrics import mean_squared_error\n",
    "from sklearn.pipeline import Pipeline\n",
    "from sklearn.model_selection import train_test_split\n",
    "from sklearn.model_selection import GridSearchCV, KFold\n",
    "from scripts.churn_functions import simple_split, bake, modernize, out_eval"
   ]
  },
  {
   "cell_type": "markdown",
   "id": "fced67c8",
   "metadata": {},
   "source": [
    "# Need to add get_importances() to all and snapshot_model() to all\n",
    "## Should return an importance for every feature\n",
    "And then rerun with correctly selected features"
   ]
  },
  {
   "cell_type": "code",
   "execution_count": 2,
   "id": "60c306b2",
   "metadata": {},
   "outputs": [],
   "source": [
    "os.chdir('C:\\\\Users\\\\keato\\\\Documents\\\\LocalRStudio\\\\LJ_Leading_Indicators')\n",
    "data = pd.read_csv(\"data/out/features.csv\")"
   ]
  },
  {
   "cell_type": "code",
   "execution_count": 3,
   "id": "c2a6ab57",
   "metadata": {},
   "outputs": [
    {
     "data": {
      "text/plain": [
       "'C:\\\\Users\\\\keato\\\\Documents\\\\LocalRStudio\\\\LJ_Leading_Indicators'"
      ]
     },
     "execution_count": 3,
     "metadata": {},
     "output_type": "execute_result"
    }
   ],
   "source": [
    "os.getcwd()"
   ]
  },
  {
   "cell_type": "code",
   "execution_count": 3,
   "id": "f5a7aec5",
   "metadata": {},
   "outputs": [],
   "source": [
    "from models.dev.prediction.scripts.linear import linear_regression\n",
    "from models.dev.prediction.scripts.tree import decision_tree\n",
    "from models.dev.prediction.scripts.random import random_forest\n",
    "from models.dev.prediction.scripts.arima import arima\n",
    "from models.dev.prediction.scripts.gru import gru\n",
    "from models.dev.prediction.scripts.lstm import lstm\n",
    "\n",
    "\n",
    "\n",
    "from sklearn.metrics import r2_score, mean_squared_error\n",
    "import torch\n",
    "from torch.autograd import Variable \n",
    "from torch import nn\n",
    "\n",
    "data = pd.read_csv(\"data/out/features.csv\")"
   ]
  },
  {
   "cell_type": "code",
   "execution_count": 6,
   "id": "800dad2a",
   "metadata": {},
   "outputs": [],
   "source": [
    "l = linear_regression()\n",
    "t = decision_tree()\n",
    "r = random_forest()\n",
    "a = arima()"
   ]
  },
  {
   "cell_type": "code",
   "execution_count": null,
   "id": "46a5ff1b",
   "metadata": {},
   "outputs": [],
   "source": [
    "l.fit(data = data, \n",
    "              split = 135,\n",
    "              scoring = \"neg_mean_squared_error\",\n",
    "              feature_selection = True)"
   ]
  },
  {
   "cell_type": "code",
   "execution_count": 11,
   "id": "74e6c77a",
   "metadata": {},
   "outputs": [],
   "source": [
    "t.fit(data = data, \n",
    "              split = 135,\n",
    "              scoring = \"neg_mean_squared_error\",\n",
    "              feature_selection = True)"
   ]
  },
  {
   "cell_type": "code",
   "execution_count": 5,
   "id": "366d6f2d",
   "metadata": {},
   "outputs": [],
   "source": [
    "# takes a little bit\n",
    "r.fit(data = data, \n",
    "              split = 135,\n",
    "              scoring = \"neg_mean_squared_error\",\n",
    "              feature_selection = True)"
   ]
  },
  {
   "cell_type": "code",
   "execution_count": 266,
   "id": "e08bed2c",
   "metadata": {},
   "outputs": [],
   "source": [
    "a.fit(data = data, \n",
    "      split = 135,\n",
    "      feature_selection = True,order=(12, 1, 0)\n",
    "     )"
   ]
  },
  {
   "cell_type": "code",
   "execution_count": 252,
   "id": "17303175",
   "metadata": {},
   "outputs": [
    {
     "name": "stdout",
     "output_type": "stream",
     "text": [
      "Epoch: 0, train loss: 0.15289, test loss: 0.01364\n",
      "Epoch: 30, train loss: 0.01081, test loss: 0.03899\n",
      "Epoch: 60, train loss: 0.00847, test loss: 0.01971\n",
      "Epoch: 90, train loss: 0.00773, test loss: 0.01522\n",
      "Epoch: 120, train loss: 0.00707, test loss: 0.01299\n",
      "Epoch: 150, train loss: 0.00639, test loss: 0.01129\n",
      "Epoch: 180, train loss: 0.00561, test loss: 0.01011\n",
      "Epoch: 210, train loss: 0.00486, test loss: 0.01021\n",
      "Epoch: 240, train loss: 0.00409, test loss: 0.01043\n",
      "Epoch: 270, train loss: 0.00336, test loss: 0.01022\n",
      "Epoch: 0, train loss: 0.19636, test loss: 0.06271\n",
      "Epoch: 60, train loss: 0.01391, test loss: 0.08356\n",
      "Epoch: 120, train loss: 0.01065, test loss: 0.08188\n",
      "Epoch: 180, train loss: 0.00958, test loss: 0.04430\n",
      "Epoch: 240, train loss: 0.00918, test loss: 0.02754\n",
      "Epoch: 300, train loss: 0.00884, test loss: 0.01750\n",
      "Epoch: 360, train loss: 0.00855, test loss: 0.01217\n",
      "Epoch: 420, train loss: 0.00830, test loss: 0.00992\n",
      "Epoch: 480, train loss: 0.00812, test loss: 0.00888\n",
      "Epoch: 540, train loss: 0.00798, test loss: 0.00838\n"
     ]
    }
   ],
   "source": [
    "# fits twice for feature_selection\n",
    "g = gru()\n",
    "g.fit(data =  data, split = 135, hidden_size= 16, verbose = 2, num_epochs= 300)\n",
    "gimp = g.get_importances(10, names = True)\n",
    "g.fit(data =  data, split = 135, hidden_size= 16, verbose = 2, num_epochs= 600, feature_selection=gimp)"
   ]
  },
  {
   "cell_type": "code",
   "execution_count": 253,
   "id": "9bc01c02",
   "metadata": {},
   "outputs": [
    {
     "name": "stdout",
     "output_type": "stream",
     "text": [
      "Epoch: 0, train loss: 0.86014, test loss: 0.38445\n",
      "Epoch: 30, train loss: 0.02646, test loss: 0.03057\n",
      "Epoch: 60, train loss: 0.01553, test loss: 0.01758\n",
      "Epoch: 90, train loss: 0.01180, test loss: 0.02735\n",
      "Epoch: 120, train loss: 0.01126, test loss: 0.02581\n",
      "Epoch: 150, train loss: 0.00970, test loss: 0.02379\n",
      "Epoch: 180, train loss: 0.00810, test loss: 0.02214\n",
      "Epoch: 210, train loss: 0.00693, test loss: 0.01945\n",
      "Epoch: 240, train loss: 0.00482, test loss: 0.01367\n",
      "Epoch: 270, train loss: 0.00390, test loss: 0.01017\n"
     ]
    }
   ],
   "source": [
    "m = lstm()\n",
    "m.fit(data =  data, split = 135, hidden_size= 16, verbose = 2, num_epochs= 300)\n",
    "mimp = m.get_importances(10, names = True)\n",
    "# no feature selection"
   ]
  },
  {
   "cell_type": "code",
   "execution_count": 5,
   "id": "4c2e6fea",
   "metadata": {},
   "outputs": [
    {
     "ename": "NameError",
     "evalue": "name 'l' is not defined",
     "output_type": "error",
     "traceback": [
      "\u001b[1;31m---------------------------------------------------------------------------\u001b[0m",
      "\u001b[1;31mNameError\u001b[0m                                 Traceback (most recent call last)",
      "Cell \u001b[1;32mIn[5], line 1\u001b[0m\n\u001b[1;32m----> 1\u001b[0m \u001b[43ml\u001b[49m\u001b[38;5;241m.\u001b[39mpredict()\n\u001b[0;32m      2\u001b[0m t\u001b[38;5;241m.\u001b[39mpredict()\n\u001b[0;32m      3\u001b[0m r\u001b[38;5;241m.\u001b[39mpredict()\n",
      "\u001b[1;31mNameError\u001b[0m: name 'l' is not defined"
     ]
    }
   ],
   "source": [
    "l.predict()\n",
    "t.predict()\n",
    "r.predict()\n",
    "a.predict()\n",
    "g.predict()\n",
    "m.predict()"
   ]
  },
  {
   "cell_type": "code",
   "execution_count": 275,
   "id": "b018fd1e",
   "metadata": {},
   "outputs": [
    {
     "name": "stdout",
     "output_type": "stream",
     "text": [
      "Train: 712.1666583405694 \n",
      "Test: 1897.5579971795792\n"
     ]
    },
    {
     "data": {
      "text/plain": [
       "(712.1666583405694, 1897.5579971795792)"
      ]
     },
     "execution_count": 275,
     "metadata": {},
     "output_type": "execute_result"
    },
    {
     "data": {
      "image/png": "[encoded data removed]",
      "text/plain": [
       "<Figure size 640x480 with 1 Axes>"
      ]
     },
     "metadata": {},
     "output_type": "display_data"
    }
   ],
   "source": [
    "out_eval(m.full, criterion=mean_squared_error, verbose=2)"
   ]
  },
  {
   "cell_type": "code",
   "execution_count": 46,
   "id": "0fba4658",
   "metadata": {},
   "outputs": [],
   "source": [
    "from scripts.churn_functions import out_eval\n",
    "from sklearn.metrics import r2_score, mean_squared_error\n",
    "import torch\n",
    "from torch.autograd import Variable \n",
    "from torch import nn"
   ]
  },
  {
   "cell_type": "markdown",
   "id": "f3c1eefe",
   "metadata": {},
   "source": [
    "For a model class, it needs to have \n",
    "    - fit method, which will take in most arguments and update model attribute\n",
    "    - bake method, which will predict and return\n",
    "    \n",
    "    - need data attributes, cv attributes, features_in, targetvar, split, features_out, model itself, and out"
   ]
  },
  {
   "cell_type": "code",
   "execution_count": 8,
   "id": "baee9e26",
   "metadata": {},
   "outputs": [],
   "source": [
    "r = random_forest()\n",
    "\n",
    "r.fit(data = data, \n",
    "              split = 135,\n",
    "              scoring = \"neg_mean_squared_error\",\n",
    "              feature_selection = True)\n",
    "r.predict()"
   ]
  },
  {
   "cell_type": "code",
   "execution_count": 23,
   "id": "c86f6fa4",
   "metadata": {},
   "outputs": [
    {
     "data": {
      "text/html": [
       "<div>\n",
       "<style scoped>\n",
       "    .dataframe tbody tr th:only-of-type {\n",
       "        vertical-align: middle;\n",
       "    }\n",
       "\n",
       "    .dataframe tbody tr th {\n",
       "        vertical-align: top;\n",
       "    }\n",
       "\n",
       "    .dataframe thead th {\n",
       "        text-align: right;\n",
       "    }\n",
       "</style>\n",
       "<table border=\"1\" class=\"dataframe\">\n",
       "  <thead>\n",
       "    <tr style=\"text-align: right;\">\n",
       "      <th></th>\n",
       "      <th>imp</th>\n",
       "      <th>name</th>\n",
       "      <th>0</th>\n",
       "    </tr>\n",
       "  </thead>\n",
       "  <tbody>\n",
       "    <tr>\n",
       "      <th>8</th>\n",
       "      <td>0.321707</td>\n",
       "      <td>GT_lag3</td>\n",
       "      <td>GT_lag3</td>\n",
       "    </tr>\n",
       "    <tr>\n",
       "      <th>15</th>\n",
       "      <td>0.242295</td>\n",
       "      <td>prodmanuf_lag3</td>\n",
       "      <td>prodmanuf_lag3</td>\n",
       "    </tr>\n",
       "    <tr>\n",
       "      <th>7</th>\n",
       "      <td>0.101134</td>\n",
       "      <td>GT_lag9</td>\n",
       "      <td>GT_lag9</td>\n",
       "    </tr>\n",
       "    <tr>\n",
       "      <th>2</th>\n",
       "      <td>0.072823</td>\n",
       "      <td>g_car_for_sale_near_me_lag3</td>\n",
       "      <td>g_car_for_sale_near_me_lag3</td>\n",
       "    </tr>\n",
       "    <tr>\n",
       "      <th>13</th>\n",
       "      <td>0.061061</td>\n",
       "      <td>MZDAY_v_lag3</td>\n",
       "      <td>MZDAY_v_lag3</td>\n",
       "    </tr>\n",
       "    <tr>\n",
       "      <th>17</th>\n",
       "      <td>0.029958</td>\n",
       "      <td>treasurymat1_lag6</td>\n",
       "      <td>treasurymat1_lag6</td>\n",
       "    </tr>\n",
       "    <tr>\n",
       "      <th>1</th>\n",
       "      <td>0.020137</td>\n",
       "      <td>BWA_v_lag6</td>\n",
       "      <td>BWA_v_lag6</td>\n",
       "    </tr>\n",
       "    <tr>\n",
       "      <th>4</th>\n",
       "      <td>0.019596</td>\n",
       "      <td>g_how_to_buy_a_car_lag3</td>\n",
       "      <td>g_how_to_buy_a_car_lag3</td>\n",
       "    </tr>\n",
       "    <tr>\n",
       "      <th>14</th>\n",
       "      <td>0.019262</td>\n",
       "      <td>ngspot_lag3</td>\n",
       "      <td>ngspot_lag3</td>\n",
       "    </tr>\n",
       "    <tr>\n",
       "      <th>6</th>\n",
       "      <td>0.017556</td>\n",
       "      <td>g_used_cars_lag9</td>\n",
       "      <td>g_used_cars_lag9</td>\n",
       "    </tr>\n",
       "    <tr>\n",
       "      <th>16</th>\n",
       "      <td>0.017483</td>\n",
       "      <td>TM_v_lag12</td>\n",
       "      <td>TM_v_lag12</td>\n",
       "    </tr>\n",
       "    <tr>\n",
       "      <th>12</th>\n",
       "      <td>0.014722</td>\n",
       "      <td>LEA_v_lag6</td>\n",
       "      <td>LEA_v_lag6</td>\n",
       "    </tr>\n",
       "    <tr>\n",
       "      <th>0</th>\n",
       "      <td>0.012303</td>\n",
       "      <td>BWA_lag9</td>\n",
       "      <td>BWA_lag9</td>\n",
       "    </tr>\n",
       "    <tr>\n",
       "      <th>5</th>\n",
       "      <td>0.011637</td>\n",
       "      <td>g_new_cars_lag9</td>\n",
       "      <td>g_new_cars_lag9</td>\n",
       "    </tr>\n",
       "    <tr>\n",
       "      <th>9</th>\n",
       "      <td>0.011019</td>\n",
       "      <td>GT_v_lag12</td>\n",
       "      <td>GT_v_lag12</td>\n",
       "    </tr>\n",
       "    <tr>\n",
       "      <th>11</th>\n",
       "      <td>0.009556</td>\n",
       "      <td>HMC_v_lag3</td>\n",
       "      <td>HMC_v_lag3</td>\n",
       "    </tr>\n",
       "    <tr>\n",
       "      <th>10</th>\n",
       "      <td>0.008882</td>\n",
       "      <td>HMC_v_lag12</td>\n",
       "      <td>HMC_v_lag12</td>\n",
       "    </tr>\n",
       "    <tr>\n",
       "      <th>3</th>\n",
       "      <td>0.008869</td>\n",
       "      <td>g_how_to_buy_a_car_lag9</td>\n",
       "      <td>g_how_to_buy_a_car_lag9</td>\n",
       "    </tr>\n",
       "  </tbody>\n",
       "</table>\n",
       "</div>"
      ],
      "text/plain": [
       "         imp                         name                            0\n",
       "8   0.321707                      GT_lag3                      GT_lag3\n",
       "15  0.242295               prodmanuf_lag3               prodmanuf_lag3\n",
       "7   0.101134                      GT_lag9                      GT_lag9\n",
       "2   0.072823  g_car_for_sale_near_me_lag3  g_car_for_sale_near_me_lag3\n",
       "13  0.061061                 MZDAY_v_lag3                 MZDAY_v_lag3\n",
       "17  0.029958            treasurymat1_lag6            treasurymat1_lag6\n",
       "1   0.020137                   BWA_v_lag6                   BWA_v_lag6\n",
       "4   0.019596      g_how_to_buy_a_car_lag3      g_how_to_buy_a_car_lag3\n",
       "14  0.019262                  ngspot_lag3                  ngspot_lag3\n",
       "6   0.017556             g_used_cars_lag9             g_used_cars_lag9\n",
       "16  0.017483                   TM_v_lag12                   TM_v_lag12\n",
       "12  0.014722                   LEA_v_lag6                   LEA_v_lag6\n",
       "0   0.012303                     BWA_lag9                     BWA_lag9\n",
       "5   0.011637              g_new_cars_lag9              g_new_cars_lag9\n",
       "9   0.011019                   GT_v_lag12                   GT_v_lag12\n",
       "11  0.009556                   HMC_v_lag3                   HMC_v_lag3\n",
       "10  0.008882                  HMC_v_lag12                  HMC_v_lag12\n",
       "3   0.008869      g_how_to_buy_a_car_lag9      g_how_to_buy_a_car_lag9"
      ]
     },
     "execution_count": 23,
     "metadata": {},
     "output_type": "execute_result"
    }
   ],
   "source": [
    "r.get_importances().merge(r.__X_train__.columns.to_frame(), how = 'left', left_index=False, right_index=True, left_on = 'name')"
   ]
  },
  {
   "cell_type": "code",
   "execution_count": 15,
   "id": "567f9fd3",
   "metadata": {},
   "outputs": [
    {
     "data": {
      "text/html": [
       "<div>\n",
       "<style scoped>\n",
       "    .dataframe tbody tr th:only-of-type {\n",
       "        vertical-align: middle;\n",
       "    }\n",
       "\n",
       "    .dataframe tbody tr th {\n",
       "        vertical-align: top;\n",
       "    }\n",
       "\n",
       "    .dataframe thead th {\n",
       "        text-align: right;\n",
       "    }\n",
       "</style>\n",
       "<table border=\"1\" class=\"dataframe\">\n",
       "  <thead>\n",
       "    <tr style=\"text-align: right;\">\n",
       "      <th></th>\n",
       "      <th>0</th>\n",
       "    </tr>\n",
       "  </thead>\n",
       "  <tbody>\n",
       "    <tr>\n",
       "      <th>BWA_lag9</th>\n",
       "      <td>BWA_lag9</td>\n",
       "    </tr>\n",
       "    <tr>\n",
       "      <th>BWA_v_lag6</th>\n",
       "      <td>BWA_v_lag6</td>\n",
       "    </tr>\n",
       "    <tr>\n",
       "      <th>g_car_for_sale_near_me_lag3</th>\n",
       "      <td>g_car_for_sale_near_me_lag3</td>\n",
       "    </tr>\n",
       "    <tr>\n",
       "      <th>g_how_to_buy_a_car_lag9</th>\n",
       "      <td>g_how_to_buy_a_car_lag9</td>\n",
       "    </tr>\n",
       "    <tr>\n",
       "      <th>g_how_to_buy_a_car_lag3</th>\n",
       "      <td>g_how_to_buy_a_car_lag3</td>\n",
       "    </tr>\n",
       "    <tr>\n",
       "      <th>g_new_cars_lag9</th>\n",
       "      <td>g_new_cars_lag9</td>\n",
       "    </tr>\n",
       "    <tr>\n",
       "      <th>g_used_cars_lag9</th>\n",
       "      <td>g_used_cars_lag9</td>\n",
       "    </tr>\n",
       "    <tr>\n",
       "      <th>GT_lag9</th>\n",
       "      <td>GT_lag9</td>\n",
       "    </tr>\n",
       "    <tr>\n",
       "      <th>GT_lag3</th>\n",
       "      <td>GT_lag3</td>\n",
       "    </tr>\n",
       "    <tr>\n",
       "      <th>GT_v_lag12</th>\n",
       "      <td>GT_v_lag12</td>\n",
       "    </tr>\n",
       "    <tr>\n",
       "      <th>HMC_v_lag12</th>\n",
       "      <td>HMC_v_lag12</td>\n",
       "    </tr>\n",
       "    <tr>\n",
       "      <th>HMC_v_lag3</th>\n",
       "      <td>HMC_v_lag3</td>\n",
       "    </tr>\n",
       "    <tr>\n",
       "      <th>LEA_v_lag6</th>\n",
       "      <td>LEA_v_lag6</td>\n",
       "    </tr>\n",
       "    <tr>\n",
       "      <th>MZDAY_v_lag3</th>\n",
       "      <td>MZDAY_v_lag3</td>\n",
       "    </tr>\n",
       "    <tr>\n",
       "      <th>ngspot_lag3</th>\n",
       "      <td>ngspot_lag3</td>\n",
       "    </tr>\n",
       "    <tr>\n",
       "      <th>prodmanuf_lag3</th>\n",
       "      <td>prodmanuf_lag3</td>\n",
       "    </tr>\n",
       "    <tr>\n",
       "      <th>TM_v_lag12</th>\n",
       "      <td>TM_v_lag12</td>\n",
       "    </tr>\n",
       "    <tr>\n",
       "      <th>treasurymat1_lag6</th>\n",
       "      <td>treasurymat1_lag6</td>\n",
       "    </tr>\n",
       "  </tbody>\n",
       "</table>\n",
       "</div>"
      ],
      "text/plain": [
       "                                                       0\n",
       "BWA_lag9                                        BWA_lag9\n",
       "BWA_v_lag6                                    BWA_v_lag6\n",
       "g_car_for_sale_near_me_lag3  g_car_for_sale_near_me_lag3\n",
       "g_how_to_buy_a_car_lag9          g_how_to_buy_a_car_lag9\n",
       "g_how_to_buy_a_car_lag3          g_how_to_buy_a_car_lag3\n",
       "g_new_cars_lag9                          g_new_cars_lag9\n",
       "g_used_cars_lag9                        g_used_cars_lag9\n",
       "GT_lag9                                          GT_lag9\n",
       "GT_lag3                                          GT_lag3\n",
       "GT_v_lag12                                    GT_v_lag12\n",
       "HMC_v_lag12                                  HMC_v_lag12\n",
       "HMC_v_lag3                                    HMC_v_lag3\n",
       "LEA_v_lag6                                    LEA_v_lag6\n",
       "MZDAY_v_lag3                                MZDAY_v_lag3\n",
       "ngspot_lag3                                  ngspot_lag3\n",
       "prodmanuf_lag3                            prodmanuf_lag3\n",
       "TM_v_lag12                                    TM_v_lag12\n",
       "treasurymat1_lag6                      treasurymat1_lag6"
      ]
     },
     "execution_count": 15,
     "metadata": {},
     "output_type": "execute_result"
    }
   ],
   "source": [
    "r.__X_train__.columns.to_frame()"
   ]
  },
  {
   "cell_type": "code",
   "execution_count": 232,
   "id": "00310acb",
   "metadata": {},
   "outputs": [
    {
     "name": "stdout",
     "output_type": "stream",
     "text": [
      "Epoch: 0, train loss: 0.86014, test loss: 0.38445\n",
      "Epoch: 30, train loss: 0.02646, test loss: 0.03057\n",
      "Epoch: 60, train loss: 0.01553, test loss: 0.01758\n",
      "Epoch: 90, train loss: 0.01180, test loss: 0.02735\n",
      "Epoch: 120, train loss: 0.01126, test loss: 0.02581\n",
      "Epoch: 150, train loss: 0.00970, test loss: 0.02379\n",
      "Epoch: 180, train loss: 0.00810, test loss: 0.02214\n",
      "Epoch: 210, train loss: 0.00693, test loss: 0.01945\n",
      "Epoch: 240, train loss: 0.00482, test loss: 0.01367\n",
      "Epoch: 270, train loss: 0.00390, test loss: 0.01017\n"
     ]
    }
   ],
   "source": [
    "l = lstm()\n",
    "\n",
    "l.fit(data = data, split = 135, verbose = 2, num_epochs= 300, hidden_size=16, learning_rate=0.01, feature_selection = None)"
   ]
  },
  {
   "cell_type": "code",
   "execution_count": 233,
   "id": "1f4b935b",
   "metadata": {},
   "outputs": [],
   "source": [
    "l.predict()"
   ]
  },
  {
   "cell_type": "code",
   "execution_count": 239,
   "id": "8f05c953",
   "metadata": {},
   "outputs": [
    {
     "name": "stdout",
     "output_type": "stream",
     "text": [
      "Train: 712.1666583405694 \n",
      "Test: 1897.5579971795792\n"
     ]
    },
    {
     "data": {
      "text/plain": [
       "(712.1666583405694, 1897.5579971795792)"
      ]
     },
     "execution_count": 239,
     "metadata": {},
     "output_type": "execute_result"
    },
    {
     "data": {
      "image/png": "[encoded data removed]",
      "text/plain": [
       "<Figure size 640x480 with 1 Axes>"
      ]
     },
     "metadata": {},
     "output_type": "display_data"
    }
   ],
   "source": [
    "out_eval(l.full, criterion=mean_squared_error, verbose=2)"
   ]
  },
  {
   "cell_type": "code",
   "execution_count": 237,
   "id": "b098bed9",
   "metadata": {},
   "outputs": [
    {
     "data": {
      "text/plain": [
       "array(['stuffcpi_lag9', 'g_car_for_sale_near_me_lag3',\n",
       "       'g_dealership_near_me_lag3', 'retail_lag3',\n",
       "       'g_how_to_buy_a_car_lag3', 'carcpi_lag6', 'industry_lag9',\n",
       "       'ngspot_lag3', 'stuffcpi_lag3', '10yinf_lag3', 'LEA_lag6',\n",
       "       'g_how_to_buy_a_car_lag9', 'month', 'g_best_new_cars_lag12',\n",
       "       'g_best_new_cars_lag9'], dtype=object)"
      ]
     },
     "execution_count": 237,
     "metadata": {},
     "output_type": "execute_result"
    }
   ],
   "source": [
    "fs = l.get_importances(names = True)\n",
    "fs"
   ]
  },
  {
   "cell_type": "code",
   "execution_count": null,
   "id": "f623d9ac",
   "metadata": {},
   "outputs": [],
   "source": []
  },
  {
   "cell_type": "code",
   "execution_count": 215,
   "id": "eeabe338",
   "metadata": {},
   "outputs": [],
   "source": [
    "l.predict()"
   ]
  },
  {
   "cell_type": "code",
   "execution_count": 216,
   "id": "aec199a0",
   "metadata": {},
   "outputs": [
    {
     "name": "stdout",
     "output_type": "stream",
     "text": [
      "Train: 0.04780576306322345 \n",
      "Test: 3269.030577278458\n"
     ]
    },
    {
     "data": {
      "text/plain": [
       "(0.04780576306322345, 3269.030577278458)"
      ]
     },
     "execution_count": 216,
     "metadata": {},
     "output_type": "execute_result"
    },
    {
     "data": {
      "image/png": "[encoded data removed]",
      "text/plain": [
       "<Figure size 640x480 with 1 Axes>"
      ]
     },
     "metadata": {},
     "output_type": "display_data"
    }
   ],
   "source": [
    "out_eval(l.full, criterion=mean_squared_error, verbose=2)"
   ]
  },
  {
   "cell_type": "code",
   "execution_count": 23,
   "id": "970351f4",
   "metadata": {},
   "outputs": [
    {
     "data": {
      "text/html": [
       "<div>\n",
       "<style scoped>\n",
       "    .dataframe tbody tr th:only-of-type {\n",
       "        vertical-align: middle;\n",
       "    }\n",
       "\n",
       "    .dataframe tbody tr th {\n",
       "        vertical-align: top;\n",
       "    }\n",
       "\n",
       "    .dataframe thead th {\n",
       "        text-align: right;\n",
       "    }\n",
       "</style>\n",
       "<table border=\"1\" class=\"dataframe\">\n",
       "  <thead>\n",
       "    <tr style=\"text-align: right;\">\n",
       "      <th></th>\n",
       "      <th>imp</th>\n",
       "      <th>name</th>\n",
       "    </tr>\n",
       "  </thead>\n",
       "  <tbody>\n",
       "    <tr>\n",
       "      <th>0</th>\n",
       "      <td>0.271761</td>\n",
       "      <td>stuffcpi_lag3</td>\n",
       "    </tr>\n",
       "    <tr>\n",
       "      <th>1</th>\n",
       "      <td>0.120152</td>\n",
       "      <td>ngspot_lag3</td>\n",
       "    </tr>\n",
       "    <tr>\n",
       "      <th>5</th>\n",
       "      <td>0.118044</td>\n",
       "      <td>AN_lag12</td>\n",
       "    </tr>\n",
       "    <tr>\n",
       "      <th>2</th>\n",
       "      <td>0.112457</td>\n",
       "      <td>sales_lag3</td>\n",
       "    </tr>\n",
       "    <tr>\n",
       "      <th>7</th>\n",
       "      <td>0.081934</td>\n",
       "      <td>localrent_lag9</td>\n",
       "    </tr>\n",
       "    <tr>\n",
       "      <th>9</th>\n",
       "      <td>0.060473</td>\n",
       "      <td>industrycg_lag9</td>\n",
       "    </tr>\n",
       "    <tr>\n",
       "      <th>8</th>\n",
       "      <td>0.053311</td>\n",
       "      <td>hcpiurban_lag9</td>\n",
       "    </tr>\n",
       "    <tr>\n",
       "      <th>6</th>\n",
       "      <td>0.034909</td>\n",
       "      <td>carcpi_lag9</td>\n",
       "    </tr>\n",
       "    <tr>\n",
       "      <th>3</th>\n",
       "      <td>0.010530</td>\n",
       "      <td>hcpiurban_lag12</td>\n",
       "    </tr>\n",
       "    <tr>\n",
       "      <th>4</th>\n",
       "      <td>0.005757</td>\n",
       "      <td>g_dealership_near_me_lag3</td>\n",
       "    </tr>\n",
       "  </tbody>\n",
       "</table>\n",
       "</div>"
      ],
      "text/plain": [
       "        imp                       name\n",
       "0  0.271761              stuffcpi_lag3\n",
       "1  0.120152                ngspot_lag3\n",
       "5  0.118044                   AN_lag12\n",
       "2  0.112457                 sales_lag3\n",
       "7  0.081934             localrent_lag9\n",
       "9  0.060473            industrycg_lag9\n",
       "8  0.053311             hcpiurban_lag9\n",
       "6  0.034909                carcpi_lag9\n",
       "3  0.010530            hcpiurban_lag12\n",
       "4  0.005757  g_dealership_near_me_lag3"
      ]
     },
     "execution_count": 23,
     "metadata": {},
     "output_type": "execute_result"
    }
   ],
   "source": [
    "g.get_importances(10)"
   ]
  },
  {
   "cell_type": "code",
   "execution_count": 19,
   "id": "7cb903ba",
   "metadata": {},
   "outputs": [
    {
     "data": {
      "text/html": [
       "<div>\n",
       "<style scoped>\n",
       "    .dataframe tbody tr th:only-of-type {\n",
       "        vertical-align: middle;\n",
       "    }\n",
       "\n",
       "    .dataframe tbody tr th {\n",
       "        vertical-align: top;\n",
       "    }\n",
       "\n",
       "    .dataframe thead th {\n",
       "        text-align: right;\n",
       "    }\n",
       "</style>\n",
       "<table border=\"1\" class=\"dataframe\">\n",
       "  <thead>\n",
       "    <tr style=\"text-align: right;\">\n",
       "      <th></th>\n",
       "      <th>splits</th>\n",
       "      <th>eval_scoring</th>\n",
       "    </tr>\n",
       "  </thead>\n",
       "  <tbody>\n",
       "    <tr>\n",
       "      <th>0</th>\n",
       "      <td>117</td>\n",
       "      <td>&lt;function mean_squared_error at 0x000002ADC461...</td>\n",
       "    </tr>\n",
       "    <tr>\n",
       "      <th>1</th>\n",
       "      <td>119</td>\n",
       "      <td>&lt;function mean_squared_error at 0x000002ADC461...</td>\n",
       "    </tr>\n",
       "    <tr>\n",
       "      <th>2</th>\n",
       "      <td>125</td>\n",
       "      <td>&lt;function mean_squared_error at 0x000002ADC461...</td>\n",
       "    </tr>\n",
       "    <tr>\n",
       "      <th>3</th>\n",
       "      <td>130</td>\n",
       "      <td>&lt;function mean_squared_error at 0x000002ADC461...</td>\n",
       "    </tr>\n",
       "    <tr>\n",
       "      <th>4</th>\n",
       "      <td>130</td>\n",
       "      <td>&lt;function mean_squared_error at 0x000002ADC461...</td>\n",
       "    </tr>\n",
       "    <tr>\n",
       "      <th>5</th>\n",
       "      <td>135</td>\n",
       "      <td>&lt;function mean_squared_error at 0x000002ADC461...</td>\n",
       "    </tr>\n",
       "    <tr>\n",
       "      <th>6</th>\n",
       "      <td>117</td>\n",
       "      <td>&lt;function r2_score at 0x000002ADC46196C0&gt;</td>\n",
       "    </tr>\n",
       "    <tr>\n",
       "      <th>7</th>\n",
       "      <td>119</td>\n",
       "      <td>&lt;function r2_score at 0x000002ADC46196C0&gt;</td>\n",
       "    </tr>\n",
       "    <tr>\n",
       "      <th>8</th>\n",
       "      <td>125</td>\n",
       "      <td>&lt;function r2_score at 0x000002ADC46196C0&gt;</td>\n",
       "    </tr>\n",
       "    <tr>\n",
       "      <th>9</th>\n",
       "      <td>130</td>\n",
       "      <td>&lt;function r2_score at 0x000002ADC46196C0&gt;</td>\n",
       "    </tr>\n",
       "    <tr>\n",
       "      <th>10</th>\n",
       "      <td>130</td>\n",
       "      <td>&lt;function r2_score at 0x000002ADC46196C0&gt;</td>\n",
       "    </tr>\n",
       "    <tr>\n",
       "      <th>11</th>\n",
       "      <td>135</td>\n",
       "      <td>&lt;function r2_score at 0x000002ADC46196C0&gt;</td>\n",
       "    </tr>\n",
       "  </tbody>\n",
       "</table>\n",
       "</div>"
      ],
      "text/plain": [
       "    splits                                       eval_scoring\n",
       "0      117  <function mean_squared_error at 0x000002ADC461...\n",
       "1      119  <function mean_squared_error at 0x000002ADC461...\n",
       "2      125  <function mean_squared_error at 0x000002ADC461...\n",
       "3      130  <function mean_squared_error at 0x000002ADC461...\n",
       "4      130  <function mean_squared_error at 0x000002ADC461...\n",
       "5      135  <function mean_squared_error at 0x000002ADC461...\n",
       "6      117          <function r2_score at 0x000002ADC46196C0>\n",
       "7      119          <function r2_score at 0x000002ADC46196C0>\n",
       "8      125          <function r2_score at 0x000002ADC46196C0>\n",
       "9      130          <function r2_score at 0x000002ADC46196C0>\n",
       "10     130          <function r2_score at 0x000002ADC46196C0>\n",
       "11     135          <function r2_score at 0x000002ADC46196C0>"
      ]
     },
     "execution_count": 19,
     "metadata": {},
     "output_type": "execute_result"
    }
   ],
   "source": [
    "def expand_grid(splits, eval_scoring):\n",
    "        aG, bG = np.meshgrid(list(splits), list(eval_scoring)) # create the actual grid\n",
    "        aG = aG.flatten() # make the grid 1d\n",
    "        bG = bG.flatten()\n",
    "        return pd.DataFrame({\n",
    "            'splits':aG, \n",
    "            'eval_scoring':bG})\n",
    "\n",
    "expand_grid(splits = [(117, 119), (125, 130), (130, 135)], eval_scoring= [mean_squared_error, r2_score])"
   ]
  },
  {
   "cell_type": "code",
   "execution_count": 20,
   "id": "374b9c1f",
   "metadata": {},
   "outputs": [],
   "source": [
    "def train_all(split, criterion):\n",
    "    from models.dev.prediction.scripts.linear import linear_regression\n",
    "    from models.dev.prediction.scripts.tree import decision_tree\n",
    "    from models.dev.prediction.scripts.random import random_forest\n",
    "\n",
    "    data = pd.read_csv(\"data/out/features.csv\")\n",
    "    \n",
    "    # save results to df\n",
    "    df = pd.DataFrame(columns = ['split',\n",
    "                         'scoring_method', \n",
    "                         'train_score', \n",
    "                         'eval_score'])\n",
    "    \n",
    "    l = linear_regression()\n",
    "    t = decision_tree()\n",
    "    r = random_forest()\n",
    "    \n",
    "    l.fit(data = data, \n",
    "                  split = split,\n",
    "                  scoring = \"neg_mean_squared_error\",\n",
    "                  feature_selection = True)\n",
    "\n",
    "    t.fit(data = data, \n",
    "                  split = split,\n",
    "                  scoring = \"neg_mean_squared_error\",\n",
    "                  feature_selection = True)\n",
    "\n",
    "    # takes a little bit\n",
    "    r.fit(data = data, \n",
    "                  split = split,\n",
    "                  scoring = \"neg_mean_squared_error\",\n",
    "                  feature_selection = True)\n",
    "\n",
    "    l.predict()\n",
    "    t.predict()\n",
    "    r.predict()\n",
    "\n",
    "    # compose df\n",
    "    df.loc['lm'] = [split, criterion.__name__, out_eval(l.full, criterion)[0], out_eval(l.full, criterion)[1]]\n",
    "\n",
    "    df.loc['tree'] = [split, criterion.__name__, out_eval(t.full, criterion)[0], out_eval(t.full, criterion)[1]]\n",
    "    \n",
    "    df.loc['rf'] = [split, criterion.__name__, out_eval(r.full, criterion)[0], out_eval(r.full, criterion)[1]]\n",
    "\n",
    "    return df"
   ]
  },
  {
   "cell_type": "code",
   "execution_count": 33,
   "id": "a9b8643e",
   "metadata": {},
   "outputs": [
    {
     "data": {
      "text/html": [
       "<div>\n",
       "<style scoped>\n",
       "    .dataframe tbody tr th:only-of-type {\n",
       "        vertical-align: middle;\n",
       "    }\n",
       "\n",
       "    .dataframe tbody tr th {\n",
       "        vertical-align: top;\n",
       "    }\n",
       "\n",
       "    .dataframe thead th {\n",
       "        text-align: right;\n",
       "    }\n",
       "</style>\n",
       "<table border=\"1\" class=\"dataframe\">\n",
       "  <thead>\n",
       "    <tr style=\"text-align: right;\">\n",
       "      <th></th>\n",
       "      <th>split</th>\n",
       "      <th>scoring_method</th>\n",
       "      <th>train_score</th>\n",
       "      <th>eval_score</th>\n",
       "    </tr>\n",
       "  </thead>\n",
       "  <tbody>\n",
       "    <tr>\n",
       "      <th>lm</th>\n",
       "      <td>117</td>\n",
       "      <td>mean_squared_error</td>\n",
       "      <td>910.776837</td>\n",
       "      <td>6468.894566</td>\n",
       "    </tr>\n",
       "    <tr>\n",
       "      <th>tree</th>\n",
       "      <td>117</td>\n",
       "      <td>mean_squared_error</td>\n",
       "      <td>982.942894</td>\n",
       "      <td>6286.495117</td>\n",
       "    </tr>\n",
       "    <tr>\n",
       "      <th>rf</th>\n",
       "      <td>117</td>\n",
       "      <td>mean_squared_error</td>\n",
       "      <td>182.112869</td>\n",
       "      <td>5392.636877</td>\n",
       "    </tr>\n",
       "  </tbody>\n",
       "</table>\n",
       "</div>"
      ],
      "text/plain": [
       "      split      scoring_method  train_score   eval_score\n",
       "lm      117  mean_squared_error   910.776837  6468.894566\n",
       "tree    117  mean_squared_error   982.942894  6286.495117\n",
       "rf      117  mean_squared_error   182.112869  5392.636877"
      ]
     },
     "execution_count": 33,
     "metadata": {},
     "output_type": "execute_result"
    }
   ],
   "source": [
    "train_all(split = 117, criterion=mean_squared_error)"
   ]
  },
  {
   "cell_type": "code",
   "execution_count": 21,
   "id": "17c64e28",
   "metadata": {},
   "outputs": [
    {
     "name": "stderr",
     "output_type": "stream",
     "text": [
      "C:\\Users\\keato\\AppData\\Local\\Programs\\Python\\Python310\\lib\\site-packages\\sklearn\\linear_model\\_coordinate_descent.py:648: ConvergenceWarning: Objective did not converge. You might want to increase the number of iterations, check the scale of the features or consider increasing regularisation. Duality gap: 2.314e+00, tolerance: 1.955e+00\n",
      "  model = cd_fast.enet_coordinate_descent(\n"
     ]
    }
   ],
   "source": [
    "full = pd.DataFrame(columns = ['model',\n",
    "                               'split', \n",
    "                                'scoring_method',\n",
    "                                      'train_score',\n",
    "                                     'eval_score'])\n",
    "for i in range(20, 135, 5):\n",
    "    \n",
    "    pdf = train_all(split = (i, 135),\n",
    "                   criterion = mean_squared_error)\n",
    "    \n",
    "    pdf.reset_index(inplace=True)\n",
    "    \n",
    "    pdf = pdf.rename(columns = {'index':'model'})\n",
    "    \n",
    "    full = pd.concat([pdf, full], ignore_index = True)"
   ]
  },
  {
   "cell_type": "code",
   "execution_count": 24,
   "id": "900e508b",
   "metadata": {},
   "outputs": [],
   "source": [
    "full # model and criterion cols empty\n",
    "#try again?\n",
    "# takes like an hour\n",
    "full.to_csv(\"fully.csv\")"
   ]
  }
 ],
 "metadata": {
  "kernelspec": {
   "display_name": "Python 3 (ipykernel)",
   "language": "python",
   "name": "python3"
  },
  "language_info": {
   "codemirror_mode": {
    "name": "ipython",
    "version": 3
   },
   "file_extension": ".py",
   "mimetype": "text/x-python",
   "name": "python",
   "nbconvert_exporter": "python",
   "pygments_lexer": "ipython3",
   "version": "3.10.7"
  }
 },
 "nbformat": 4,
 "nbformat_minor": 5
}
