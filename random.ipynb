{
 "cells": [
  {
   "cell_type": "code",
   "execution_count": 18,
   "id": "55af4902",
   "metadata": {},
   "outputs": [],
   "source": [
    "# random forest"
   ]
  },
  {
   "cell_type": "code",
   "execution_count": 19,
   "id": "45bf082c",
   "metadata": {},
   "outputs": [],
   "source": [
    "import numpy as np\n",
    "import pandas as pd\n",
    "import os\n",
    "import pickle\n",
    "import re\n",
    "import warnings\n",
    "from sklearn.ensemble import RandomForestRegressor\n",
    "from sklearn.preprocessing import StandardScaler\n",
    "import matplotlib.pyplot as plt\n",
    "from sklearn.metrics import mean_squared_error\n",
    "from sklearn.model_selection import train_test_split, GridSearchCV\n",
    "from sklearn.pipeline import Pipeline\n",
    "import sklearn.tree as tree"
   ]
  },
  {
   "cell_type": "code",
   "execution_count": 20,
   "id": "0cdf4a7d",
   "metadata": {},
   "outputs": [
    {
     "name": "stderr",
     "output_type": "stream",
     "text": [
      "C:\\Users\\keato\\AppData\\Roaming\\Python\\Python37\\site-packages\\sklearn\\pipeline.py:394: UserWarning: With alpha=0, this algorithm does not converge well. You are advised to use the LinearRegression estimator\n",
      "  self._final_estimator.fit(Xt, y, **fit_params_last_step)\n",
      "C:\\Users\\keato\\AppData\\Roaming\\Python\\Python37\\site-packages\\sklearn\\linear_model\\_coordinate_descent.py:648: UserWarning: Coordinate descent with no regularization may lead to unexpected results and is discouraged.\n",
      "  coef_, l1_reg, l2_reg, X, y, max_iter, tol, rng, random, positive\n",
      "C:\\Users\\keato\\AppData\\Roaming\\Python\\Python37\\site-packages\\sklearn\\linear_model\\_coordinate_descent.py:648: ConvergenceWarning: Objective did not converge. You might want to increase the number of iterations, check the scale of the features or consider increasing regularisation. Duality gap: 6.584e+03, tolerance: 2.274e+01 Linear regression models with null weight for the l1 regularization term are more efficiently fitted using one of the solvers implemented in sklearn.linear_model.Ridge/RidgeCV instead.\n",
      "  coef_, l1_reg, l2_reg, X, y, max_iter, tol, rng, random, positive\n",
      "C:\\Users\\keato\\AppData\\Roaming\\Python\\Python37\\site-packages\\sklearn\\pipeline.py:394: UserWarning: With alpha=0, this algorithm does not converge well. You are advised to use the LinearRegression estimator\n",
      "  self._final_estimator.fit(Xt, y, **fit_params_last_step)\n",
      "C:\\Users\\keato\\AppData\\Roaming\\Python\\Python37\\site-packages\\sklearn\\linear_model\\_coordinate_descent.py:648: UserWarning: Coordinate descent with no regularization may lead to unexpected results and is discouraged.\n",
      "  coef_, l1_reg, l2_reg, X, y, max_iter, tol, rng, random, positive\n",
      "C:\\Users\\keato\\AppData\\Roaming\\Python\\Python37\\site-packages\\sklearn\\linear_model\\_coordinate_descent.py:648: ConvergenceWarning: Objective did not converge. You might want to increase the number of iterations, check the scale of the features or consider increasing regularisation. Duality gap: 1.193e+04, tolerance: 2.035e+01 Linear regression models with null weight for the l1 regularization term are more efficiently fitted using one of the solvers implemented in sklearn.linear_model.Ridge/RidgeCV instead.\n",
      "  coef_, l1_reg, l2_reg, X, y, max_iter, tol, rng, random, positive\n",
      "C:\\Users\\keato\\AppData\\Roaming\\Python\\Python37\\site-packages\\sklearn\\pipeline.py:394: UserWarning: With alpha=0, this algorithm does not converge well. You are advised to use the LinearRegression estimator\n",
      "  self._final_estimator.fit(Xt, y, **fit_params_last_step)\n",
      "C:\\Users\\keato\\AppData\\Roaming\\Python\\Python37\\site-packages\\sklearn\\linear_model\\_coordinate_descent.py:648: UserWarning: Coordinate descent with no regularization may lead to unexpected results and is discouraged.\n",
      "  coef_, l1_reg, l2_reg, X, y, max_iter, tol, rng, random, positive\n",
      "C:\\Users\\keato\\AppData\\Roaming\\Python\\Python37\\site-packages\\sklearn\\linear_model\\_coordinate_descent.py:648: ConvergenceWarning: Objective did not converge. You might want to increase the number of iterations, check the scale of the features or consider increasing regularisation. Duality gap: 1.286e+04, tolerance: 2.352e+01 Linear regression models with null weight for the l1 regularization term are more efficiently fitted using one of the solvers implemented in sklearn.linear_model.Ridge/RidgeCV instead.\n",
      "  coef_, l1_reg, l2_reg, X, y, max_iter, tol, rng, random, positive\n",
      "C:\\Users\\keato\\AppData\\Roaming\\Python\\Python37\\site-packages\\sklearn\\pipeline.py:394: UserWarning: With alpha=0, this algorithm does not converge well. You are advised to use the LinearRegression estimator\n",
      "  self._final_estimator.fit(Xt, y, **fit_params_last_step)\n",
      "C:\\Users\\keato\\AppData\\Roaming\\Python\\Python37\\site-packages\\sklearn\\linear_model\\_coordinate_descent.py:648: UserWarning: Coordinate descent with no regularization may lead to unexpected results and is discouraged.\n",
      "  coef_, l1_reg, l2_reg, X, y, max_iter, tol, rng, random, positive\n",
      "C:\\Users\\keato\\AppData\\Roaming\\Python\\Python37\\site-packages\\sklearn\\linear_model\\_coordinate_descent.py:648: ConvergenceWarning: Objective did not converge. You might want to increase the number of iterations, check the scale of the features or consider increasing regularisation. Duality gap: 1.184e+04, tolerance: 2.279e+01 Linear regression models with null weight for the l1 regularization term are more efficiently fitted using one of the solvers implemented in sklearn.linear_model.Ridge/RidgeCV instead.\n",
      "  coef_, l1_reg, l2_reg, X, y, max_iter, tol, rng, random, positive\n",
      "C:\\Users\\keato\\AppData\\Roaming\\Python\\Python37\\site-packages\\sklearn\\pipeline.py:394: UserWarning: With alpha=0, this algorithm does not converge well. You are advised to use the LinearRegression estimator\n",
      "  self._final_estimator.fit(Xt, y, **fit_params_last_step)\n",
      "C:\\Users\\keato\\AppData\\Roaming\\Python\\Python37\\site-packages\\sklearn\\linear_model\\_coordinate_descent.py:648: UserWarning: Coordinate descent with no regularization may lead to unexpected results and is discouraged.\n",
      "  coef_, l1_reg, l2_reg, X, y, max_iter, tol, rng, random, positive\n",
      "C:\\Users\\keato\\AppData\\Roaming\\Python\\Python37\\site-packages\\sklearn\\linear_model\\_coordinate_descent.py:648: ConvergenceWarning: Objective did not converge. You might want to increase the number of iterations, check the scale of the features or consider increasing regularisation. Duality gap: 6.309e+03, tolerance: 8.847e+00 Linear regression models with null weight for the l1 regularization term are more efficiently fitted using one of the solvers implemented in sklearn.linear_model.Ridge/RidgeCV instead.\n",
      "  coef_, l1_reg, l2_reg, X, y, max_iter, tol, rng, random, positive\n"
     ]
    },
    {
     "name": "stdout",
     "output_type": "stream",
     "text": [
      "Alpha estimate: {'model__alpha': 5.0}\n",
      "15 features selected \n",
      "\n"
     ]
    }
   ],
   "source": [
    "os.getcwd()\n",
    "from thon.Choose import choose_features\n",
    "#data = choose_features(\"data/out/features.csv\", cv_range = (0, 30), save = False)"
   ]
  },
  {
   "cell_type": "code",
   "execution_count": 21,
   "id": "763c7cac",
   "metadata": {},
   "outputs": [],
   "source": [
    "data = pd.read_csv(\"data/out/features.csv\")"
   ]
  },
  {
   "cell_type": "code",
   "execution_count": 22,
   "id": "c5509ae5",
   "metadata": {},
   "outputs": [],
   "source": [
    "# Training data\n",
    "X, y = data.drop(columns = ['n']), data['n']\n",
    "X_train, X_test, y_train, y_test = train_test_split(X, y, test_size = .20, shuffle = False)"
   ]
  },
  {
   "cell_type": "code",
   "execution_count": 23,
   "id": "535d4eed",
   "metadata": {},
   "outputs": [],
   "source": [
    "pipeline = Pipeline([\n",
    "    ('scaler', StandardScaler()),\n",
    "    ('model', RandomForestRegressor())\n",
    "])"
   ]
  },
  {
   "cell_type": "code",
   "execution_count": 24,
   "id": "84b5e18d",
   "metadata": {},
   "outputs": [],
   "source": [
    "search = GridSearchCV(pipeline,\n",
    "                      {'model__n_estimators':np.arange(50, 301, 50)},                      \n",
    "                      cv = 5,\n",
    "                      scoring = 'neg_mean_squared_error',\n",
    "                      verbose = 1)"
   ]
  },
  {
   "cell_type": "code",
   "execution_count": 25,
   "id": "0f2557c5",
   "metadata": {
    "scrolled": true
   },
   "outputs": [
    {
     "name": "stdout",
     "output_type": "stream",
     "text": [
      "Fitting 5 folds for each of 6 candidates, totalling 30 fits\n"
     ]
    },
    {
     "data": {
      "text/plain": [
       "GridSearchCV(cv=5,\n",
       "             estimator=Pipeline(steps=[('scaler', StandardScaler()),\n",
       "                                       ('model', RandomForestRegressor())]),\n",
       "             param_grid={'model__n_estimators': array([ 50, 100, 150, 200, 250, 300])},\n",
       "             scoring='neg_mean_squared_error', verbose=1)"
      ]
     },
     "execution_count": 25,
     "metadata": {},
     "output_type": "execute_result"
    }
   ],
   "source": [
    "search.fit(X_train, y_train)"
   ]
  },
  {
   "cell_type": "code",
   "execution_count": 26,
   "id": "8f7e4032",
   "metadata": {
    "scrolled": true
   },
   "outputs": [
    {
     "data": {
      "text/plain": [
       "300"
      ]
     },
     "execution_count": 26,
     "metadata": {},
     "output_type": "execute_result"
    }
   ],
   "source": [
    "search.best_params_.get(\"model__n_estimators\")"
   ]
  },
  {
   "cell_type": "code",
   "execution_count": 27,
   "id": "56085391",
   "metadata": {},
   "outputs": [],
   "source": [
    "# Training data\n",
    "\n",
    "# Train the model\n",
    "randomforestmodel = RandomForestRegressor(n_estimators = search.best_params_.get(\"model__n_estimators\"), random_state = 0, max_features = \"sqrt\")\n",
    "randomforestmodel.fit(X_train, y_train)\n",
    "\n",
    "# Store the fitted values as a time series with the same time index as\n",
    "# the training data\n",
    "train_pred = pd.Series(randomforestmodel.predict(X_train), index=X_train.index)\n",
    "test_pred = pd.Series(randomforestmodel.predict(X_test), index=X_test.index)"
   ]
  },
  {
   "cell_type": "code",
   "execution_count": 28,
   "id": "08cba478",
   "metadata": {},
   "outputs": [],
   "source": [
    "train_pred = train_pred.sort_index()\n",
    "y_train = y_train.sort_index()\n",
    "test_pred = test_pred.sort_index()\n",
    "y_test = y_test.sort_index()"
   ]
  },
  {
   "cell_type": "code",
   "execution_count": 29,
   "id": "f1dfaef8",
   "metadata": {
    "scrolled": true
   },
   "outputs": [
    {
     "name": "stdout",
     "output_type": "stream",
     "text": [
      "252.5261814009661\n"
     ]
    },
    {
     "data": {
      "image/png": "[encoded data removed]",
      "text/plain": [
       "<Figure size 432x288 with 1 Axes>"
      ]
     },
     "metadata": {
      "needs_background": "light"
     },
     "output_type": "display_data"
    }
   ],
   "source": [
    "def plot_eval(prediction, actual):\n",
    "    plt.plot(actual)\n",
    "    plt.plot(prediction)\n",
    "    print(mean_squared_error(prediction, actual))\n",
    "\n",
    "plot_eval(train_pred, y_train)"
   ]
  },
  {
   "cell_type": "code",
   "execution_count": 30,
   "id": "84a96a8b",
   "metadata": {
    "scrolled": true
   },
   "outputs": [
    {
     "name": "stdout",
     "output_type": "stream",
     "text": [
      "11330.999991666666\n"
     ]
    },
    {
     "data": {
      "image/png": "[encoded data removed]",
      "text/plain": [
       "<Figure size 432x288 with 1 Axes>"
      ]
     },
     "metadata": {
      "needs_background": "light"
     },
     "output_type": "display_data"
    }
   ],
   "source": [
    "plot_eval(test_pred, y_test)"
   ]
  },
  {
   "cell_type": "code",
   "execution_count": 31,
   "id": "0800f5b7",
   "metadata": {},
   "outputs": [
    {
     "data": {
      "text/html": [
       "<div>\n",
       "<style scoped>\n",
       "    .dataframe tbody tr th:only-of-type {\n",
       "        vertical-align: middle;\n",
       "    }\n",
       "\n",
       "    .dataframe tbody tr th {\n",
       "        vertical-align: top;\n",
       "    }\n",
       "\n",
       "    .dataframe thead th {\n",
       "        text-align: right;\n",
       "    }\n",
       "</style>\n",
       "<table border=\"1\" class=\"dataframe\">\n",
       "  <thead>\n",
       "    <tr style=\"text-align: right;\">\n",
       "      <th></th>\n",
       "      <th>importance</th>\n",
       "    </tr>\n",
       "  </thead>\n",
       "  <tbody>\n",
       "    <tr>\n",
       "      <th>month</th>\n",
       "      <td>0.122849</td>\n",
       "    </tr>\n",
       "    <tr>\n",
       "      <th>10yinf_lag12</th>\n",
       "      <td>0.116531</td>\n",
       "    </tr>\n",
       "    <tr>\n",
       "      <th>XOM_lag6</th>\n",
       "      <td>0.100820</td>\n",
       "    </tr>\n",
       "    <tr>\n",
       "      <th>AN_v_lag3</th>\n",
       "      <td>0.096081</td>\n",
       "    </tr>\n",
       "    <tr>\n",
       "      <th>GM_v_lag9</th>\n",
       "      <td>0.090691</td>\n",
       "    </tr>\n",
       "    <tr>\n",
       "      <th>g_new_cars_lag6</th>\n",
       "      <td>0.087501</td>\n",
       "    </tr>\n",
       "    <tr>\n",
       "      <th>GM_lag9</th>\n",
       "      <td>0.075991</td>\n",
       "    </tr>\n",
       "    <tr>\n",
       "      <th>altsales_lag12</th>\n",
       "      <td>0.058943</td>\n",
       "    </tr>\n",
       "    <tr>\n",
       "      <th>new_units_lag3</th>\n",
       "      <td>0.058405</td>\n",
       "    </tr>\n",
       "    <tr>\n",
       "      <th>g_best_new_cars_lag6</th>\n",
       "      <td>0.048066</td>\n",
       "    </tr>\n",
       "    <tr>\n",
       "      <th>pageviews_lag12</th>\n",
       "      <td>0.045861</td>\n",
       "    </tr>\n",
       "    <tr>\n",
       "      <th>g_used_cars_lag6</th>\n",
       "      <td>0.045063</td>\n",
       "    </tr>\n",
       "    <tr>\n",
       "      <th>ngf2_lag9</th>\n",
       "      <td>0.041127</td>\n",
       "    </tr>\n",
       "    <tr>\n",
       "      <th>bin</th>\n",
       "      <td>0.012072</td>\n",
       "    </tr>\n",
       "  </tbody>\n",
       "</table>\n",
       "</div>"
      ],
      "text/plain": [
       "                      importance\n",
       "month                   0.122849\n",
       "10yinf_lag12            0.116531\n",
       "XOM_lag6                0.100820\n",
       "AN_v_lag3               0.096081\n",
       "GM_v_lag9               0.090691\n",
       "g_new_cars_lag6         0.087501\n",
       "GM_lag9                 0.075991\n",
       "altsales_lag12          0.058943\n",
       "new_units_lag3          0.058405\n",
       "g_best_new_cars_lag6    0.048066\n",
       "pageviews_lag12         0.045861\n",
       "g_used_cars_lag6        0.045063\n",
       "ngf2_lag9               0.041127\n",
       "bin                     0.012072"
      ]
     },
     "execution_count": 31,
     "metadata": {},
     "output_type": "execute_result"
    }
   ],
   "source": [
    "# feature names used in model\n",
    "def get_tree_importance(model, cols, save = False):\n",
    "    imp = pd.DataFrame(model.feature_importances_,\n",
    "                       index = cols,\n",
    "                       columns = ['importance'])\n",
    "    if save == True:\n",
    "        imp.to_csv(\"data/out/treefeatures.csv\")\n",
    "    else:\n",
    "        return imp\n",
    "\n",
    "imp = get_tree_importance(randomforestmodel, X_train.columns)\n",
    "imp.sort_values(\"importance\", ascending = False)"
   ]
  },
  {
   "cell_type": "code",
   "execution_count": 32,
   "id": "61335c93",
   "metadata": {},
   "outputs": [],
   "source": [
    "def save_model(mod, filename):\n",
    "    with open(\"models/\" + filename, 'wb') as file:\n",
    "        pickle.dump(mod, file)\n",
    "\n",
    "save_model(randomforestmodel, \"randomforestmodel.pkl\")"
   ]
  },
  {
   "cell_type": "code",
   "execution_count": 161,
   "id": "671fb3ef",
   "metadata": {},
   "outputs": [
    {
     "name": "stderr",
     "output_type": "stream",
     "text": [
      "C:\\Program Files\\ArcGIS\\Pro\\bin\\Python\\envs\\arcgispro-py3\\lib\\site-packages\\ipykernel_launcher.py:17: UserWarning: Features are named incorrectly, they are led 3 months ahead of their label\n"
     ]
    }
   ],
   "source": [
    "# Currently naming cols with incorrect lag for model ingestion\n",
    "def churn(feature_importance_df, complete_path = \"./data/out/complete.csv\", ahead = 3):\n",
    "    \n",
    "    complete = pd.read_csv(complete_path)\n",
    "    \n",
    "    impidx = feature_importance_df[feature_importance_df[\"importance\"] > 0].index\n",
    "    names = []\n",
    "    for i in list(impidx):\n",
    "        if i not in [\"month\", \"bin\"]:\n",
    "            names.append(i.split(\"_lag\")[0] + \"_lag\" + str(pd.to_numeric(re.sub(r\".*_lag\", \"\", i)) - ahead))\n",
    "        \n",
    "    important = complete.filter(names) #### AHHHH BAD\n",
    "    important.columns = (x for x in list(impidx) if x not in [\"month\", \"bin\"]) #### AHHHHH BAD\n",
    "    important = important.tail(ahead)\n",
    "    important.set_axis(np.arange(ahead), inplace = True)\n",
    "    \n",
    "    warnings.warn(\"Features are named incorrectly, they are led 3 months ahead of their label\")\n",
    "    \n",
    "    # add unimportant names back with empty values\n",
    "    unimpidx = list(set(impidx).difference(impidx))\n",
    "    dummy = pd.DataFrame(0, index=np.arange(len(important)), columns=unimpidx).tail(ahead)\n",
    "    dummy.set_axis(np.arange(ahead), inplace = True)\n",
    "    \n",
    "    if (\"bin\" in list(impidx)) & (\"month\" in list(impidx)):\n",
    "        supp = pd.read_csv(\"data/out/suppl.csv\")\n",
    "        supp.set_axis(list(dummy.index), inplace = True)\n",
    "        out = pd.concat([important, dummy, supp], axis = 1)\n",
    "    \n",
    "    elif \"bin\" in list(impidx):\n",
    "        supp = pd.read_csv(\"data/out/suppl.csv\").filter(\"bin\")\n",
    "        supp.set_axis(list(dummy.index), inplace = True)\n",
    "        out = pd.concat([important, dummy, supp], axis = 1).tail(ahead)\n",
    "\n",
    "    elif \"month\" in list(impidx):\n",
    "        supp = pd.read_csv(\"data/out/suppl.csv\").filter(\"month\")\n",
    "        supp.set_axis(list(dummy.index), inplace = True)\n",
    "        out = pd.concat([important, dummy, supp], axis = 1).tail(ahead)\n",
    "        \n",
    "    else: \n",
    "        out = pd.concat([important, dummy]).tail(ahead)\n",
    "\n",
    "    # reorder cols\n",
    "    out = out[list(feature_importance_df.index)]\n",
    "\n",
    "    return(out)\n",
    "\n",
    "newdata = churn(imp)"
   ]
  },
  {
   "cell_type": "code",
   "execution_count": null,
   "id": "7218c983",
   "metadata": {},
   "outputs": [],
   "source": []
  },
  {
   "cell_type": "code",
   "execution_count": 106,
   "id": "3740f560",
   "metadata": {},
   "outputs": [
    {
     "name": "stderr",
     "output_type": "stream",
     "text": [
      "C:\\Program Files\\ArcGIS\\Pro\\bin\\Python\\envs\\arcgispro-py3\\lib\\site-packages\\ipykernel_launcher.py:11: UserWarning: Features are named incorrectly, they are led 3 months ahead of their label\n",
      "  # This is added back by InteractiveShellApp.init_path()\n"
     ]
    }
   ],
   "source": []
  },
  {
   "cell_type": "code",
   "execution_count": 126,
   "id": "44bbfc25",
   "metadata": {},
   "outputs": [
    {
     "data": {
      "text/plain": [
       "array([0, 1, 2])"
      ]
     },
     "execution_count": 126,
     "metadata": {},
     "output_type": "execute_result"
    }
   ],
   "source": []
  },
  {
   "cell_type": "code",
   "execution_count": 162,
   "id": "94225625",
   "metadata": {},
   "outputs": [
    {
     "data": {
      "text/plain": [
       "array([331.84333333, 356.03      , 348.96      ])"
      ]
     },
     "execution_count": 162,
     "metadata": {},
     "output_type": "execute_result"
    }
   ],
   "source": [
    "# predict\n",
    "randomforestmodel.predict(newdata)"
   ]
  },
  {
   "cell_type": "code",
   "execution_count": null,
   "id": "c0f175ed",
   "metadata": {},
   "outputs": [],
   "source": []
  },
  {
   "cell_type": "code",
   "execution_count": null,
   "id": "0770108c",
   "metadata": {},
   "outputs": [],
   "source": []
  },
  {
   "cell_type": "code",
   "execution_count": null,
   "id": "16caf1e6",
   "metadata": {},
   "outputs": [],
   "source": []
  },
  {
   "cell_type": "code",
   "execution_count": null,
   "id": "4c948586",
   "metadata": {},
   "outputs": [],
   "source": [
    "pd.concat([imp.tail(3), suppl], axis = 0)"
   ]
  }
 ],
 "metadata": {
  "kernelspec": {
   "display_name": "Python 3",
   "language": "python",
   "name": "python3"
  }
 },
 "nbformat": 4,
 "nbformat_minor": 5
}
