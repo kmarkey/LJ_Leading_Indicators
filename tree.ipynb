{
 "cells": [
  {
   "cell_type": "markdown",
   "id": "b69934e9",
   "metadata": {},
   "source": [
    "Trees"
   ]
  },
  {
   "cell_type": "code",
   "execution_count": 1,
   "id": "b3d03b0e",
   "metadata": {},
   "outputs": [],
   "source": [
    "import numpy as np\n",
    "import pandas as pd\n",
    "from pandas import DataFrame\n",
    "import os\n",
    "import re\n",
    "from sklearn.tree import DecisionTreeRegressor\n",
    "from sklearn.preprocessing import StandardScaler\n",
    "from sklearn.pipeline import Pipeline\n",
    "import sklearn.tree as tree\n",
    "import matplotlib.pyplot as plt\n",
    "from sklearn.metrics import mean_squared_error\n",
    "from sklearn.model_selection import train_test_split, GridSearchCV\n",
    "import pickle\n",
    "import warnings"
   ]
  },
  {
   "cell_type": "code",
   "execution_count": 2,
   "id": "b96a01c3",
   "metadata": {},
   "outputs": [],
   "source": [
    "os.getcwd()\n",
    "from thon.Choose import choose_features\n",
    "# data = choose_features(\"data/out/features.csv\", cv_range = (0, 10), save = False)"
   ]
  },
  {
   "cell_type": "code",
   "execution_count": 3,
   "id": "69876313",
   "metadata": {},
   "outputs": [
    {
     "data": {
      "text/plain": [
       "Index(['month', 'n', '10yinf_lag12', 'altsales_lag12', 'AN_lag12', 'AN_v_lag3',\n",
       "       'bf90_lag12', 'bin', 'carcpi_lag12', 'durable_lag12', 'F_lag6',\n",
       "       'F_v_lag6', 'g_best_new_cars_lag6', 'g_car_lag12',\n",
       "       'g_car_for_sale_near_me_lag3', 'g_new_cars_lag6', 'g_used_cars_lag6',\n",
       "       'GM_lag9', 'GM_v_lag9', 'kwhcost_lag6', 'lfrm_lag12', 'lhpi_lag3',\n",
       "       'localrent_lag3', 'ltrucksa_lag6', 'mfrm_lag12', 'MZDAY_lag6',\n",
       "       'new_units_lag3', 'new_users_lag9', 'newhouses_lag6', 'ngf1_lag3',\n",
       "       'ngf2_lag9', 'oil_lag6', 'pageviews_lag12', 'sentiment_lag12',\n",
       "       'sfrm_lag3', 'shpi_lag3', 'tmaturity_lag12', 'totalsa_lag12',\n",
       "       'TSLA_lag6', 'TSLA_v_lag9', 'unemployment_lag12', 'XOM_lag6',\n",
       "       'XOM_v_lag9'],\n",
       "      dtype='object')"
      ]
     },
     "execution_count": 3,
     "metadata": {},
     "output_type": "execute_result"
    }
   ],
   "source": [
    "# features are automatically trimmed\n",
    "data = pd.read_csv(\"data/out/features.csv\")\n",
    "data.columns"
   ]
  },
  {
   "cell_type": "code",
   "execution_count": 4,
   "id": "546e7fd1",
   "metadata": {},
   "outputs": [],
   "source": [
    "# Training data\n",
    "X, y = data.drop(columns = ['n']), data['n']\n",
    "X_train, X_test, y_train, y_test = train_test_split(X, y, test_size = .20, shuffle = False)"
   ]
  },
  {
   "cell_type": "code",
   "execution_count": 5,
   "id": "25b4aa34",
   "metadata": {},
   "outputs": [],
   "source": [
    "pipeline = Pipeline([\n",
    "    ('scaler', StandardScaler()),\n",
    "    ('model', DecisionTreeRegressor())\n",
    "])"
   ]
  },
  {
   "cell_type": "code",
   "execution_count": 6,
   "id": "8363d13a",
   "metadata": {},
   "outputs": [],
   "source": [
    "search = GridSearchCV(pipeline,\n",
    "                      {'model__max_depth':np.arange(2, 8, 1),\n",
    "                      'model__ccp_alpha':np.arange(0, 2, 0.1)},                      \n",
    "                      cv = 5,\n",
    "                      scoring = 'neg_mean_squared_error',\n",
    "                      verbose = 1)"
   ]
  },
  {
   "cell_type": "code",
   "execution_count": 7,
   "id": "8f7e1622",
   "metadata": {},
   "outputs": [
    {
     "name": "stdout",
     "output_type": "stream",
     "text": [
      "Fitting 5 folds for each of 120 candidates, totalling 600 fits\n"
     ]
    },
    {
     "data": {
      "text/plain": [
       "GridSearchCV(cv=5,\n",
       "             estimator=Pipeline(steps=[('scaler', StandardScaler()),\n",
       "                                       ('model', DecisionTreeRegressor())]),\n",
       "             param_grid={'model__ccp_alpha': array([0. , 0.1, 0.2, 0.3, 0.4, 0.5, 0.6, 0.7, 0.8, 0.9, 1. , 1.1, 1.2,\n",
       "       1.3, 1.4, 1.5, 1.6, 1.7, 1.8, 1.9]),\n",
       "                         'model__max_depth': array([2, 3, 4, 5, 6, 7])},\n",
       "             scoring='neg_mean_squared_error', verbose=1)"
      ]
     },
     "execution_count": 7,
     "metadata": {},
     "output_type": "execute_result"
    }
   ],
   "source": [
    "search.fit(X_train, y_train)"
   ]
  },
  {
   "cell_type": "code",
   "execution_count": 8,
   "id": "666d7dce",
   "metadata": {},
   "outputs": [
    {
     "data": {
      "text/plain": [
       "{'model__ccp_alpha': 0.7000000000000001, 'model__max_depth': 3}"
      ]
     },
     "execution_count": 8,
     "metadata": {},
     "output_type": "execute_result"
    }
   ],
   "source": [
    "search.best_params_"
   ]
  },
  {
   "cell_type": "code",
   "execution_count": 9,
   "id": "e4ffdfdd",
   "metadata": {},
   "outputs": [],
   "source": [
    "# Training data\n",
    "\n",
    "# Train the model\n",
    "treemodel = DecisionTreeRegressor(max_depth= search.best_params_.get(\"model__max_depth\"), \n",
    "                                  ccp_alpha = search.best_params_.get(\"model__ccp_alpha\"),\n",
    "                                  random_state = 0) \n",
    "treemodel.fit(X_train, y_train)\n",
    "\n",
    "# Store the fitted values as a time series with the same time index as\n",
    "# the training data\n",
    "train_pred = pd.Series(treemodel.predict(X_train), index=X_train.index)\n",
    "test_pred = pd.Series(treemodel.predict(X_test), index=X_test.index)"
   ]
  },
  {
   "cell_type": "code",
   "execution_count": 10,
   "id": "f824ea4b",
   "metadata": {},
   "outputs": [],
   "source": [
    "train_pred = train_pred.sort_index()\n",
    "y_train = y_train.sort_index()\n",
    "test_pred = test_pred.sort_index()\n",
    "y_test = y_test.sort_index()"
   ]
  },
  {
   "cell_type": "code",
   "execution_count": 11,
   "id": "f880d24c",
   "metadata": {},
   "outputs": [
    {
     "name": "stdout",
     "output_type": "stream",
     "text": [
      "434.44288758981855\n"
     ]
    },
    {
     "data": {
      "image/png": "[encoded data removed]",
      "text/plain": [
       "<Figure size 432x288 with 1 Axes>"
      ]
     },
     "metadata": {
      "needs_background": "light"
     },
     "output_type": "display_data"
    }
   ],
   "source": [
    "def plot_eval(prediction, actual):\n",
    "    plt.plot(actual)\n",
    "    plt.plot(prediction)\n",
    "    print(mean_squared_error(prediction, actual))\n",
    "    \n",
    "plot_eval(train_pred, y_train)"
   ]
  },
  {
   "cell_type": "code",
   "execution_count": 12,
   "id": "2204048d",
   "metadata": {},
   "outputs": [
    {
     "name": "stdout",
     "output_type": "stream",
     "text": [
      "12553.187074829933\n"
     ]
    },
    {
     "data": {
      "image/png": "[encoded data removed]",
      "text/plain": [
       "<Figure size 432x288 with 1 Axes>"
      ]
     },
     "metadata": {
      "needs_background": "light"
     },
     "output_type": "display_data"
    }
   ],
   "source": [
    "plot_eval(test_pred, y_test)"
   ]
  },
  {
   "cell_type": "code",
   "execution_count": 13,
   "id": "d7e45825",
   "metadata": {},
   "outputs": [
    {
     "name": "stdout",
     "output_type": "stream",
     "text": [
      "|--- g_car_for_sale_near_me_lag3 <= 45.50\n",
      "|   |--- new_users_lag9 <= 4184.50\n",
      "|   |   |--- oil_lag6 <= 29.62\n",
      "|   |   |   |--- value: [420.00]\n",
      "|   |   |--- oil_lag6 >  29.62\n",
      "|   |   |   |--- value: [351.65]\n",
      "|   |--- new_users_lag9 >  4184.50\n",
      "|   |   |--- F_lag6 <= 12.59\n",
      "|   |   |   |--- value: [412.50]\n",
      "|   |   |--- F_lag6 >  12.59\n",
      "|   |   |   |--- value: [360.80]\n",
      "|--- g_car_for_sale_near_me_lag3 >  45.50\n",
      "|   |--- g_car_for_sale_near_me_lag3 <= 48.50\n",
      "|   |   |--- carcpi_lag12 <= 138.18\n",
      "|   |   |   |--- value: [248.00]\n",
      "|   |   |--- carcpi_lag12 >  138.18\n",
      "|   |   |   |--- value: [278.00]\n",
      "|   |--- g_car_for_sale_near_me_lag3 >  48.50\n",
      "|   |   |--- carcpi_lag12 <= 137.82\n",
      "|   |   |   |--- value: [301.83]\n",
      "|   |   |--- carcpi_lag12 >  137.82\n",
      "|   |   |   |--- value: [335.14]\n",
      "\n"
     ]
    }
   ],
   "source": [
    "text_representation = tree.export_text(treemodel, feature_names = list(X_train))\n",
    "print(text_representation)"
   ]
  },
  {
   "cell_type": "code",
   "execution_count": 14,
   "id": "ba6bd092",
   "metadata": {},
   "outputs": [],
   "source": [
    "# feature names used in model\n",
    "def get_tree_importance(model, cols, save = False):\n",
    "    imp = pd.DataFrame(model.feature_importances_,\n",
    "                       index = cols,\n",
    "                       columns = ['importance'])\n",
    "    if save == True:\n",
    "        imp.to_csv(\"data/out/treefeatures.csv\")\n",
    "    else:\n",
    "        return imp\n",
    "\n",
    "imp = get_tree_importance(treemodel, X_train.columns)"
   ]
  },
  {
   "cell_type": "code",
   "execution_count": 15,
   "id": "8a1728a5",
   "metadata": {},
   "outputs": [],
   "source": [
    "def save_model(mod, filename):\n",
    "    with open(\"models/\" + filename, 'wb') as file:\n",
    "        pickle.dump(mod, file)\n",
    "\n",
    "save_model(treemodel, \"treemodel.pkl\")"
   ]
  },
  {
   "cell_type": "code",
   "execution_count": null,
   "id": "8fbae2b9",
   "metadata": {},
   "outputs": [],
   "source": []
  },
  {
   "cell_type": "code",
   "execution_count": 16,
   "id": "cf8f33ec",
   "metadata": {},
   "outputs": [
    {
     "name": "stderr",
     "output_type": "stream",
     "text": [
      "C:\\Program Files\\ArcGIS\\Pro\\bin\\Python\\envs\\arcgispro-py3\\lib\\site-packages\\ipykernel_launcher.py:13: UserWarning: Features are named incorrectly, they are led 3 months ahead of their label\n",
      "  del sys.path[0]\n"
     ]
    }
   ],
   "source": [
    "# Currently naming cols with incorrect lag for model ingestion\n",
    "def churn(feature_importance_df, complete_dirty_path = \"./data/out/complete.csv\", ahead = 3):\n",
    "    \n",
    "    complete = pd.read_csv(complete_dirty_path)\n",
    "    idx = feature_importance_df[feature_importance_df[\"importance\"] > 0].index\n",
    "    \n",
    "    names = []\n",
    "    for i in list(idx):\n",
    "        names.append(i.split(\"_lag\")[0] + \"_lag\" + str(pd.to_numeric(re.sub(r\".*_lag\", \"\", i)) - ahead))\n",
    "        \n",
    "    important = complete.filter(names) #### AHHHH BAD\n",
    "    important.columns = list(idx) #### AHHHHH BAD \n",
    "    warnings.warn(\"Features are named incorrectly, they are led 3 months ahead of their label\")\n",
    "    \n",
    "    # add unimportant names back with empty values\n",
    "    dummycols = list(set(feature_importance_df.index).difference(idx))\n",
    "    dummy = pd.DataFrame(0, index=np.arange(len(important)), columns=dummycols)\n",
    "    out = pd.concat([important, dummy], axis = 1).tail(ahead)\n",
    "    \n",
    "    # reorder cols\n",
    "    out = out[feature_importance_df.index]\n",
    "    \n",
    "    return(out)\n",
    "\n",
    "newdata = churn(imp)"
   ]
  },
  {
   "cell_type": "code",
   "execution_count": 17,
   "id": "8cb1d30d",
   "metadata": {},
   "outputs": [
    {
     "data": {
      "text/html": [
       "<div>\n",
       "<style scoped>\n",
       "    .dataframe tbody tr th:only-of-type {\n",
       "        vertical-align: middle;\n",
       "    }\n",
       "\n",
       "    .dataframe tbody tr th {\n",
       "        vertical-align: top;\n",
       "    }\n",
       "\n",
       "    .dataframe thead th {\n",
       "        text-align: right;\n",
       "    }\n",
       "</style>\n",
       "<table border=\"1\" class=\"dataframe\">\n",
       "  <thead>\n",
       "    <tr style=\"text-align: right;\">\n",
       "      <th></th>\n",
       "      <th>month</th>\n",
       "      <th>10yinf_lag12</th>\n",
       "      <th>altsales_lag12</th>\n",
       "      <th>AN_lag12</th>\n",
       "      <th>AN_v_lag3</th>\n",
       "      <th>bf90_lag12</th>\n",
       "      <th>bin</th>\n",
       "      <th>carcpi_lag12</th>\n",
       "      <th>durable_lag12</th>\n",
       "      <th>F_lag6</th>\n",
       "      <th>...</th>\n",
       "      <th>sentiment_lag12</th>\n",
       "      <th>sfrm_lag3</th>\n",
       "      <th>shpi_lag3</th>\n",
       "      <th>tmaturity_lag12</th>\n",
       "      <th>totalsa_lag12</th>\n",
       "      <th>TSLA_lag6</th>\n",
       "      <th>TSLA_v_lag9</th>\n",
       "      <th>unemployment_lag12</th>\n",
       "      <th>XOM_lag6</th>\n",
       "      <th>XOM_v_lag9</th>\n",
       "    </tr>\n",
       "  </thead>\n",
       "  <tbody>\n",
       "    <tr>\n",
       "      <th>55</th>\n",
       "      <td>0</td>\n",
       "      <td>0</td>\n",
       "      <td>0</td>\n",
       "      <td>0</td>\n",
       "      <td>0</td>\n",
       "      <td>0</td>\n",
       "      <td>0</td>\n",
       "      <td>139.674</td>\n",
       "      <td>0</td>\n",
       "      <td>5.71</td>\n",
       "      <td>...</td>\n",
       "      <td>0</td>\n",
       "      <td>0</td>\n",
       "      <td>0</td>\n",
       "      <td>0</td>\n",
       "      <td>0</td>\n",
       "      <td>0</td>\n",
       "      <td>0</td>\n",
       "      <td>0</td>\n",
       "      <td>0</td>\n",
       "      <td>0</td>\n",
       "    </tr>\n",
       "    <tr>\n",
       "      <th>56</th>\n",
       "      <td>0</td>\n",
       "      <td>0</td>\n",
       "      <td>0</td>\n",
       "      <td>0</td>\n",
       "      <td>0</td>\n",
       "      <td>0</td>\n",
       "      <td>0</td>\n",
       "      <td>139.097</td>\n",
       "      <td>0</td>\n",
       "      <td>6.08</td>\n",
       "      <td>...</td>\n",
       "      <td>0</td>\n",
       "      <td>0</td>\n",
       "      <td>0</td>\n",
       "      <td>0</td>\n",
       "      <td>0</td>\n",
       "      <td>0</td>\n",
       "      <td>0</td>\n",
       "      <td>0</td>\n",
       "      <td>0</td>\n",
       "      <td>0</td>\n",
       "    </tr>\n",
       "    <tr>\n",
       "      <th>57</th>\n",
       "      <td>0</td>\n",
       "      <td>0</td>\n",
       "      <td>0</td>\n",
       "      <td>0</td>\n",
       "      <td>0</td>\n",
       "      <td>0</td>\n",
       "      <td>0</td>\n",
       "      <td>137.922</td>\n",
       "      <td>0</td>\n",
       "      <td>6.61</td>\n",
       "      <td>...</td>\n",
       "      <td>0</td>\n",
       "      <td>0</td>\n",
       "      <td>0</td>\n",
       "      <td>0</td>\n",
       "      <td>0</td>\n",
       "      <td>0</td>\n",
       "      <td>0</td>\n",
       "      <td>0</td>\n",
       "      <td>0</td>\n",
       "      <td>0</td>\n",
       "    </tr>\n",
       "  </tbody>\n",
       "</table>\n",
       "<p>3 rows × 42 columns</p>\n",
       "</div>"
      ],
      "text/plain": [
       "    month  10yinf_lag12  altsales_lag12  AN_lag12  AN_v_lag3  bf90_lag12  bin  \\\n",
       "55      0             0               0         0          0           0    0   \n",
       "56      0             0               0         0          0           0    0   \n",
       "57      0             0               0         0          0           0    0   \n",
       "\n",
       "    carcpi_lag12  durable_lag12  F_lag6  ...  sentiment_lag12  sfrm_lag3  \\\n",
       "55       139.674              0    5.71  ...                0          0   \n",
       "56       139.097              0    6.08  ...                0          0   \n",
       "57       137.922              0    6.61  ...                0          0   \n",
       "\n",
       "    shpi_lag3  tmaturity_lag12  totalsa_lag12  TSLA_lag6  TSLA_v_lag9  \\\n",
       "55          0                0              0          0            0   \n",
       "56          0                0              0          0            0   \n",
       "57          0                0              0          0            0   \n",
       "\n",
       "    unemployment_lag12  XOM_lag6  XOM_v_lag9  \n",
       "55                   0         0           0  \n",
       "56                   0         0           0  \n",
       "57                   0         0           0  \n",
       "\n",
       "[3 rows x 42 columns]"
      ]
     },
     "execution_count": 17,
     "metadata": {},
     "output_type": "execute_result"
    }
   ],
   "source": [
    "newdata"
   ]
  },
  {
   "cell_type": "code",
   "execution_count": 18,
   "id": "9d686b0f",
   "metadata": {},
   "outputs": [
    {
     "data": {
      "text/plain": [
       "array([335.14285714, 335.14285714, 335.14285714])"
      ]
     },
     "execution_count": 18,
     "metadata": {},
     "output_type": "execute_result"
    }
   ],
   "source": [
    "# predict\n",
    "treemodel.predict(newdata)"
   ]
  },
  {
   "cell_type": "code",
   "execution_count": null,
   "id": "3addd19e",
   "metadata": {},
   "outputs": [],
   "source": []
  },
  {
   "cell_type": "code",
   "execution_count": null,
   "id": "ccb05fbd",
   "metadata": {},
   "outputs": [],
   "source": []
  },
  {
   "cell_type": "code",
   "execution_count": null,
   "id": "2717dc9c",
   "metadata": {},
   "outputs": [],
   "source": []
  }
 ],
 "metadata": {
  "kernelspec": {
   "display_name": "Python 3",
   "language": "python",
   "name": "python3"
  },
  "language_info": {
   "codemirror_mode": {
    "name": "ipython",
    "version": 3
   },
   "file_extension": ".py",
   "mimetype": "text/x-python",
   "name": "python",
   "nbconvert_exporter": "python",
   "pygments_lexer": "ipython3",
   "version": "3.7.11"
  }
 },
 "nbformat": 4,
 "nbformat_minor": 5
}
