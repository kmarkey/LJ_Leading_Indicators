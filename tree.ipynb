{
 "cells": [
  {
   "cell_type": "markdown",
   "id": "685ab3c8",
   "metadata": {},
   "source": [
    "Trees"
   ]
  },
  {
   "cell_type": "code",
   "execution_count": 1,
   "id": "3774797a",
   "metadata": {},
   "outputs": [],
   "source": [
    "import numpy as np\n",
    "import pandas as pd\n",
    "from pandas import DataFrame\n",
    "import os\n",
    "import re\n",
    "from sklearn.tree import DecisionTreeRegressor\n",
    "from sklearn.preprocessing import StandardScaler\n",
    "from sklearn.pipeline import Pipeline\n",
    "import sklearn.tree as tree\n",
    "import matplotlib.pyplot as plt\n",
    "from sklearn.metrics import mean_squared_error\n",
    "from sklearn.model_selection import train_test_split, GridSearchCV\n",
    "import pickle\n",
    "import warnings"
   ]
  },
  {
   "cell_type": "code",
   "execution_count": 3,
   "id": "2cb53f39",
   "metadata": {},
   "outputs": [],
   "source": [
    "os.getcwd()\n",
    "# from thon.Choose import choose_features\n",
    "from thon.churn import rollover, save_model, tree_importance, plot_eval, bake_pred\n",
    "# data = choose_features(\"data/out/features.csv\", cv_range = (0, 10), save = False)"
   ]
  },
  {
   "cell_type": "code",
   "execution_count": 4,
   "id": "33c74836",
   "metadata": {},
   "outputs": [
    {
     "data": {
      "text/plain": [
       "Index(['month', 'n', 'unemp_lag12', 'unempt5w_lag12', 'unemp5tp14w_lag12',\n",
       "       'unemp15ov...5_lag9', 'unemp15ov...6_lag9', 'oilimport_lag12',\n",
       "       'ngspot_lag3', 'hcpi_lag3', 'food_lag12', 'sahmrule_lag3',\n",
       "       'discount_lag3', 'localrent_lag3', 'durable_lag9', '10yinf_lag12',\n",
       "       'kwhcost_lag3', 'sentiment_lag3', 'new_units_lag6', 'altsales_lag3',\n",
       "       'totalsa_lag3', 'ltrucksa_lag3', 'tmaturity_lag12', 'carcpi_lag12',\n",
       "       'newhouses_lag3', 'pempltot_lag3', 'pemplmanuf_lag3', 'pemplfin_lag3',\n",
       "       'laborpart_lag3', 'prodmanuf_lag9', 'overmanuf_lag6', 'wagemanuf_lag12',\n",
       "       'fedsurplus_lag3', 'industry_lag9', 'industrycg_lag9',\n",
       "       'industryut_lag9', 'caput_lag9', 'hcpiurban_lag3', 'stuffcpi_lag12',\n",
       "       'retail_lag12', 'sales_lag12', 'manufsales_lag12', 'manufinv_lag12',\n",
       "       'cbpy30_lag3', 'fedfundseff_lag3', 'treasurymat1_lag3',\n",
       "       'treasurymat5_lag3', 'treasurymat7_lag3', 'treasurymat10_lag3',\n",
       "       'F_lag12', 'F_v_lag6', 'AN_lag12', 'AN_v_lag3', 'MZDAY_v_lag3',\n",
       "       'XOM_lag12', 'XOM_v_lag6', 'TM_lag12', 'TM_v_lag3', 'LEA_lag3',\n",
       "       'BWA_lag12', 'BWA_v_lag6', 'GT_lag3', 'GT_v_lag12', 'HMC_lag12',\n",
       "       'HMC_v_lag3', 'g_new_cars_lag3', 'g_used_cars_lag3',\n",
       "       'g_cars_for_sale_lag3', 'g_car_for_sale_near_me_lag3',\n",
       "       'g_best_new_cars_lag3', 'g_how_to_buy_a_car_lag9',\n",
       "       'g_dealership_near_me_lag3', 'g_dealerships_near_me_lag3', 'bin',\n",
       "       'm_num'],\n",
       "      dtype='object')"
      ]
     },
     "execution_count": 4,
     "metadata": {},
     "output_type": "execute_result"
    }
   ],
   "source": [
    "# features are automatically trimmed\n",
    "data = pd.read_csv(\"data/out/features.csv\")\n",
    "data.columns"
   ]
  },
  {
   "cell_type": "code",
   "execution_count": 5,
   "id": "ee19d072",
   "metadata": {},
   "outputs": [],
   "source": [
    "# Training data\n",
    "X, y = data.drop(columns = ['n']), data['n']\n",
    "X_train, X_test, y_train, y_test = train_test_split(X, y, test_size = .30, shuffle = False)"
   ]
  },
  {
   "cell_type": "code",
   "execution_count": 6,
   "id": "39b02a34",
   "metadata": {},
   "outputs": [],
   "source": [
    "pipeline = Pipeline([\n",
    "    ('scaler', StandardScaler()),\n",
    "    ('model', DecisionTreeRegressor())\n",
    "])"
   ]
  },
  {
   "cell_type": "code",
   "execution_count": 7,
   "id": "73fc9ae5",
   "metadata": {},
   "outputs": [],
   "source": [
    "search = GridSearchCV(pipeline,\n",
    "                      {'model__max_depth':np.arange(2, 20, 1),\n",
    "                      'model__ccp_alpha':np.arange(0, 5, 0.1)},                      \n",
    "                      cv = 5,\n",
    "                      scoring = 'neg_mean_squared_error',\n",
    "                      verbose = 1)"
   ]
  },
  {
   "cell_type": "code",
   "execution_count": 8,
   "id": "9262def5",
   "metadata": {},
   "outputs": [
    {
     "name": "stdout",
     "output_type": "stream",
     "text": [
      "Fitting 5 folds for each of 900 candidates, totalling 4500 fits\n"
     ]
    },
    {
     "data": {
      "text/plain": [
       "GridSearchCV(cv=5,\n",
       "             estimator=Pipeline(steps=[('scaler', StandardScaler()),\n",
       "                                       ('model', DecisionTreeRegressor())]),\n",
       "             param_grid={'model__ccp_alpha': array([0. , 0.1, 0.2, 0.3, 0.4, 0.5, 0.6, 0.7, 0.8, 0.9, 1. , 1.1, 1.2,\n",
       "       1.3, 1.4, 1.5, 1.6, 1.7, 1.8, 1.9, 2. , 2.1, 2.2, 2.3, 2.4, 2.5,\n",
       "       2.6, 2.7, 2.8, 2.9, 3. , 3.1, 3.2, 3.3, 3.4, 3.5, 3.6, 3.7, 3.8,\n",
       "       3.9, 4. , 4.1, 4.2, 4.3, 4.4, 4.5, 4.6, 4.7, 4.8, 4.9]),\n",
       "                         'model__max_depth': array([ 2,  3,  4,  5,  6,  7,  8,  9, 10, 11, 12, 13, 14, 15, 16, 17, 18,\n",
       "       19])},\n",
       "             scoring='neg_mean_squared_error', verbose=1)"
      ]
     },
     "execution_count": 8,
     "metadata": {},
     "output_type": "execute_result"
    }
   ],
   "source": [
    "search.fit(X_train, y_train)"
   ]
  },
  {
   "cell_type": "code",
   "execution_count": 9,
   "id": "4ca48f4c",
   "metadata": {},
   "outputs": [
    {
     "data": {
      "text/plain": [
       "{'model__ccp_alpha': 0.1, 'model__max_depth': 2}"
      ]
     },
     "execution_count": 9,
     "metadata": {},
     "output_type": "execute_result"
    }
   ],
   "source": [
    "search.best_params_"
   ]
  },
  {
   "cell_type": "code",
   "execution_count": 10,
   "id": "f93accc2",
   "metadata": {},
   "outputs": [],
   "source": [
    "# Training data\n",
    "\n",
    "# Train the model\n",
    "treemodel = DecisionTreeRegressor(max_depth= search.best_params_.get(\"model__max_depth\"), \n",
    "                                  ccp_alpha = search.best_params_.get(\"model__ccp_alpha\"),\n",
    "                                  random_state = 0) \n",
    "treemodel.fit(X_train, y_train)\n",
    "\n",
    "# Store the fitted values as a time series with the same time index as\n",
    "# the training data\n",
    "train_pred = pd.Series(treemodel.predict(X_train), index=X_train.index)\n",
    "test_pred = pd.Series(treemodel.predict(X_test), index=X_test.index)"
   ]
  },
  {
   "cell_type": "code",
   "execution_count": 11,
   "id": "eafdc6a4",
   "metadata": {},
   "outputs": [],
   "source": [
    "train_pred = train_pred.sort_index()\n",
    "y_train = y_train.sort_index()\n",
    "test_pred = test_pred.sort_index()\n",
    "y_test = y_test.sort_index()"
   ]
  },
  {
   "cell_type": "code",
   "execution_count": 12,
   "id": "a5cc4026",
   "metadata": {},
   "outputs": [
    {
     "name": "stdout",
     "output_type": "stream",
     "text": [
      "853.8060214995089\n"
     ]
    },
    {
     "data": {
      "image/png": "[encoded data removed]",
      "text/plain": [
       "<Figure size 432x288 with 1 Axes>"
      ]
     },
     "metadata": {
      "needs_background": "light"
     },
     "output_type": "display_data"
    }
   ],
   "source": [
    "plot_eval(train_pred, y_train)"
   ]
  },
  {
   "cell_type": "code",
   "execution_count": 13,
   "id": "46c389ee",
   "metadata": {},
   "outputs": [
    {
     "name": "stdout",
     "output_type": "stream",
     "text": [
      "9684.877784863944\n"
     ]
    },
    {
     "data": {
      "image/png": "[encoded data removed]",
      "text/plain": [
       "<Figure size 432x288 with 1 Axes>"
      ]
     },
     "metadata": {
      "needs_background": "light"
     },
     "output_type": "display_data"
    }
   ],
   "source": [
    "plot_eval(test_pred, y_test)"
   ]
  },
  {
   "cell_type": "code",
   "execution_count": 14,
   "id": "79b5ad9c",
   "metadata": {},
   "outputs": [
    {
     "name": "stdout",
     "output_type": "stream",
     "text": [
      "|--- localrent_lag3 <= 273.61\n",
      "|   |--- retail_lag12 <= 333482.00\n",
      "|   |   |--- value: [203.91]\n",
      "|   |--- retail_lag12 >  333482.00\n",
      "|   |   |--- value: [264.41]\n",
      "|--- localrent_lag3 >  273.61\n",
      "|   |--- BWA_v_lag6 <= 29706808.00\n",
      "|   |   |--- value: [318.88]\n",
      "|   |--- BWA_v_lag6 >  29706808.00\n",
      "|   |   |--- value: [365.79]\n",
      "\n"
     ]
    }
   ],
   "source": [
    "text_representation = tree.export_text(treemodel, feature_names = list(X_train))\n",
    "print(text_representation)"
   ]
  },
  {
   "cell_type": "code",
   "execution_count": 16,
   "id": "e2acc3f6",
   "metadata": {},
   "outputs": [],
   "source": [
    "# feature names used in model\n",
    "imp = tree_importance(treemodel, X_train.columns)"
   ]
  },
  {
   "cell_type": "code",
   "execution_count": 17,
   "id": "37e0eeb6",
   "metadata": {},
   "outputs": [],
   "source": [
    "save_model(treemodel, \"treemodel.pkl\")"
   ]
  },
  {
   "cell_type": "code",
   "execution_count": 18,
   "id": "368ba07f",
   "metadata": {},
   "outputs": [
    {
     "data": {
      "text/html": [
       "<div>\n",
       "<style scoped>\n",
       "    .dataframe tbody tr th:only-of-type {\n",
       "        vertical-align: middle;\n",
       "    }\n",
       "\n",
       "    .dataframe tbody tr th {\n",
       "        vertical-align: top;\n",
       "    }\n",
       "\n",
       "    .dataframe thead th {\n",
       "        text-align: right;\n",
       "    }\n",
       "</style>\n",
       "<table border=\"1\" class=\"dataframe\">\n",
       "  <thead>\n",
       "    <tr style=\"text-align: right;\">\n",
       "      <th></th>\n",
       "      <th>importance</th>\n",
       "    </tr>\n",
       "  </thead>\n",
       "  <tbody>\n",
       "    <tr>\n",
       "      <th>localrent_lag3</th>\n",
       "      <td>0.833475</td>\n",
       "    </tr>\n",
       "    <tr>\n",
       "      <th>retail_lag12</th>\n",
       "      <td>0.085074</td>\n",
       "    </tr>\n",
       "    <tr>\n",
       "      <th>BWA_v_lag6</th>\n",
       "      <td>0.081451</td>\n",
       "    </tr>\n",
       "    <tr>\n",
       "      <th>month</th>\n",
       "      <td>0.000000</td>\n",
       "    </tr>\n",
       "    <tr>\n",
       "      <th>TM_lag12</th>\n",
       "      <td>0.000000</td>\n",
       "    </tr>\n",
       "    <tr>\n",
       "      <th>...</th>\n",
       "      <td>...</td>\n",
       "    </tr>\n",
       "    <tr>\n",
       "      <th>pemplmanuf_lag3</th>\n",
       "      <td>0.000000</td>\n",
       "    </tr>\n",
       "    <tr>\n",
       "      <th>pempltot_lag3</th>\n",
       "      <td>0.000000</td>\n",
       "    </tr>\n",
       "    <tr>\n",
       "      <th>newhouses_lag3</th>\n",
       "      <td>0.000000</td>\n",
       "    </tr>\n",
       "    <tr>\n",
       "      <th>carcpi_lag12</th>\n",
       "      <td>0.000000</td>\n",
       "    </tr>\n",
       "    <tr>\n",
       "      <th>m_num</th>\n",
       "      <td>0.000000</td>\n",
       "    </tr>\n",
       "  </tbody>\n",
       "</table>\n",
       "<p>74 rows × 1 columns</p>\n",
       "</div>"
      ],
      "text/plain": [
       "                 importance\n",
       "localrent_lag3     0.833475\n",
       "retail_lag12       0.085074\n",
       "BWA_v_lag6         0.081451\n",
       "month              0.000000\n",
       "TM_lag12           0.000000\n",
       "...                     ...\n",
       "pemplmanuf_lag3    0.000000\n",
       "pempltot_lag3      0.000000\n",
       "newhouses_lag3     0.000000\n",
       "carcpi_lag12       0.000000\n",
       "m_num              0.000000\n",
       "\n",
       "[74 rows x 1 columns]"
      ]
     },
     "execution_count": 18,
     "metadata": {},
     "output_type": "execute_result"
    }
   ],
   "source": [
    "imp.sort_values(\"importance\", ascending = False)"
   ]
  },
  {
   "cell_type": "code",
   "execution_count": 19,
   "id": "b6895023",
   "metadata": {},
   "outputs": [
    {
     "name": "stderr",
     "output_type": "stream",
     "text": [
      "C:\\Users\\keato\\Documents\\LocalRStudio\\LJ_Leading_Indicators\\thon\\churn.py:33: UserWarning: Features are named incorrectly, they are led 3 months ahead of their label\n",
      "  warnings.warn(\"Features are named incorrectly, they are led 3 months ahead of their label\")\n"
     ]
    }
   ],
   "source": [
    "newdata = rollover(imp)"
   ]
  },
  {
   "cell_type": "code",
   "execution_count": 20,
   "id": "3889dff8",
   "metadata": {},
   "outputs": [
    {
     "data": {
      "text/html": [
       "<div>\n",
       "<style scoped>\n",
       "    .dataframe tbody tr th:only-of-type {\n",
       "        vertical-align: middle;\n",
       "    }\n",
       "\n",
       "    .dataframe tbody tr th {\n",
       "        vertical-align: top;\n",
       "    }\n",
       "\n",
       "    .dataframe thead th {\n",
       "        text-align: right;\n",
       "    }\n",
       "</style>\n",
       "<table border=\"1\" class=\"dataframe\">\n",
       "  <thead>\n",
       "    <tr style=\"text-align: right;\">\n",
       "      <th></th>\n",
       "      <th>month</th>\n",
       "      <th>unemp_lag12</th>\n",
       "      <th>unempt5w_lag12</th>\n",
       "      <th>unemp5tp14w_lag12</th>\n",
       "      <th>unemp15ov...5_lag9</th>\n",
       "      <th>unemp15ov...6_lag9</th>\n",
       "      <th>oilimport_lag12</th>\n",
       "      <th>ngspot_lag3</th>\n",
       "      <th>hcpi_lag3</th>\n",
       "      <th>food_lag12</th>\n",
       "      <th>...</th>\n",
       "      <th>g_new_cars_lag3</th>\n",
       "      <th>g_used_cars_lag3</th>\n",
       "      <th>g_cars_for_sale_lag3</th>\n",
       "      <th>g_car_for_sale_near_me_lag3</th>\n",
       "      <th>g_best_new_cars_lag3</th>\n",
       "      <th>g_how_to_buy_a_car_lag9</th>\n",
       "      <th>g_dealership_near_me_lag3</th>\n",
       "      <th>g_dealerships_near_me_lag3</th>\n",
       "      <th>bin</th>\n",
       "      <th>m_num</th>\n",
       "    </tr>\n",
       "  </thead>\n",
       "  <tbody>\n",
       "    <tr>\n",
       "      <th>0</th>\n",
       "      <td>0.0</td>\n",
       "      <td>0.0</td>\n",
       "      <td>0.0</td>\n",
       "      <td>0.0</td>\n",
       "      <td>0.0</td>\n",
       "      <td>0.0</td>\n",
       "      <td>0.0</td>\n",
       "      <td>0.0</td>\n",
       "      <td>0.0</td>\n",
       "      <td>0.0</td>\n",
       "      <td>...</td>\n",
       "      <td>0.0</td>\n",
       "      <td>0.0</td>\n",
       "      <td>0.0</td>\n",
       "      <td>0.0</td>\n",
       "      <td>0.0</td>\n",
       "      <td>0.0</td>\n",
       "      <td>0.0</td>\n",
       "      <td>0.0</td>\n",
       "      <td>0.0</td>\n",
       "      <td>0.0</td>\n",
       "    </tr>\n",
       "    <tr>\n",
       "      <th>1</th>\n",
       "      <td>0.0</td>\n",
       "      <td>0.0</td>\n",
       "      <td>0.0</td>\n",
       "      <td>0.0</td>\n",
       "      <td>0.0</td>\n",
       "      <td>0.0</td>\n",
       "      <td>0.0</td>\n",
       "      <td>0.0</td>\n",
       "      <td>0.0</td>\n",
       "      <td>0.0</td>\n",
       "      <td>...</td>\n",
       "      <td>0.0</td>\n",
       "      <td>0.0</td>\n",
       "      <td>0.0</td>\n",
       "      <td>0.0</td>\n",
       "      <td>0.0</td>\n",
       "      <td>0.0</td>\n",
       "      <td>0.0</td>\n",
       "      <td>0.0</td>\n",
       "      <td>0.0</td>\n",
       "      <td>0.0</td>\n",
       "    </tr>\n",
       "    <tr>\n",
       "      <th>2</th>\n",
       "      <td>0.0</td>\n",
       "      <td>0.0</td>\n",
       "      <td>0.0</td>\n",
       "      <td>0.0</td>\n",
       "      <td>0.0</td>\n",
       "      <td>0.0</td>\n",
       "      <td>0.0</td>\n",
       "      <td>0.0</td>\n",
       "      <td>0.0</td>\n",
       "      <td>0.0</td>\n",
       "      <td>...</td>\n",
       "      <td>0.0</td>\n",
       "      <td>0.0</td>\n",
       "      <td>0.0</td>\n",
       "      <td>0.0</td>\n",
       "      <td>0.0</td>\n",
       "      <td>0.0</td>\n",
       "      <td>0.0</td>\n",
       "      <td>0.0</td>\n",
       "      <td>0.0</td>\n",
       "      <td>0.0</td>\n",
       "    </tr>\n",
       "  </tbody>\n",
       "</table>\n",
       "<p>3 rows × 74 columns</p>\n",
       "</div>"
      ],
      "text/plain": [
       "   month  unemp_lag12  unempt5w_lag12  unemp5tp14w_lag12  unemp15ov...5_lag9  \\\n",
       "0    0.0          0.0             0.0                0.0                 0.0   \n",
       "1    0.0          0.0             0.0                0.0                 0.0   \n",
       "2    0.0          0.0             0.0                0.0                 0.0   \n",
       "\n",
       "   unemp15ov...6_lag9  oilimport_lag12  ngspot_lag3  hcpi_lag3  food_lag12  \\\n",
       "0                 0.0              0.0          0.0        0.0         0.0   \n",
       "1                 0.0              0.0          0.0        0.0         0.0   \n",
       "2                 0.0              0.0          0.0        0.0         0.0   \n",
       "\n",
       "   ...  g_new_cars_lag3  g_used_cars_lag3  g_cars_for_sale_lag3  \\\n",
       "0  ...              0.0               0.0                   0.0   \n",
       "1  ...              0.0               0.0                   0.0   \n",
       "2  ...              0.0               0.0                   0.0   \n",
       "\n",
       "   g_car_for_sale_near_me_lag3  g_best_new_cars_lag3  g_how_to_buy_a_car_lag9  \\\n",
       "0                          0.0                   0.0                      0.0   \n",
       "1                          0.0                   0.0                      0.0   \n",
       "2                          0.0                   0.0                      0.0   \n",
       "\n",
       "   g_dealership_near_me_lag3  g_dealerships_near_me_lag3  bin  m_num  \n",
       "0                        0.0                         0.0  0.0    0.0  \n",
       "1                        0.0                         0.0  0.0    0.0  \n",
       "2                        0.0                         0.0  0.0    0.0  \n",
       "\n",
       "[3 rows x 74 columns]"
      ]
     },
     "execution_count": 20,
     "metadata": {},
     "output_type": "execute_result"
    }
   ],
   "source": [
    "newdata"
   ]
  },
  {
   "cell_type": "code",
   "execution_count": 21,
   "id": "08aa3748",
   "metadata": {},
   "outputs": [
    {
     "ename": "ValueError",
     "evalue": "Input contains NaN, infinity or a value too large for dtype('float32').",
     "output_type": "error",
     "traceback": [
      "\u001b[1;31m---------------------------------------------------------------------------\u001b[0m",
      "\u001b[1;31mValueError\u001b[0m                                Traceback (most recent call last)",
      "\u001b[1;32m<ipython-input-21-c2eca49ad74e>\u001b[0m in \u001b[0;36m<module>\u001b[1;34m\u001b[0m\n\u001b[0;32m      1\u001b[0m \u001b[1;31m# predict\u001b[0m\u001b[1;33m\u001b[0m\u001b[1;33m\u001b[0m\u001b[1;33m\u001b[0m\u001b[0m\n\u001b[1;32m----> 2\u001b[1;33m \u001b[0mpred\u001b[0m \u001b[1;33m=\u001b[0m \u001b[0mtreemodel\u001b[0m\u001b[1;33m.\u001b[0m\u001b[0mpredict\u001b[0m\u001b[1;33m(\u001b[0m\u001b[0mnewdata\u001b[0m\u001b[1;33m)\u001b[0m\u001b[1;33m\u001b[0m\u001b[1;33m\u001b[0m\u001b[0m\n\u001b[0m\u001b[0;32m      3\u001b[0m \u001b[0mpred\u001b[0m\u001b[1;33m\u001b[0m\u001b[1;33m\u001b[0m\u001b[0m\n",
      "\u001b[1;32m~\\AppData\\Roaming\\Python\\Python37\\site-packages\\sklearn\\tree\\_classes.py\u001b[0m in \u001b[0;36mpredict\u001b[1;34m(self, X, check_input)\u001b[0m\n\u001b[0;32m    465\u001b[0m         \"\"\"\n\u001b[0;32m    466\u001b[0m         \u001b[0mcheck_is_fitted\u001b[0m\u001b[1;33m(\u001b[0m\u001b[0mself\u001b[0m\u001b[1;33m)\u001b[0m\u001b[1;33m\u001b[0m\u001b[1;33m\u001b[0m\u001b[0m\n\u001b[1;32m--> 467\u001b[1;33m         \u001b[0mX\u001b[0m \u001b[1;33m=\u001b[0m \u001b[0mself\u001b[0m\u001b[1;33m.\u001b[0m\u001b[0m_validate_X_predict\u001b[0m\u001b[1;33m(\u001b[0m\u001b[0mX\u001b[0m\u001b[1;33m,\u001b[0m \u001b[0mcheck_input\u001b[0m\u001b[1;33m)\u001b[0m\u001b[1;33m\u001b[0m\u001b[1;33m\u001b[0m\u001b[0m\n\u001b[0m\u001b[0;32m    468\u001b[0m         \u001b[0mproba\u001b[0m \u001b[1;33m=\u001b[0m \u001b[0mself\u001b[0m\u001b[1;33m.\u001b[0m\u001b[0mtree_\u001b[0m\u001b[1;33m.\u001b[0m\u001b[0mpredict\u001b[0m\u001b[1;33m(\u001b[0m\u001b[0mX\u001b[0m\u001b[1;33m)\u001b[0m\u001b[1;33m\u001b[0m\u001b[1;33m\u001b[0m\u001b[0m\n\u001b[0;32m    469\u001b[0m         \u001b[0mn_samples\u001b[0m \u001b[1;33m=\u001b[0m \u001b[0mX\u001b[0m\u001b[1;33m.\u001b[0m\u001b[0mshape\u001b[0m\u001b[1;33m[\u001b[0m\u001b[1;36m0\u001b[0m\u001b[1;33m]\u001b[0m\u001b[1;33m\u001b[0m\u001b[1;33m\u001b[0m\u001b[0m\n",
      "\u001b[1;32m~\\AppData\\Roaming\\Python\\Python37\\site-packages\\sklearn\\tree\\_classes.py\u001b[0m in \u001b[0;36m_validate_X_predict\u001b[1;34m(self, X, check_input)\u001b[0m\n\u001b[0;32m    431\u001b[0m         \u001b[1;34m\"\"\"Validate the training data on predict (probabilities).\"\"\"\u001b[0m\u001b[1;33m\u001b[0m\u001b[1;33m\u001b[0m\u001b[0m\n\u001b[0;32m    432\u001b[0m         \u001b[1;32mif\u001b[0m \u001b[0mcheck_input\u001b[0m\u001b[1;33m:\u001b[0m\u001b[1;33m\u001b[0m\u001b[1;33m\u001b[0m\u001b[0m\n\u001b[1;32m--> 433\u001b[1;33m             \u001b[0mX\u001b[0m \u001b[1;33m=\u001b[0m \u001b[0mself\u001b[0m\u001b[1;33m.\u001b[0m\u001b[0m_validate_data\u001b[0m\u001b[1;33m(\u001b[0m\u001b[0mX\u001b[0m\u001b[1;33m,\u001b[0m \u001b[0mdtype\u001b[0m\u001b[1;33m=\u001b[0m\u001b[0mDTYPE\u001b[0m\u001b[1;33m,\u001b[0m \u001b[0maccept_sparse\u001b[0m\u001b[1;33m=\u001b[0m\u001b[1;34m\"csr\"\u001b[0m\u001b[1;33m,\u001b[0m \u001b[0mreset\u001b[0m\u001b[1;33m=\u001b[0m\u001b[1;32mFalse\u001b[0m\u001b[1;33m)\u001b[0m\u001b[1;33m\u001b[0m\u001b[1;33m\u001b[0m\u001b[0m\n\u001b[0m\u001b[0;32m    434\u001b[0m             if issparse(X) and (\n\u001b[0;32m    435\u001b[0m                 \u001b[0mX\u001b[0m\u001b[1;33m.\u001b[0m\u001b[0mindices\u001b[0m\u001b[1;33m.\u001b[0m\u001b[0mdtype\u001b[0m \u001b[1;33m!=\u001b[0m \u001b[0mnp\u001b[0m\u001b[1;33m.\u001b[0m\u001b[0mintc\u001b[0m \u001b[1;32mor\u001b[0m \u001b[0mX\u001b[0m\u001b[1;33m.\u001b[0m\u001b[0mindptr\u001b[0m\u001b[1;33m.\u001b[0m\u001b[0mdtype\u001b[0m \u001b[1;33m!=\u001b[0m \u001b[0mnp\u001b[0m\u001b[1;33m.\u001b[0m\u001b[0mintc\u001b[0m\u001b[1;33m\u001b[0m\u001b[1;33m\u001b[0m\u001b[0m\n",
      "\u001b[1;32m~\\AppData\\Roaming\\Python\\Python37\\site-packages\\sklearn\\base.py\u001b[0m in \u001b[0;36m_validate_data\u001b[1;34m(self, X, y, reset, validate_separately, **check_params)\u001b[0m\n\u001b[0;32m    564\u001b[0m             \u001b[1;32mraise\u001b[0m \u001b[0mValueError\u001b[0m\u001b[1;33m(\u001b[0m\u001b[1;34m\"Validation should be done on X, y or both.\"\u001b[0m\u001b[1;33m)\u001b[0m\u001b[1;33m\u001b[0m\u001b[1;33m\u001b[0m\u001b[0m\n\u001b[0;32m    565\u001b[0m         \u001b[1;32melif\u001b[0m \u001b[1;32mnot\u001b[0m \u001b[0mno_val_X\u001b[0m \u001b[1;32mand\u001b[0m \u001b[0mno_val_y\u001b[0m\u001b[1;33m:\u001b[0m\u001b[1;33m\u001b[0m\u001b[1;33m\u001b[0m\u001b[0m\n\u001b[1;32m--> 566\u001b[1;33m             \u001b[0mX\u001b[0m \u001b[1;33m=\u001b[0m \u001b[0mcheck_array\u001b[0m\u001b[1;33m(\u001b[0m\u001b[0mX\u001b[0m\u001b[1;33m,\u001b[0m \u001b[1;33m**\u001b[0m\u001b[0mcheck_params\u001b[0m\u001b[1;33m)\u001b[0m\u001b[1;33m\u001b[0m\u001b[1;33m\u001b[0m\u001b[0m\n\u001b[0m\u001b[0;32m    567\u001b[0m             \u001b[0mout\u001b[0m \u001b[1;33m=\u001b[0m \u001b[0mX\u001b[0m\u001b[1;33m\u001b[0m\u001b[1;33m\u001b[0m\u001b[0m\n\u001b[0;32m    568\u001b[0m         \u001b[1;32melif\u001b[0m \u001b[0mno_val_X\u001b[0m \u001b[1;32mand\u001b[0m \u001b[1;32mnot\u001b[0m \u001b[0mno_val_y\u001b[0m\u001b[1;33m:\u001b[0m\u001b[1;33m\u001b[0m\u001b[1;33m\u001b[0m\u001b[0m\n",
      "\u001b[1;32m~\\AppData\\Roaming\\Python\\Python37\\site-packages\\sklearn\\utils\\validation.py\u001b[0m in \u001b[0;36mcheck_array\u001b[1;34m(array, accept_sparse, accept_large_sparse, dtype, order, copy, force_all_finite, ensure_2d, allow_nd, ensure_min_samples, ensure_min_features, estimator)\u001b[0m\n\u001b[0;32m    798\u001b[0m \u001b[1;33m\u001b[0m\u001b[0m\n\u001b[0;32m    799\u001b[0m         \u001b[1;32mif\u001b[0m \u001b[0mforce_all_finite\u001b[0m\u001b[1;33m:\u001b[0m\u001b[1;33m\u001b[0m\u001b[1;33m\u001b[0m\u001b[0m\n\u001b[1;32m--> 800\u001b[1;33m             \u001b[0m_assert_all_finite\u001b[0m\u001b[1;33m(\u001b[0m\u001b[0marray\u001b[0m\u001b[1;33m,\u001b[0m \u001b[0mallow_nan\u001b[0m\u001b[1;33m=\u001b[0m\u001b[0mforce_all_finite\u001b[0m \u001b[1;33m==\u001b[0m \u001b[1;34m\"allow-nan\"\u001b[0m\u001b[1;33m)\u001b[0m\u001b[1;33m\u001b[0m\u001b[1;33m\u001b[0m\u001b[0m\n\u001b[0m\u001b[0;32m    801\u001b[0m \u001b[1;33m\u001b[0m\u001b[0m\n\u001b[0;32m    802\u001b[0m     \u001b[1;32mif\u001b[0m \u001b[0mensure_min_samples\u001b[0m \u001b[1;33m>\u001b[0m \u001b[1;36m0\u001b[0m\u001b[1;33m:\u001b[0m\u001b[1;33m\u001b[0m\u001b[1;33m\u001b[0m\u001b[0m\n",
      "\u001b[1;32m~\\AppData\\Roaming\\Python\\Python37\\site-packages\\sklearn\\utils\\validation.py\u001b[0m in \u001b[0;36m_assert_all_finite\u001b[1;34m(X, allow_nan, msg_dtype)\u001b[0m\n\u001b[0;32m    114\u001b[0m             raise ValueError(\n\u001b[0;32m    115\u001b[0m                 msg_err.format(\n\u001b[1;32m--> 116\u001b[1;33m                     \u001b[0mtype_err\u001b[0m\u001b[1;33m,\u001b[0m \u001b[0mmsg_dtype\u001b[0m \u001b[1;32mif\u001b[0m \u001b[0mmsg_dtype\u001b[0m \u001b[1;32mis\u001b[0m \u001b[1;32mnot\u001b[0m \u001b[1;32mNone\u001b[0m \u001b[1;32melse\u001b[0m \u001b[0mX\u001b[0m\u001b[1;33m.\u001b[0m\u001b[0mdtype\u001b[0m\u001b[1;33m\u001b[0m\u001b[1;33m\u001b[0m\u001b[0m\n\u001b[0m\u001b[0;32m    117\u001b[0m                 )\n\u001b[0;32m    118\u001b[0m             )\n",
      "\u001b[1;31mValueError\u001b[0m: Input contains NaN, infinity or a value too large for dtype('float32')."
     ]
    }
   ],
   "source": [
    "# predict\n",
    "pred = treemodel.predict(newdata)\n",
    "pred"
   ]
  },
  {
   "cell_type": "code",
   "execution_count": 22,
   "id": "6a517cf7",
   "metadata": {},
   "outputs": [
    {
     "ename": "NameError",
     "evalue": "name 'pred' is not defined",
     "output_type": "error",
     "traceback": [
      "\u001b[1;31m---------------------------------------------------------------------------\u001b[0m",
      "\u001b[1;31mNameError\u001b[0m                                 Traceback (most recent call last)",
      "\u001b[1;32m<ipython-input-22-ee398848a762>\u001b[0m in \u001b[0;36m<module>\u001b[1;34m\u001b[0m\n\u001b[1;32m----> 1\u001b[1;33m \u001b[0mfull\u001b[0m \u001b[1;33m=\u001b[0m \u001b[0mbake_pred\u001b[0m\u001b[1;33m(\u001b[0m\u001b[0my_train\u001b[0m\u001b[1;33m,\u001b[0m \u001b[0my_test\u001b[0m\u001b[1;33m,\u001b[0m \u001b[0mpred\u001b[0m\u001b[1;33m)\u001b[0m\u001b[1;33m\u001b[0m\u001b[1;33m\u001b[0m\u001b[0m\n\u001b[0m",
      "\u001b[1;31mNameError\u001b[0m: name 'pred' is not defined"
     ]
    }
   ],
   "source": [
    "full = bake_pred(y_train, y_test, pred)"
   ]
  },
  {
   "cell_type": "code",
   "execution_count": 40,
   "id": "585dcc19",
   "metadata": {},
   "outputs": [],
   "source": [
    "full.to_csv(\"data/out/tree.csv\")"
   ]
  },
  {
   "cell_type": "code",
   "execution_count": 23,
   "id": "35ff341c",
   "metadata": {},
   "outputs": [
    {
     "ename": "NameError",
     "evalue": "name 'full' is not defined",
     "output_type": "error",
     "traceback": [
      "\u001b[1;31m---------------------------------------------------------------------------\u001b[0m",
      "\u001b[1;31mNameError\u001b[0m                                 Traceback (most recent call last)",
      "\u001b[1;32m<ipython-input-23-0ffdcad64e99>\u001b[0m in \u001b[0;36m<module>\u001b[1;34m\u001b[0m\n\u001b[1;32m----> 1\u001b[1;33m \u001b[0mfull\u001b[0m\u001b[1;33m\u001b[0m\u001b[1;33m\u001b[0m\u001b[0m\n\u001b[0m",
      "\u001b[1;31mNameError\u001b[0m: name 'full' is not defined"
     ]
    }
   ],
   "source": [
    "full"
   ]
  }
 ],
 "metadata": {
  "kernelspec": {
   "display_name": "Python 3",
   "language": "python",
   "name": "python3"
  },
  "language_info": {
   "codemirror_mode": {
    "name": "ipython",
    "version": 3
   },
   "file_extension": ".py",
   "mimetype": "text/x-python",
   "name": "python",
   "nbconvert_exporter": "python",
   "pygments_lexer": "ipython3",
   "version": "3.7.11"
  }
 },
 "nbformat": 4,
 "nbformat_minor": 5
}
