{
 "cells": [
  {
   "cell_type": "markdown",
   "id": "003feb52",
   "metadata": {},
   "source": [
    "Trees"
   ]
  },
  {
   "cell_type": "code",
   "execution_count": 1,
   "id": "77af4fcf",
   "metadata": {},
   "outputs": [],
   "source": [
    "import numpy as np\n",
    "import pandas as pd\n",
    "from pandas import DataFrame\n",
    "import os\n",
    "import re\n",
    "from sklearn.tree import DecisionTreeRegressor\n",
    "from sklearn.preprocessing import StandardScaler\n",
    "from sklearn.pipeline import Pipeline\n",
    "import sklearn.tree as tree\n",
    "import matplotlib.pyplot as plt\n",
    "from sklearn.metrics import mean_squared_error\n",
    "from sklearn.model_selection import train_test_split, GridSearchCV\n",
    "import pickle\n",
    "import warnings"
   ]
  },
  {
   "cell_type": "code",
   "execution_count": 2,
   "id": "b6fb5bb1",
   "metadata": {},
   "outputs": [],
   "source": [
    "os.getcwd()\n",
    "from thon.Choose import choose_features\n",
    "from thon.churn import rollover, save_model, tree_importance, plot_eval, bake_pred\n",
    "# data = choose_features(\"data/out/features.csv\", cv_range = (0, 10), save = False)"
   ]
  },
  {
   "cell_type": "code",
   "execution_count": 3,
   "id": "52491084",
   "metadata": {},
   "outputs": [
    {
     "data": {
      "text/plain": [
       "Index(['month', 'n', '10yinf_lag9', 'altsales_lag3', 'durable_lag9',\n",
       "       'g_car_lag3', 'g_new_cars_lag3', 'g_tips_for_buying_a_car_lag9',\n",
       "       'g_used_cars_lag3', 'kwhcost_lag3', 'localrent_lag3',\n",
       "       'localunemp_lag12', 'ltrucksa_lag3', 'miles_lag12', 'new_units_lag6',\n",
       "       'newhouses_lag3', 'ngf_lag12', 'ngspot_lag3', 'oil_lag9',\n",
       "       'sahmrule_lag9', 'sentiment_lag3', 'TM_lag12', 'TM_v_lag3',\n",
       "       'tmaturity_lag12', 'totalsa_lag3', 'unemployment_lag12', 'XOM_lag12',\n",
       "       'XOM_v_lag6'],\n",
       "      dtype='object')"
      ]
     },
     "execution_count": 3,
     "metadata": {},
     "output_type": "execute_result"
    }
   ],
   "source": [
    "# features are automatically trimmed\n",
    "data = pd.read_csv(\"data/out/features.csv\")\n",
    "data.columns"
   ]
  },
  {
   "cell_type": "code",
   "execution_count": 4,
   "id": "cffb3148",
   "metadata": {},
   "outputs": [],
   "source": [
    "# Training data\n",
    "X, y = data.drop(columns = ['n']), data['n']\n",
    "X_train, X_test, y_train, y_test = train_test_split(X, y, test_size = .30, shuffle = False)"
   ]
  },
  {
   "cell_type": "code",
   "execution_count": 5,
   "id": "480ec55d",
   "metadata": {},
   "outputs": [],
   "source": [
    "pipeline = Pipeline([\n",
    "    ('scaler', StandardScaler()),\n",
    "    ('model', DecisionTreeRegressor())\n",
    "])"
   ]
  },
  {
   "cell_type": "code",
   "execution_count": 25,
   "id": "54a51160",
   "metadata": {},
   "outputs": [],
   "source": [
    "search = GridSearchCV(pipeline,\n",
    "                      {'model__max_depth':np.arange(2, 20, 1),\n",
    "                      'model__ccp_alpha':np.arange(0, 5, 0.1)},                      \n",
    "                      cv = 5,\n",
    "                      scoring = 'neg_mean_squared_error',\n",
    "                      verbose = 1)"
   ]
  },
  {
   "cell_type": "code",
   "execution_count": 26,
   "id": "cc835cba",
   "metadata": {},
   "outputs": [
    {
     "name": "stdout",
     "output_type": "stream",
     "text": [
      "Fitting 5 folds for each of 900 candidates, totalling 4500 fits\n"
     ]
    },
    {
     "data": {
      "text/plain": [
       "GridSearchCV(cv=5,\n",
       "             estimator=Pipeline(steps=[('scaler', StandardScaler()),\n",
       "                                       ('model', DecisionTreeRegressor())]),\n",
       "             param_grid={'model__ccp_alpha': array([0. , 0.1, 0.2, 0.3, 0.4, 0.5, 0.6, 0.7, 0.8, 0.9, 1. , 1.1, 1.2,\n",
       "       1.3, 1.4, 1.5, 1.6, 1.7, 1.8, 1.9, 2. , 2.1, 2.2, 2.3, 2.4, 2.5,\n",
       "       2.6, 2.7, 2.8, 2.9, 3. , 3.1, 3.2, 3.3, 3.4, 3.5, 3.6, 3.7, 3.8,\n",
       "       3.9, 4. , 4.1, 4.2, 4.3, 4.4, 4.5, 4.6, 4.7, 4.8, 4.9]),\n",
       "                         'model__max_depth': array([ 2,  3,  4,  5,  6,  7,  8,  9, 10, 11, 12, 13, 14, 15, 16, 17, 18,\n",
       "       19])},\n",
       "             scoring='neg_mean_squared_error', verbose=1)"
      ]
     },
     "execution_count": 26,
     "metadata": {},
     "output_type": "execute_result"
    }
   ],
   "source": [
    "search.fit(X_train, y_train)"
   ]
  },
  {
   "cell_type": "code",
   "execution_count": 27,
   "id": "8fd9679a",
   "metadata": {},
   "outputs": [
    {
     "data": {
      "text/plain": [
       "{'model__ccp_alpha': 4.6000000000000005, 'model__max_depth': 2}"
      ]
     },
     "execution_count": 27,
     "metadata": {},
     "output_type": "execute_result"
    }
   ],
   "source": [
    "search.best_params_"
   ]
  },
  {
   "cell_type": "code",
   "execution_count": 28,
   "id": "fc71e389",
   "metadata": {},
   "outputs": [],
   "source": [
    "# Training data\n",
    "\n",
    "# Train the model\n",
    "treemodel = DecisionTreeRegressor(max_depth= search.best_params_.get(\"model__max_depth\"), \n",
    "                                  ccp_alpha = search.best_params_.get(\"model__ccp_alpha\"),\n",
    "                                  random_state = 0) \n",
    "treemodel.fit(X_train, y_train)\n",
    "\n",
    "# Store the fitted values as a time series with the same time index as\n",
    "# the training data\n",
    "train_pred = pd.Series(treemodel.predict(X_train), index=X_train.index)\n",
    "test_pred = pd.Series(treemodel.predict(X_test), index=X_test.index)"
   ]
  },
  {
   "cell_type": "code",
   "execution_count": 29,
   "id": "8079e4b8",
   "metadata": {},
   "outputs": [],
   "source": [
    "train_pred = train_pred.sort_index()\n",
    "y_train = y_train.sort_index()\n",
    "test_pred = test_pred.sort_index()\n",
    "y_test = y_test.sort_index()"
   ]
  },
  {
   "cell_type": "code",
   "execution_count": 30,
   "id": "ba9d6fd7",
   "metadata": {},
   "outputs": [
    {
     "name": "stdout",
     "output_type": "stream",
     "text": [
      "946.1959684125582\n"
     ]
    },
    {
     "data": {
      "image/png": "[encoded data removed]",
      "text/plain": [
       "<Figure size 432x288 with 1 Axes>"
      ]
     },
     "metadata": {
      "needs_background": "light"
     },
     "output_type": "display_data"
    }
   ],
   "source": [
    "plot_eval(train_pred, y_train)"
   ]
  },
  {
   "cell_type": "code",
   "execution_count": 31,
   "id": "756e782a",
   "metadata": {},
   "outputs": [
    {
     "name": "stdout",
     "output_type": "stream",
     "text": [
      "7465.533392501407\n"
     ]
    },
    {
     "data": {
      "image/png": "[encoded data removed]",
      "text/plain": [
       "<Figure size 432x288 with 1 Axes>"
      ]
     },
     "metadata": {
      "needs_background": "light"
     },
     "output_type": "display_data"
    }
   ],
   "source": [
    "plot_eval(test_pred, y_test)"
   ]
  },
  {
   "cell_type": "code",
   "execution_count": 32,
   "id": "04576922",
   "metadata": {},
   "outputs": [
    {
     "name": "stdout",
     "output_type": "stream",
     "text": [
      "|--- localrent_lag3 <= 273.61\n",
      "|   |--- month <= 25.50\n",
      "|   |   |--- value: [199.68]\n",
      "|   |--- month >  25.50\n",
      "|   |   |--- value: [264.41]\n",
      "|--- localrent_lag3 >  273.61\n",
      "|   |--- 10yinf_lag9 <= 2.08\n",
      "|   |   |--- value: [362.98]\n",
      "|   |--- 10yinf_lag9 >  2.08\n",
      "|   |   |--- value: [321.74]\n",
      "\n"
     ]
    }
   ],
   "source": [
    "text_representation = tree.export_text(treemodel, feature_names = list(X_train))\n",
    "print(text_representation)"
   ]
  },
  {
   "cell_type": "code",
   "execution_count": 33,
   "id": "a718036e",
   "metadata": {},
   "outputs": [],
   "source": [
    "# feature names used in model\n",
    "imp = get_tree_importance(treemodel, X_train.columns)"
   ]
  },
  {
   "cell_type": "code",
   "execution_count": 34,
   "id": "9bddf207",
   "metadata": {},
   "outputs": [],
   "source": [
    "save_model(treemodel, \"treemodel.pkl\")"
   ]
  },
  {
   "cell_type": "code",
   "execution_count": 35,
   "id": "6a60e4b2",
   "metadata": {},
   "outputs": [
    {
     "data": {
      "text/html": [
       "<div>\n",
       "<style scoped>\n",
       "    .dataframe tbody tr th:only-of-type {\n",
       "        vertical-align: middle;\n",
       "    }\n",
       "\n",
       "    .dataframe tbody tr th {\n",
       "        vertical-align: top;\n",
       "    }\n",
       "\n",
       "    .dataframe thead th {\n",
       "        text-align: right;\n",
       "    }\n",
       "</style>\n",
       "<table border=\"1\" class=\"dataframe\">\n",
       "  <thead>\n",
       "    <tr style=\"text-align: right;\">\n",
       "      <th></th>\n",
       "      <th>importance</th>\n",
       "    </tr>\n",
       "  </thead>\n",
       "  <tbody>\n",
       "    <tr>\n",
       "      <th>localrent_lag3</th>\n",
       "      <td>0.849805</td>\n",
       "    </tr>\n",
       "    <tr>\n",
       "      <th>month</th>\n",
       "      <td>0.094106</td>\n",
       "    </tr>\n",
       "    <tr>\n",
       "      <th>10yinf_lag9</th>\n",
       "      <td>0.056089</td>\n",
       "    </tr>\n",
       "    <tr>\n",
       "      <th>ngf_lag12</th>\n",
       "      <td>0.000000</td>\n",
       "    </tr>\n",
       "    <tr>\n",
       "      <th>XOM_lag12</th>\n",
       "      <td>0.000000</td>\n",
       "    </tr>\n",
       "    <tr>\n",
       "      <th>unemployment_lag12</th>\n",
       "      <td>0.000000</td>\n",
       "    </tr>\n",
       "    <tr>\n",
       "      <th>totalsa_lag3</th>\n",
       "      <td>0.000000</td>\n",
       "    </tr>\n",
       "    <tr>\n",
       "      <th>tmaturity_lag12</th>\n",
       "      <td>0.000000</td>\n",
       "    </tr>\n",
       "    <tr>\n",
       "      <th>TM_v_lag3</th>\n",
       "      <td>0.000000</td>\n",
       "    </tr>\n",
       "    <tr>\n",
       "      <th>TM_lag12</th>\n",
       "      <td>0.000000</td>\n",
       "    </tr>\n",
       "    <tr>\n",
       "      <th>sentiment_lag3</th>\n",
       "      <td>0.000000</td>\n",
       "    </tr>\n",
       "    <tr>\n",
       "      <th>sahmrule_lag9</th>\n",
       "      <td>0.000000</td>\n",
       "    </tr>\n",
       "    <tr>\n",
       "      <th>oil_lag9</th>\n",
       "      <td>0.000000</td>\n",
       "    </tr>\n",
       "    <tr>\n",
       "      <th>ngspot_lag3</th>\n",
       "      <td>0.000000</td>\n",
       "    </tr>\n",
       "    <tr>\n",
       "      <th>new_units_lag6</th>\n",
       "      <td>0.000000</td>\n",
       "    </tr>\n",
       "    <tr>\n",
       "      <th>newhouses_lag3</th>\n",
       "      <td>0.000000</td>\n",
       "    </tr>\n",
       "    <tr>\n",
       "      <th>miles_lag12</th>\n",
       "      <td>0.000000</td>\n",
       "    </tr>\n",
       "    <tr>\n",
       "      <th>ltrucksa_lag3</th>\n",
       "      <td>0.000000</td>\n",
       "    </tr>\n",
       "    <tr>\n",
       "      <th>localunemp_lag12</th>\n",
       "      <td>0.000000</td>\n",
       "    </tr>\n",
       "    <tr>\n",
       "      <th>kwhcost_lag3</th>\n",
       "      <td>0.000000</td>\n",
       "    </tr>\n",
       "    <tr>\n",
       "      <th>g_used_cars_lag3</th>\n",
       "      <td>0.000000</td>\n",
       "    </tr>\n",
       "    <tr>\n",
       "      <th>g_tips_for_buying_a_car_lag9</th>\n",
       "      <td>0.000000</td>\n",
       "    </tr>\n",
       "    <tr>\n",
       "      <th>g_new_cars_lag3</th>\n",
       "      <td>0.000000</td>\n",
       "    </tr>\n",
       "    <tr>\n",
       "      <th>g_car_lag3</th>\n",
       "      <td>0.000000</td>\n",
       "    </tr>\n",
       "    <tr>\n",
       "      <th>durable_lag9</th>\n",
       "      <td>0.000000</td>\n",
       "    </tr>\n",
       "    <tr>\n",
       "      <th>altsales_lag3</th>\n",
       "      <td>0.000000</td>\n",
       "    </tr>\n",
       "    <tr>\n",
       "      <th>XOM_v_lag6</th>\n",
       "      <td>0.000000</td>\n",
       "    </tr>\n",
       "  </tbody>\n",
       "</table>\n",
       "</div>"
      ],
      "text/plain": [
       "                              importance\n",
       "localrent_lag3                  0.849805\n",
       "month                           0.094106\n",
       "10yinf_lag9                     0.056089\n",
       "ngf_lag12                       0.000000\n",
       "XOM_lag12                       0.000000\n",
       "unemployment_lag12              0.000000\n",
       "totalsa_lag3                    0.000000\n",
       "tmaturity_lag12                 0.000000\n",
       "TM_v_lag3                       0.000000\n",
       "TM_lag12                        0.000000\n",
       "sentiment_lag3                  0.000000\n",
       "sahmrule_lag9                   0.000000\n",
       "oil_lag9                        0.000000\n",
       "ngspot_lag3                     0.000000\n",
       "new_units_lag6                  0.000000\n",
       "newhouses_lag3                  0.000000\n",
       "miles_lag12                     0.000000\n",
       "ltrucksa_lag3                   0.000000\n",
       "localunemp_lag12                0.000000\n",
       "kwhcost_lag3                    0.000000\n",
       "g_used_cars_lag3                0.000000\n",
       "g_tips_for_buying_a_car_lag9    0.000000\n",
       "g_new_cars_lag3                 0.000000\n",
       "g_car_lag3                      0.000000\n",
       "durable_lag9                    0.000000\n",
       "altsales_lag3                   0.000000\n",
       "XOM_v_lag6                      0.000000"
      ]
     },
     "execution_count": 35,
     "metadata": {},
     "output_type": "execute_result"
    }
   ],
   "source": [
    "imp.sort_values(\"importance\", ascending = False)"
   ]
  },
  {
   "cell_type": "code",
   "execution_count": 36,
   "id": "e2cd67ae",
   "metadata": {},
   "outputs": [
    {
     "name": "stderr",
     "output_type": "stream",
     "text": [
      "C:\\Program Files\\ArcGIS\\Pro\\bin\\Python\\envs\\arcgispro-py3\\lib\\site-packages\\ipykernel_launcher.py:17: UserWarning: Features are named incorrectly, they are led 3 months ahead of their label\n"
     ]
    }
   ],
   "source": [
    "newdata = rollover(imp)"
   ]
  },
  {
   "cell_type": "code",
   "execution_count": 37,
   "id": "adcdf65d",
   "metadata": {},
   "outputs": [
    {
     "data": {
      "text/html": [
       "<div>\n",
       "<style scoped>\n",
       "    .dataframe tbody tr th:only-of-type {\n",
       "        vertical-align: middle;\n",
       "    }\n",
       "\n",
       "    .dataframe tbody tr th {\n",
       "        vertical-align: top;\n",
       "    }\n",
       "\n",
       "    .dataframe thead th {\n",
       "        text-align: right;\n",
       "    }\n",
       "</style>\n",
       "<table border=\"1\" class=\"dataframe\">\n",
       "  <thead>\n",
       "    <tr style=\"text-align: right;\">\n",
       "      <th></th>\n",
       "      <th>month</th>\n",
       "      <th>10yinf_lag9</th>\n",
       "      <th>altsales_lag3</th>\n",
       "      <th>durable_lag9</th>\n",
       "      <th>g_car_lag3</th>\n",
       "      <th>g_new_cars_lag3</th>\n",
       "      <th>g_tips_for_buying_a_car_lag9</th>\n",
       "      <th>g_used_cars_lag3</th>\n",
       "      <th>kwhcost_lag3</th>\n",
       "      <th>localrent_lag3</th>\n",
       "      <th>...</th>\n",
       "      <th>oil_lag9</th>\n",
       "      <th>sahmrule_lag9</th>\n",
       "      <th>sentiment_lag3</th>\n",
       "      <th>TM_lag12</th>\n",
       "      <th>TM_v_lag3</th>\n",
       "      <th>tmaturity_lag12</th>\n",
       "      <th>totalsa_lag3</th>\n",
       "      <th>unemployment_lag12</th>\n",
       "      <th>XOM_lag12</th>\n",
       "      <th>XOM_v_lag6</th>\n",
       "    </tr>\n",
       "  </thead>\n",
       "  <tbody>\n",
       "    <tr>\n",
       "      <th>0</th>\n",
       "      <td>154</td>\n",
       "      <td>2.45</td>\n",
       "      <td>0</td>\n",
       "      <td>0</td>\n",
       "      <td>0</td>\n",
       "      <td>0</td>\n",
       "      <td>0</td>\n",
       "      <td>0</td>\n",
       "      <td>0</td>\n",
       "      <td>432.474</td>\n",
       "      <td>...</td>\n",
       "      <td>0</td>\n",
       "      <td>0</td>\n",
       "      <td>0</td>\n",
       "      <td>0</td>\n",
       "      <td>0</td>\n",
       "      <td>0</td>\n",
       "      <td>0</td>\n",
       "      <td>0</td>\n",
       "      <td>0</td>\n",
       "      <td>0</td>\n",
       "    </tr>\n",
       "    <tr>\n",
       "      <th>1</th>\n",
       "      <td>155</td>\n",
       "      <td>2.46</td>\n",
       "      <td>0</td>\n",
       "      <td>0</td>\n",
       "      <td>0</td>\n",
       "      <td>0</td>\n",
       "      <td>0</td>\n",
       "      <td>0</td>\n",
       "      <td>0</td>\n",
       "      <td>435.210</td>\n",
       "      <td>...</td>\n",
       "      <td>0</td>\n",
       "      <td>0</td>\n",
       "      <td>0</td>\n",
       "      <td>0</td>\n",
       "      <td>0</td>\n",
       "      <td>0</td>\n",
       "      <td>0</td>\n",
       "      <td>0</td>\n",
       "      <td>0</td>\n",
       "      <td>0</td>\n",
       "    </tr>\n",
       "    <tr>\n",
       "      <th>2</th>\n",
       "      <td>156</td>\n",
       "      <td>2.85</td>\n",
       "      <td>0</td>\n",
       "      <td>0</td>\n",
       "      <td>0</td>\n",
       "      <td>0</td>\n",
       "      <td>0</td>\n",
       "      <td>0</td>\n",
       "      <td>0</td>\n",
       "      <td>439.701</td>\n",
       "      <td>...</td>\n",
       "      <td>0</td>\n",
       "      <td>0</td>\n",
       "      <td>0</td>\n",
       "      <td>0</td>\n",
       "      <td>0</td>\n",
       "      <td>0</td>\n",
       "      <td>0</td>\n",
       "      <td>0</td>\n",
       "      <td>0</td>\n",
       "      <td>0</td>\n",
       "    </tr>\n",
       "  </tbody>\n",
       "</table>\n",
       "<p>3 rows × 27 columns</p>\n",
       "</div>"
      ],
      "text/plain": [
       "   month  10yinf_lag9  altsales_lag3  durable_lag9  g_car_lag3  \\\n",
       "0    154         2.45              0             0           0   \n",
       "1    155         2.46              0             0           0   \n",
       "2    156         2.85              0             0           0   \n",
       "\n",
       "   g_new_cars_lag3  g_tips_for_buying_a_car_lag9  g_used_cars_lag3  \\\n",
       "0                0                             0                 0   \n",
       "1                0                             0                 0   \n",
       "2                0                             0                 0   \n",
       "\n",
       "   kwhcost_lag3  localrent_lag3  ...  oil_lag9  sahmrule_lag9  sentiment_lag3  \\\n",
       "0             0         432.474  ...         0              0               0   \n",
       "1             0         435.210  ...         0              0               0   \n",
       "2             0         439.701  ...         0              0               0   \n",
       "\n",
       "   TM_lag12  TM_v_lag3  tmaturity_lag12  totalsa_lag3  unemployment_lag12  \\\n",
       "0         0          0                0             0                   0   \n",
       "1         0          0                0             0                   0   \n",
       "2         0          0                0             0                   0   \n",
       "\n",
       "   XOM_lag12  XOM_v_lag6  \n",
       "0          0           0  \n",
       "1          0           0  \n",
       "2          0           0  \n",
       "\n",
       "[3 rows x 27 columns]"
      ]
     },
     "execution_count": 37,
     "metadata": {},
     "output_type": "execute_result"
    }
   ],
   "source": [
    "newdata"
   ]
  },
  {
   "cell_type": "code",
   "execution_count": 38,
   "id": "f267c1e5",
   "metadata": {},
   "outputs": [
    {
     "data": {
      "text/plain": [
       "array([321.73913043, 321.73913043, 321.73913043])"
      ]
     },
     "execution_count": 38,
     "metadata": {},
     "output_type": "execute_result"
    }
   ],
   "source": [
    "# predict\n",
    "pred = treemodel.predict(newdata)\n",
    "pred"
   ]
  },
  {
   "cell_type": "code",
   "execution_count": 39,
   "id": "b27b9bc2",
   "metadata": {},
   "outputs": [],
   "source": [
    "full = bake_pred(y_train, y_test, pred)"
   ]
  },
  {
   "cell_type": "code",
   "execution_count": 40,
   "id": "f69fb53b",
   "metadata": {},
   "outputs": [],
   "source": [
    "full.to_csv(\"data/out/tree.csv\")"
   ]
  },
  {
   "cell_type": "code",
   "execution_count": 41,
   "id": "b395c29a",
   "metadata": {},
   "outputs": [
    {
     "data": {
      "text/html": [
       "<div>\n",
       "<style scoped>\n",
       "    .dataframe tbody tr th:only-of-type {\n",
       "        vertical-align: middle;\n",
       "    }\n",
       "\n",
       "    .dataframe tbody tr th {\n",
       "        vertical-align: top;\n",
       "    }\n",
       "\n",
       "    .dataframe thead th {\n",
       "        text-align: right;\n",
       "    }\n",
       "</style>\n",
       "<table border=\"1\" class=\"dataframe\">\n",
       "  <thead>\n",
       "    <tr style=\"text-align: right;\">\n",
       "      <th></th>\n",
       "      <th>n</th>\n",
       "      <th>group</th>\n",
       "    </tr>\n",
       "  </thead>\n",
       "  <tbody>\n",
       "    <tr>\n",
       "      <th>0</th>\n",
       "      <td>153.00000</td>\n",
       "      <td>train</td>\n",
       "    </tr>\n",
       "    <tr>\n",
       "      <th>1</th>\n",
       "      <td>169.00000</td>\n",
       "      <td>train</td>\n",
       "    </tr>\n",
       "    <tr>\n",
       "      <th>2</th>\n",
       "      <td>184.00000</td>\n",
       "      <td>train</td>\n",
       "    </tr>\n",
       "    <tr>\n",
       "      <th>3</th>\n",
       "      <td>183.00000</td>\n",
       "      <td>train</td>\n",
       "    </tr>\n",
       "    <tr>\n",
       "      <th>4</th>\n",
       "      <td>218.00000</td>\n",
       "      <td>train</td>\n",
       "    </tr>\n",
       "    <tr>\n",
       "      <th>...</th>\n",
       "      <td>...</td>\n",
       "      <td>...</td>\n",
       "    </tr>\n",
       "    <tr>\n",
       "      <th>151</th>\n",
       "      <td>299.00000</td>\n",
       "      <td>test</td>\n",
       "    </tr>\n",
       "    <tr>\n",
       "      <th>152</th>\n",
       "      <td>261.00000</td>\n",
       "      <td>test</td>\n",
       "    </tr>\n",
       "    <tr>\n",
       "      <th>153</th>\n",
       "      <td>321.73913</td>\n",
       "      <td>pred</td>\n",
       "    </tr>\n",
       "    <tr>\n",
       "      <th>154</th>\n",
       "      <td>321.73913</td>\n",
       "      <td>pred</td>\n",
       "    </tr>\n",
       "    <tr>\n",
       "      <th>155</th>\n",
       "      <td>321.73913</td>\n",
       "      <td>pred</td>\n",
       "    </tr>\n",
       "  </tbody>\n",
       "</table>\n",
       "<p>156 rows × 2 columns</p>\n",
       "</div>"
      ],
      "text/plain": [
       "             n  group\n",
       "0    153.00000  train\n",
       "1    169.00000  train\n",
       "2    184.00000  train\n",
       "3    183.00000  train\n",
       "4    218.00000  train\n",
       "..         ...    ...\n",
       "151  299.00000   test\n",
       "152  261.00000   test\n",
       "153  321.73913   pred\n",
       "154  321.73913   pred\n",
       "155  321.73913   pred\n",
       "\n",
       "[156 rows x 2 columns]"
      ]
     },
     "execution_count": 41,
     "metadata": {},
     "output_type": "execute_result"
    }
   ],
   "source": [
    "full"
   ]
  }
 ],
 "metadata": {
  "kernelspec": {
   "display_name": "Python 3",
   "language": "python",
   "name": "python3"
  },
  "language_info": {
   "codemirror_mode": {
    "name": "ipython",
    "version": 3
   },
   "file_extension": ".py",
   "mimetype": "text/x-python",
   "name": "python",
   "nbconvert_exporter": "python",
   "pygments_lexer": "ipython3",
   "version": "3.7.11"
  }
 },
 "nbformat": 4,
 "nbformat_minor": 5
}
